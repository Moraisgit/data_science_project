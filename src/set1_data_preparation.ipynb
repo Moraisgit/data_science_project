{
 "cells": [
  {
   "cell_type": "markdown",
   "metadata": {},
   "source": [
    "# **Data Preparation**"
   ]
  },
  {
   "cell_type": "markdown",
   "metadata": {},
   "source": [
    "## **Variable Encoding**"
   ]
  },
  {
   "cell_type": "code",
   "execution_count": 1,
   "metadata": {},
   "outputs": [
    {
     "data": {
      "text/html": [
       "<div>\n",
       "<style scoped>\n",
       "    .dataframe tbody tr th:only-of-type {\n",
       "        vertical-align: middle;\n",
       "    }\n",
       "\n",
       "    .dataframe tbody tr th {\n",
       "        vertical-align: top;\n",
       "    }\n",
       "\n",
       "    .dataframe thead th {\n",
       "        text-align: right;\n",
       "    }\n",
       "</style>\n",
       "<table border=\"1\" class=\"dataframe\">\n",
       "  <thead>\n",
       "    <tr style=\"text-align: right;\">\n",
       "      <th></th>\n",
       "      <th>ARREST_DATE</th>\n",
       "      <th>PD_CD</th>\n",
       "      <th>PD_DESC</th>\n",
       "      <th>KY_CD</th>\n",
       "      <th>OFNS_DESC</th>\n",
       "      <th>LAW_CODE</th>\n",
       "      <th>LAW_CAT_CD</th>\n",
       "      <th>ARREST_BORO</th>\n",
       "      <th>ARREST_PRECINCT</th>\n",
       "      <th>JURISDICTION_CODE</th>\n",
       "      <th>AGE_GROUP</th>\n",
       "      <th>PERP_SEX</th>\n",
       "      <th>PERP_RACE</th>\n",
       "      <th>X_COORD_CD</th>\n",
       "      <th>Y_COORD_CD</th>\n",
       "      <th>Latitude</th>\n",
       "      <th>Longitude</th>\n",
       "    </tr>\n",
       "    <tr>\n",
       "      <th>ARREST_KEY</th>\n",
       "      <th></th>\n",
       "      <th></th>\n",
       "      <th></th>\n",
       "      <th></th>\n",
       "      <th></th>\n",
       "      <th></th>\n",
       "      <th></th>\n",
       "      <th></th>\n",
       "      <th></th>\n",
       "      <th></th>\n",
       "      <th></th>\n",
       "      <th></th>\n",
       "      <th></th>\n",
       "      <th></th>\n",
       "      <th></th>\n",
       "      <th></th>\n",
       "      <th></th>\n",
       "    </tr>\n",
       "  </thead>\n",
       "  <tbody>\n",
       "    <tr>\n",
       "      <th>32311380</th>\n",
       "      <td>06/18/2007</td>\n",
       "      <td>511.0</td>\n",
       "      <td>CONTROLLED SUBSTANCE, POSSESSION 7</td>\n",
       "      <td>235.0</td>\n",
       "      <td>DANGEROUS DRUGS</td>\n",
       "      <td>PL 2200300</td>\n",
       "      <td>0</td>\n",
       "      <td>1.0</td>\n",
       "      <td>27</td>\n",
       "      <td>1.0</td>\n",
       "      <td>18-24</td>\n",
       "      <td>0</td>\n",
       "      <td>1</td>\n",
       "      <td>NaN</td>\n",
       "      <td>NaN</td>\n",
       "      <td>NaN</td>\n",
       "      <td>NaN</td>\n",
       "    </tr>\n",
       "    <tr>\n",
       "      <th>192799737</th>\n",
       "      <td>01/26/2019</td>\n",
       "      <td>177.0</td>\n",
       "      <td>SEXUAL ABUSE</td>\n",
       "      <td>116.0</td>\n",
       "      <td>SEX CRIMES</td>\n",
       "      <td>PL 1306503</td>\n",
       "      <td>1</td>\n",
       "      <td>2.0</td>\n",
       "      <td>25</td>\n",
       "      <td>0.0</td>\n",
       "      <td>45-64</td>\n",
       "      <td>0</td>\n",
       "      <td>1</td>\n",
       "      <td>1000555.0</td>\n",
       "      <td>230994.0</td>\n",
       "      <td>40.800694</td>\n",
       "      <td>-73.941109</td>\n",
       "    </tr>\n",
       "    <tr>\n",
       "      <th>193260691</th>\n",
       "      <td>02/06/2019</td>\n",
       "      <td>NaN</td>\n",
       "      <td>NaN</td>\n",
       "      <td>NaN</td>\n",
       "      <td>NaN</td>\n",
       "      <td>PL 2203400</td>\n",
       "      <td>1</td>\n",
       "      <td>2.0</td>\n",
       "      <td>14</td>\n",
       "      <td>0.0</td>\n",
       "      <td>25-44</td>\n",
       "      <td>0</td>\n",
       "      <td>0</td>\n",
       "      <td>986685.0</td>\n",
       "      <td>215375.0</td>\n",
       "      <td>40.757839</td>\n",
       "      <td>-73.991212</td>\n",
       "    </tr>\n",
       "    <tr>\n",
       "      <th>149117452</th>\n",
       "      <td>01/06/2016</td>\n",
       "      <td>153.0</td>\n",
       "      <td>RAPE 3</td>\n",
       "      <td>104.0</td>\n",
       "      <td>RAPE</td>\n",
       "      <td>PL 1302503</td>\n",
       "      <td>1</td>\n",
       "      <td>3.0</td>\n",
       "      <td>67</td>\n",
       "      <td>0.0</td>\n",
       "      <td>25-44</td>\n",
       "      <td>0</td>\n",
       "      <td>1</td>\n",
       "      <td>998032.0</td>\n",
       "      <td>175598.0</td>\n",
       "      <td>40.648650</td>\n",
       "      <td>-73.950336</td>\n",
       "    </tr>\n",
       "    <tr>\n",
       "      <th>190049060</th>\n",
       "      <td>11/15/2018</td>\n",
       "      <td>157.0</td>\n",
       "      <td>RAPE 1</td>\n",
       "      <td>104.0</td>\n",
       "      <td>RAPE</td>\n",
       "      <td>PL 1303501</td>\n",
       "      <td>1</td>\n",
       "      <td>3.0</td>\n",
       "      <td>77</td>\n",
       "      <td>0.0</td>\n",
       "      <td>25-44</td>\n",
       "      <td>0</td>\n",
       "      <td>1</td>\n",
       "      <td>1003606.0</td>\n",
       "      <td>185050.0</td>\n",
       "      <td>40.674583</td>\n",
       "      <td>-73.930222</td>\n",
       "    </tr>\n",
       "  </tbody>\n",
       "</table>\n",
       "</div>"
      ],
      "text/plain": [
       "           ARREST_DATE  PD_CD                             PD_DESC  KY_CD  \\\n",
       "ARREST_KEY                                                                 \n",
       "32311380    06/18/2007  511.0  CONTROLLED SUBSTANCE, POSSESSION 7  235.0   \n",
       "192799737   01/26/2019  177.0                        SEXUAL ABUSE  116.0   \n",
       "193260691   02/06/2019    NaN                                 NaN    NaN   \n",
       "149117452   01/06/2016  153.0                              RAPE 3  104.0   \n",
       "190049060   11/15/2018  157.0                              RAPE 1  104.0   \n",
       "\n",
       "                  OFNS_DESC    LAW_CODE  LAW_CAT_CD  ARREST_BORO  \\\n",
       "ARREST_KEY                                                         \n",
       "32311380    DANGEROUS DRUGS  PL 2200300           0          1.0   \n",
       "192799737        SEX CRIMES  PL 1306503           1          2.0   \n",
       "193260691               NaN  PL 2203400           1          2.0   \n",
       "149117452              RAPE  PL 1302503           1          3.0   \n",
       "190049060              RAPE  PL 1303501           1          3.0   \n",
       "\n",
       "            ARREST_PRECINCT  JURISDICTION_CODE AGE_GROUP  PERP_SEX  PERP_RACE  \\\n",
       "ARREST_KEY                                                                      \n",
       "32311380                 27                1.0     18-24         0          1   \n",
       "192799737                25                0.0     45-64         0          1   \n",
       "193260691                14                0.0     25-44         0          0   \n",
       "149117452                67                0.0     25-44         0          1   \n",
       "190049060                77                0.0     25-44         0          1   \n",
       "\n",
       "            X_COORD_CD  Y_COORD_CD   Latitude  Longitude  \n",
       "ARREST_KEY                                                \n",
       "32311380           NaN         NaN        NaN        NaN  \n",
       "192799737    1000555.0    230994.0  40.800694 -73.941109  \n",
       "193260691     986685.0    215375.0  40.757839 -73.991212  \n",
       "149117452     998032.0    175598.0  40.648650 -73.950336  \n",
       "190049060    1003606.0    185050.0  40.674583 -73.930222  "
      ]
     },
     "execution_count": 1,
     "metadata": {},
     "output_type": "execute_result"
    }
   ],
   "source": [
    "from pandas import read_csv, DataFrame\n",
    "from dslabs_functions import get_variable_types, encode_cyclic_variables, dummify\n",
    "\n",
    "data: DataFrame = read_csv(\"class_ny_arrests.csv\", index_col=\"ARREST_KEY\", na_values=\"\")\n",
    "\n",
    "arrest_boro: dict[str, int] = {\"Q\": 1, \"M\": 2, \"K\": 3, \"B\": 4, \"S\": 5}\n",
    "perp_races: dict[str, int] = {\"UNKNOWN\": 0, \"BLACK\": 1, \"WHITE HISPANIC\": 2, \"BLACK HISPANIC\": 3,\n",
    "                              \"WHITE\": 4, \"ASIAN / PACIFIC ISLANDER\": 5, \"AMERICAN INDIAN/ALASKAN NATIVE\": 6, \"OTHER\": 7}\n",
    "law_cat_cd: dict[str, int] = {\"M\": 0, \"F\": 1}\n",
    "\n",
    "encoding: dict[str, dict[str, int]] = {\n",
    "    \"ARREST_BORO\": arrest_boro,\n",
    "    \"PERP_RACE\": perp_races,\n",
    "    \"LAW_CAT_CD\": law_cat_cd,\n",
    "    \"PERP_SEX\": law_cat_cd,\n",
    "}\n",
    "data: DataFrame = data.replace(encoding, inplace=False)\n",
    "data.head()"
   ]
  },
  {
   "cell_type": "code",
   "execution_count": 2,
   "metadata": {},
   "outputs": [
    {
     "data": {
      "text/html": [
       "<div>\n",
       "<style scoped>\n",
       "    .dataframe tbody tr th:only-of-type {\n",
       "        vertical-align: middle;\n",
       "    }\n",
       "\n",
       "    .dataframe tbody tr th {\n",
       "        vertical-align: top;\n",
       "    }\n",
       "\n",
       "    .dataframe thead th {\n",
       "        text-align: right;\n",
       "    }\n",
       "</style>\n",
       "<table border=\"1\" class=\"dataframe\">\n",
       "  <thead>\n",
       "    <tr style=\"text-align: right;\">\n",
       "      <th></th>\n",
       "      <th>ARREST_DATE</th>\n",
       "      <th>PD_CD</th>\n",
       "      <th>PD_DESC</th>\n",
       "      <th>KY_CD</th>\n",
       "      <th>OFNS_DESC</th>\n",
       "      <th>LAW_CODE</th>\n",
       "      <th>LAW_CAT_CD</th>\n",
       "      <th>ARREST_BORO</th>\n",
       "      <th>ARREST_PRECINCT</th>\n",
       "      <th>JURISDICTION_CODE</th>\n",
       "      <th>AGE_GROUP</th>\n",
       "      <th>PERP_SEX</th>\n",
       "      <th>PERP_RACE</th>\n",
       "      <th>X_COORD_CD</th>\n",
       "      <th>Y_COORD_CD</th>\n",
       "      <th>Latitude</th>\n",
       "      <th>Longitude</th>\n",
       "    </tr>\n",
       "    <tr>\n",
       "      <th>ARREST_KEY</th>\n",
       "      <th></th>\n",
       "      <th></th>\n",
       "      <th></th>\n",
       "      <th></th>\n",
       "      <th></th>\n",
       "      <th></th>\n",
       "      <th></th>\n",
       "      <th></th>\n",
       "      <th></th>\n",
       "      <th></th>\n",
       "      <th></th>\n",
       "      <th></th>\n",
       "      <th></th>\n",
       "      <th></th>\n",
       "      <th></th>\n",
       "      <th></th>\n",
       "      <th></th>\n",
       "    </tr>\n",
       "  </thead>\n",
       "  <tbody>\n",
       "    <tr>\n",
       "      <th>32311380</th>\n",
       "      <td>06/18/2007</td>\n",
       "      <td>511.0</td>\n",
       "      <td>CONTROLLED SUBSTANCE, POSSESSION 7</td>\n",
       "      <td>235.0</td>\n",
       "      <td>DANGEROUS DRUGS</td>\n",
       "      <td>PL 2200300</td>\n",
       "      <td>0</td>\n",
       "      <td>1.0</td>\n",
       "      <td>27</td>\n",
       "      <td>1.0</td>\n",
       "      <td>2</td>\n",
       "      <td>0</td>\n",
       "      <td>1</td>\n",
       "      <td>NaN</td>\n",
       "      <td>NaN</td>\n",
       "      <td>NaN</td>\n",
       "      <td>NaN</td>\n",
       "    </tr>\n",
       "    <tr>\n",
       "      <th>192799737</th>\n",
       "      <td>01/26/2019</td>\n",
       "      <td>177.0</td>\n",
       "      <td>SEXUAL ABUSE</td>\n",
       "      <td>116.0</td>\n",
       "      <td>SEX CRIMES</td>\n",
       "      <td>PL 1306503</td>\n",
       "      <td>1</td>\n",
       "      <td>2.0</td>\n",
       "      <td>25</td>\n",
       "      <td>0.0</td>\n",
       "      <td>4</td>\n",
       "      <td>0</td>\n",
       "      <td>1</td>\n",
       "      <td>1000555.0</td>\n",
       "      <td>230994.0</td>\n",
       "      <td>40.800694</td>\n",
       "      <td>-73.941109</td>\n",
       "    </tr>\n",
       "    <tr>\n",
       "      <th>193260691</th>\n",
       "      <td>02/06/2019</td>\n",
       "      <td>NaN</td>\n",
       "      <td>NaN</td>\n",
       "      <td>NaN</td>\n",
       "      <td>NaN</td>\n",
       "      <td>PL 2203400</td>\n",
       "      <td>1</td>\n",
       "      <td>2.0</td>\n",
       "      <td>14</td>\n",
       "      <td>0.0</td>\n",
       "      <td>3</td>\n",
       "      <td>0</td>\n",
       "      <td>0</td>\n",
       "      <td>986685.0</td>\n",
       "      <td>215375.0</td>\n",
       "      <td>40.757839</td>\n",
       "      <td>-73.991212</td>\n",
       "    </tr>\n",
       "    <tr>\n",
       "      <th>149117452</th>\n",
       "      <td>01/06/2016</td>\n",
       "      <td>153.0</td>\n",
       "      <td>RAPE 3</td>\n",
       "      <td>104.0</td>\n",
       "      <td>RAPE</td>\n",
       "      <td>PL 1302503</td>\n",
       "      <td>1</td>\n",
       "      <td>3.0</td>\n",
       "      <td>67</td>\n",
       "      <td>0.0</td>\n",
       "      <td>3</td>\n",
       "      <td>0</td>\n",
       "      <td>1</td>\n",
       "      <td>998032.0</td>\n",
       "      <td>175598.0</td>\n",
       "      <td>40.648650</td>\n",
       "      <td>-73.950336</td>\n",
       "    </tr>\n",
       "    <tr>\n",
       "      <th>190049060</th>\n",
       "      <td>11/15/2018</td>\n",
       "      <td>157.0</td>\n",
       "      <td>RAPE 1</td>\n",
       "      <td>104.0</td>\n",
       "      <td>RAPE</td>\n",
       "      <td>PL 1303501</td>\n",
       "      <td>1</td>\n",
       "      <td>3.0</td>\n",
       "      <td>77</td>\n",
       "      <td>0.0</td>\n",
       "      <td>3</td>\n",
       "      <td>0</td>\n",
       "      <td>1</td>\n",
       "      <td>1003606.0</td>\n",
       "      <td>185050.0</td>\n",
       "      <td>40.674583</td>\n",
       "      <td>-73.930222</td>\n",
       "    </tr>\n",
       "  </tbody>\n",
       "</table>\n",
       "</div>"
      ],
      "text/plain": [
       "           ARREST_DATE  PD_CD                             PD_DESC  KY_CD  \\\n",
       "ARREST_KEY                                                                 \n",
       "32311380    06/18/2007  511.0  CONTROLLED SUBSTANCE, POSSESSION 7  235.0   \n",
       "192799737   01/26/2019  177.0                        SEXUAL ABUSE  116.0   \n",
       "193260691   02/06/2019    NaN                                 NaN    NaN   \n",
       "149117452   01/06/2016  153.0                              RAPE 3  104.0   \n",
       "190049060   11/15/2018  157.0                              RAPE 1  104.0   \n",
       "\n",
       "                  OFNS_DESC    LAW_CODE  LAW_CAT_CD  ARREST_BORO  \\\n",
       "ARREST_KEY                                                         \n",
       "32311380    DANGEROUS DRUGS  PL 2200300           0          1.0   \n",
       "192799737        SEX CRIMES  PL 1306503           1          2.0   \n",
       "193260691               NaN  PL 2203400           1          2.0   \n",
       "149117452              RAPE  PL 1302503           1          3.0   \n",
       "190049060              RAPE  PL 1303501           1          3.0   \n",
       "\n",
       "            ARREST_PRECINCT  JURISDICTION_CODE  AGE_GROUP  PERP_SEX  \\\n",
       "ARREST_KEY                                                            \n",
       "32311380                 27                1.0          2         0   \n",
       "192799737                25                0.0          4         0   \n",
       "193260691                14                0.0          3         0   \n",
       "149117452                67                0.0          3         0   \n",
       "190049060                77                0.0          3         0   \n",
       "\n",
       "            PERP_RACE  X_COORD_CD  Y_COORD_CD   Latitude  Longitude  \n",
       "ARREST_KEY                                                           \n",
       "32311380            1         NaN         NaN        NaN        NaN  \n",
       "192799737           1   1000555.0    230994.0  40.800694 -73.941109  \n",
       "193260691           0    986685.0    215375.0  40.757839 -73.991212  \n",
       "149117452           1    998032.0    175598.0  40.648650 -73.950336  \n",
       "190049060           1   1003606.0    185050.0  40.674583 -73.930222  "
      ]
     },
     "execution_count": 2,
     "metadata": {},
     "output_type": "execute_result"
    }
   ],
   "source": [
    "age_group_mapping = {\n",
    "    '<18': 1,\n",
    "    '18-24': 2,\n",
    "    '25-44': 3,\n",
    "    '45-64': 4,\n",
    "    '65+': 5,\n",
    "    'UNKNOWN': 0\n",
    "}\n",
    "\n",
    "data[\"AGE_GROUP\"] = data[\"AGE_GROUP\"].apply(\n",
    "    lambda x: age_group_mapping.get(x, 0)  # Map valid groups; default to 0 for invalid\n",
    ")\n",
    "\n",
    "data.head()"
   ]
  },
  {
   "cell_type": "code",
   "execution_count": 3,
   "metadata": {},
   "outputs": [
    {
     "data": {
      "text/html": [
       "<div>\n",
       "<style scoped>\n",
       "    .dataframe tbody tr th:only-of-type {\n",
       "        vertical-align: middle;\n",
       "    }\n",
       "\n",
       "    .dataframe tbody tr th {\n",
       "        vertical-align: top;\n",
       "    }\n",
       "\n",
       "    .dataframe thead th {\n",
       "        text-align: right;\n",
       "    }\n",
       "</style>\n",
       "<table border=\"1\" class=\"dataframe\">\n",
       "  <thead>\n",
       "    <tr style=\"text-align: right;\">\n",
       "      <th></th>\n",
       "      <th>PD_CD</th>\n",
       "      <th>PD_DESC</th>\n",
       "      <th>KY_CD</th>\n",
       "      <th>OFNS_DESC</th>\n",
       "      <th>LAW_CODE</th>\n",
       "      <th>LAW_CAT_CD</th>\n",
       "      <th>ARREST_BORO</th>\n",
       "      <th>ARREST_PRECINCT</th>\n",
       "      <th>JURISDICTION_CODE</th>\n",
       "      <th>AGE_GROUP</th>\n",
       "      <th>PERP_SEX</th>\n",
       "      <th>PERP_RACE</th>\n",
       "      <th>X_COORD_CD</th>\n",
       "      <th>Y_COORD_CD</th>\n",
       "      <th>Latitude</th>\n",
       "      <th>Longitude</th>\n",
       "      <th>Year</th>\n",
       "      <th>Day</th>\n",
       "      <th>Month_sin</th>\n",
       "      <th>Month_cos</th>\n",
       "    </tr>\n",
       "    <tr>\n",
       "      <th>ARREST_KEY</th>\n",
       "      <th></th>\n",
       "      <th></th>\n",
       "      <th></th>\n",
       "      <th></th>\n",
       "      <th></th>\n",
       "      <th></th>\n",
       "      <th></th>\n",
       "      <th></th>\n",
       "      <th></th>\n",
       "      <th></th>\n",
       "      <th></th>\n",
       "      <th></th>\n",
       "      <th></th>\n",
       "      <th></th>\n",
       "      <th></th>\n",
       "      <th></th>\n",
       "      <th></th>\n",
       "      <th></th>\n",
       "      <th></th>\n",
       "      <th></th>\n",
       "    </tr>\n",
       "  </thead>\n",
       "  <tbody>\n",
       "    <tr>\n",
       "      <th>32311380</th>\n",
       "      <td>511.0</td>\n",
       "      <td>CONTROLLED SUBSTANCE, POSSESSION 7</td>\n",
       "      <td>235.0</td>\n",
       "      <td>DANGEROUS DRUGS</td>\n",
       "      <td>PL 2200300</td>\n",
       "      <td>0</td>\n",
       "      <td>1.0</td>\n",
       "      <td>27</td>\n",
       "      <td>1.0</td>\n",
       "      <td>2</td>\n",
       "      <td>0</td>\n",
       "      <td>1</td>\n",
       "      <td>NaN</td>\n",
       "      <td>NaN</td>\n",
       "      <td>NaN</td>\n",
       "      <td>NaN</td>\n",
       "      <td>2007</td>\n",
       "      <td>18</td>\n",
       "      <td>0.000</td>\n",
       "      <td>-1.000</td>\n",
       "    </tr>\n",
       "    <tr>\n",
       "      <th>192799737</th>\n",
       "      <td>177.0</td>\n",
       "      <td>SEXUAL ABUSE</td>\n",
       "      <td>116.0</td>\n",
       "      <td>SEX CRIMES</td>\n",
       "      <td>PL 1306503</td>\n",
       "      <td>1</td>\n",
       "      <td>2.0</td>\n",
       "      <td>25</td>\n",
       "      <td>0.0</td>\n",
       "      <td>4</td>\n",
       "      <td>0</td>\n",
       "      <td>1</td>\n",
       "      <td>1000555.0</td>\n",
       "      <td>230994.0</td>\n",
       "      <td>40.800694</td>\n",
       "      <td>-73.941109</td>\n",
       "      <td>2019</td>\n",
       "      <td>26</td>\n",
       "      <td>0.500</td>\n",
       "      <td>0.866</td>\n",
       "    </tr>\n",
       "    <tr>\n",
       "      <th>193260691</th>\n",
       "      <td>NaN</td>\n",
       "      <td>NaN</td>\n",
       "      <td>NaN</td>\n",
       "      <td>NaN</td>\n",
       "      <td>PL 2203400</td>\n",
       "      <td>1</td>\n",
       "      <td>2.0</td>\n",
       "      <td>14</td>\n",
       "      <td>0.0</td>\n",
       "      <td>3</td>\n",
       "      <td>0</td>\n",
       "      <td>0</td>\n",
       "      <td>986685.0</td>\n",
       "      <td>215375.0</td>\n",
       "      <td>40.757839</td>\n",
       "      <td>-73.991212</td>\n",
       "      <td>2019</td>\n",
       "      <td>6</td>\n",
       "      <td>0.866</td>\n",
       "      <td>0.500</td>\n",
       "    </tr>\n",
       "    <tr>\n",
       "      <th>149117452</th>\n",
       "      <td>153.0</td>\n",
       "      <td>RAPE 3</td>\n",
       "      <td>104.0</td>\n",
       "      <td>RAPE</td>\n",
       "      <td>PL 1302503</td>\n",
       "      <td>1</td>\n",
       "      <td>3.0</td>\n",
       "      <td>67</td>\n",
       "      <td>0.0</td>\n",
       "      <td>3</td>\n",
       "      <td>0</td>\n",
       "      <td>1</td>\n",
       "      <td>998032.0</td>\n",
       "      <td>175598.0</td>\n",
       "      <td>40.648650</td>\n",
       "      <td>-73.950336</td>\n",
       "      <td>2016</td>\n",
       "      <td>6</td>\n",
       "      <td>0.500</td>\n",
       "      <td>0.866</td>\n",
       "    </tr>\n",
       "    <tr>\n",
       "      <th>190049060</th>\n",
       "      <td>157.0</td>\n",
       "      <td>RAPE 1</td>\n",
       "      <td>104.0</td>\n",
       "      <td>RAPE</td>\n",
       "      <td>PL 1303501</td>\n",
       "      <td>1</td>\n",
       "      <td>3.0</td>\n",
       "      <td>77</td>\n",
       "      <td>0.0</td>\n",
       "      <td>3</td>\n",
       "      <td>0</td>\n",
       "      <td>1</td>\n",
       "      <td>1003606.0</td>\n",
       "      <td>185050.0</td>\n",
       "      <td>40.674583</td>\n",
       "      <td>-73.930222</td>\n",
       "      <td>2018</td>\n",
       "      <td>15</td>\n",
       "      <td>-0.500</td>\n",
       "      <td>0.866</td>\n",
       "    </tr>\n",
       "  </tbody>\n",
       "</table>\n",
       "</div>"
      ],
      "text/plain": [
       "            PD_CD                             PD_DESC  KY_CD        OFNS_DESC  \\\n",
       "ARREST_KEY                                                                      \n",
       "32311380    511.0  CONTROLLED SUBSTANCE, POSSESSION 7  235.0  DANGEROUS DRUGS   \n",
       "192799737   177.0                        SEXUAL ABUSE  116.0       SEX CRIMES   \n",
       "193260691     NaN                                 NaN    NaN              NaN   \n",
       "149117452   153.0                              RAPE 3  104.0             RAPE   \n",
       "190049060   157.0                              RAPE 1  104.0             RAPE   \n",
       "\n",
       "              LAW_CODE  LAW_CAT_CD  ARREST_BORO  ARREST_PRECINCT  \\\n",
       "ARREST_KEY                                                         \n",
       "32311380    PL 2200300           0          1.0               27   \n",
       "192799737   PL 1306503           1          2.0               25   \n",
       "193260691   PL 2203400           1          2.0               14   \n",
       "149117452   PL 1302503           1          3.0               67   \n",
       "190049060   PL 1303501           1          3.0               77   \n",
       "\n",
       "            JURISDICTION_CODE  AGE_GROUP  PERP_SEX  PERP_RACE  X_COORD_CD  \\\n",
       "ARREST_KEY                                                                  \n",
       "32311380                  1.0          2         0          1         NaN   \n",
       "192799737                 0.0          4         0          1   1000555.0   \n",
       "193260691                 0.0          3         0          0    986685.0   \n",
       "149117452                 0.0          3         0          1    998032.0   \n",
       "190049060                 0.0          3         0          1   1003606.0   \n",
       "\n",
       "            Y_COORD_CD   Latitude  Longitude  Year  Day  Month_sin  Month_cos  \n",
       "ARREST_KEY                                                                     \n",
       "32311380           NaN        NaN        NaN  2007   18      0.000     -1.000  \n",
       "192799737     230994.0  40.800694 -73.941109  2019   26      0.500      0.866  \n",
       "193260691     215375.0  40.757839 -73.991212  2019    6      0.866      0.500  \n",
       "149117452     175598.0  40.648650 -73.950336  2016    6      0.500      0.866  \n",
       "190049060     185050.0  40.674583 -73.930222  2018   15     -0.500      0.866  "
      ]
     },
     "execution_count": 3,
     "metadata": {},
     "output_type": "execute_result"
    }
   ],
   "source": [
    "import pandas as pd\n",
    "from math import pi, sin, cos\n",
    "\n",
    "# Função para codificar variáveis cíclicas\n",
    "def encode_cyclic_variables(data: DataFrame, vars: list[str]) -> None:\n",
    "    for v in vars:\n",
    "        x_max = max(data[v])  # Valor máximo da variável\n",
    "        data[v + \"_sin\"] = data[v].apply(lambda x: round(sin(2 * pi * x / x_max), 3))\n",
    "        data[v + \"_cos\"] = data[v].apply(lambda x: round(cos(2 * pi * x / x_max), 3))\n",
    "    return data\n",
    "\n",
    "# Transformar a coluna \"ARREST_DATE\"\n",
    "data[\"ARREST_DATE\"] = pd.to_datetime(data[\"ARREST_DATE\"], format=\"%m/%d/%Y\")\n",
    "data[\"Year\"] = data[\"ARREST_DATE\"].dt.year\n",
    "data[\"Month\"] = data[\"ARREST_DATE\"].dt.month\n",
    "data[\"Day\"] = data[\"ARREST_DATE\"].dt.day\n",
    "\n",
    "# Criar variáveis cíclicas também para mês (opcional)\n",
    "data = encode_cyclic_variables(data, [\"Month\"])\n",
    "\n",
    "# Remover colunas originais (opcional)\n",
    "data = data.drop(columns=[\"ARREST_DATE\", \"Month\"])\n",
    "\n",
    "data.head()"
   ]
  },
  {
   "cell_type": "code",
   "execution_count": 4,
   "metadata": {},
   "outputs": [
    {
     "data": {
      "text/html": [
       "<div>\n",
       "<style scoped>\n",
       "    .dataframe tbody tr th:only-of-type {\n",
       "        vertical-align: middle;\n",
       "    }\n",
       "\n",
       "    .dataframe tbody tr th {\n",
       "        vertical-align: top;\n",
       "    }\n",
       "\n",
       "    .dataframe thead th {\n",
       "        text-align: right;\n",
       "    }\n",
       "</style>\n",
       "<table border=\"1\" class=\"dataframe\">\n",
       "  <thead>\n",
       "    <tr style=\"text-align: right;\">\n",
       "      <th></th>\n",
       "      <th>OFNS_DESC</th>\n",
       "      <th>LAW_CAT_CD</th>\n",
       "      <th>ARREST_BORO</th>\n",
       "      <th>ARREST_PRECINCT</th>\n",
       "      <th>JURISDICTION_CODE</th>\n",
       "      <th>AGE_GROUP</th>\n",
       "      <th>PERP_SEX</th>\n",
       "      <th>PERP_RACE</th>\n",
       "      <th>X_COORD_CD</th>\n",
       "      <th>Y_COORD_CD</th>\n",
       "      <th>Latitude</th>\n",
       "      <th>Longitude</th>\n",
       "      <th>Year</th>\n",
       "      <th>Day</th>\n",
       "      <th>Month_sin</th>\n",
       "      <th>Month_cos</th>\n",
       "    </tr>\n",
       "    <tr>\n",
       "      <th>ARREST_KEY</th>\n",
       "      <th></th>\n",
       "      <th></th>\n",
       "      <th></th>\n",
       "      <th></th>\n",
       "      <th></th>\n",
       "      <th></th>\n",
       "      <th></th>\n",
       "      <th></th>\n",
       "      <th></th>\n",
       "      <th></th>\n",
       "      <th></th>\n",
       "      <th></th>\n",
       "      <th></th>\n",
       "      <th></th>\n",
       "      <th></th>\n",
       "      <th></th>\n",
       "    </tr>\n",
       "  </thead>\n",
       "  <tbody>\n",
       "    <tr>\n",
       "      <th>32311380</th>\n",
       "      <td>DANGEROUS DRUGS</td>\n",
       "      <td>0</td>\n",
       "      <td>1.0</td>\n",
       "      <td>27</td>\n",
       "      <td>1.0</td>\n",
       "      <td>2</td>\n",
       "      <td>0</td>\n",
       "      <td>1</td>\n",
       "      <td>NaN</td>\n",
       "      <td>NaN</td>\n",
       "      <td>NaN</td>\n",
       "      <td>NaN</td>\n",
       "      <td>2007</td>\n",
       "      <td>18</td>\n",
       "      <td>0.000</td>\n",
       "      <td>-1.000</td>\n",
       "    </tr>\n",
       "    <tr>\n",
       "      <th>192799737</th>\n",
       "      <td>SEX CRIMES</td>\n",
       "      <td>1</td>\n",
       "      <td>2.0</td>\n",
       "      <td>25</td>\n",
       "      <td>0.0</td>\n",
       "      <td>4</td>\n",
       "      <td>0</td>\n",
       "      <td>1</td>\n",
       "      <td>1000555.0</td>\n",
       "      <td>230994.0</td>\n",
       "      <td>40.800694</td>\n",
       "      <td>-73.941109</td>\n",
       "      <td>2019</td>\n",
       "      <td>26</td>\n",
       "      <td>0.500</td>\n",
       "      <td>0.866</td>\n",
       "    </tr>\n",
       "    <tr>\n",
       "      <th>193260691</th>\n",
       "      <td>NaN</td>\n",
       "      <td>1</td>\n",
       "      <td>2.0</td>\n",
       "      <td>14</td>\n",
       "      <td>0.0</td>\n",
       "      <td>3</td>\n",
       "      <td>0</td>\n",
       "      <td>0</td>\n",
       "      <td>986685.0</td>\n",
       "      <td>215375.0</td>\n",
       "      <td>40.757839</td>\n",
       "      <td>-73.991212</td>\n",
       "      <td>2019</td>\n",
       "      <td>6</td>\n",
       "      <td>0.866</td>\n",
       "      <td>0.500</td>\n",
       "    </tr>\n",
       "    <tr>\n",
       "      <th>149117452</th>\n",
       "      <td>RAPE</td>\n",
       "      <td>1</td>\n",
       "      <td>3.0</td>\n",
       "      <td>67</td>\n",
       "      <td>0.0</td>\n",
       "      <td>3</td>\n",
       "      <td>0</td>\n",
       "      <td>1</td>\n",
       "      <td>998032.0</td>\n",
       "      <td>175598.0</td>\n",
       "      <td>40.648650</td>\n",
       "      <td>-73.950336</td>\n",
       "      <td>2016</td>\n",
       "      <td>6</td>\n",
       "      <td>0.500</td>\n",
       "      <td>0.866</td>\n",
       "    </tr>\n",
       "    <tr>\n",
       "      <th>190049060</th>\n",
       "      <td>RAPE</td>\n",
       "      <td>1</td>\n",
       "      <td>3.0</td>\n",
       "      <td>77</td>\n",
       "      <td>0.0</td>\n",
       "      <td>3</td>\n",
       "      <td>0</td>\n",
       "      <td>1</td>\n",
       "      <td>1003606.0</td>\n",
       "      <td>185050.0</td>\n",
       "      <td>40.674583</td>\n",
       "      <td>-73.930222</td>\n",
       "      <td>2018</td>\n",
       "      <td>15</td>\n",
       "      <td>-0.500</td>\n",
       "      <td>0.866</td>\n",
       "    </tr>\n",
       "  </tbody>\n",
       "</table>\n",
       "</div>"
      ],
      "text/plain": [
       "                  OFNS_DESC  LAW_CAT_CD  ARREST_BORO  ARREST_PRECINCT  \\\n",
       "ARREST_KEY                                                              \n",
       "32311380    DANGEROUS DRUGS           0          1.0               27   \n",
       "192799737        SEX CRIMES           1          2.0               25   \n",
       "193260691               NaN           1          2.0               14   \n",
       "149117452              RAPE           1          3.0               67   \n",
       "190049060              RAPE           1          3.0               77   \n",
       "\n",
       "            JURISDICTION_CODE  AGE_GROUP  PERP_SEX  PERP_RACE  X_COORD_CD  \\\n",
       "ARREST_KEY                                                                  \n",
       "32311380                  1.0          2         0          1         NaN   \n",
       "192799737                 0.0          4         0          1   1000555.0   \n",
       "193260691                 0.0          3         0          0    986685.0   \n",
       "149117452                 0.0          3         0          1    998032.0   \n",
       "190049060                 0.0          3         0          1   1003606.0   \n",
       "\n",
       "            Y_COORD_CD   Latitude  Longitude  Year  Day  Month_sin  Month_cos  \n",
       "ARREST_KEY                                                                     \n",
       "32311380           NaN        NaN        NaN  2007   18      0.000     -1.000  \n",
       "192799737     230994.0  40.800694 -73.941109  2019   26      0.500      0.866  \n",
       "193260691     215375.0  40.757839 -73.991212  2019    6      0.866      0.500  \n",
       "149117452     175598.0  40.648650 -73.950336  2016    6      0.500      0.866  \n",
       "190049060     185050.0  40.674583 -73.930222  2018   15     -0.500      0.866  "
      ]
     },
     "execution_count": 4,
     "metadata": {},
     "output_type": "execute_result"
    }
   ],
   "source": [
    "# Remover colunas\n",
    "data = data.drop(columns=[\"LAW_CODE\", \"PD_DESC\", \"KY_CD\", \"PD_CD\"])\n",
    "\n",
    "data.head()"
   ]
  },
  {
   "cell_type": "code",
   "execution_count": 5,
   "metadata": {},
   "outputs": [
    {
     "data": {
      "text/html": [
       "<div>\n",
       "<style scoped>\n",
       "    .dataframe tbody tr th:only-of-type {\n",
       "        vertical-align: middle;\n",
       "    }\n",
       "\n",
       "    .dataframe tbody tr th {\n",
       "        vertical-align: top;\n",
       "    }\n",
       "\n",
       "    .dataframe thead th {\n",
       "        text-align: right;\n",
       "    }\n",
       "</style>\n",
       "<table border=\"1\" class=\"dataframe\">\n",
       "  <thead>\n",
       "    <tr style=\"text-align: right;\">\n",
       "      <th></th>\n",
       "      <th>OFNS_DESC</th>\n",
       "      <th>LAW_CAT_CD</th>\n",
       "      <th>ARREST_BORO</th>\n",
       "      <th>ARREST_PRECINCT</th>\n",
       "      <th>JURISDICTION_CODE</th>\n",
       "      <th>AGE_GROUP</th>\n",
       "      <th>PERP_SEX</th>\n",
       "      <th>PERP_RACE</th>\n",
       "      <th>X_COORD_CD</th>\n",
       "      <th>Y_COORD_CD</th>\n",
       "      <th>Latitude</th>\n",
       "      <th>Longitude</th>\n",
       "      <th>Year</th>\n",
       "      <th>Day</th>\n",
       "      <th>Month_sin</th>\n",
       "      <th>Month_cos</th>\n",
       "    </tr>\n",
       "    <tr>\n",
       "      <th>ARREST_KEY</th>\n",
       "      <th></th>\n",
       "      <th></th>\n",
       "      <th></th>\n",
       "      <th></th>\n",
       "      <th></th>\n",
       "      <th></th>\n",
       "      <th></th>\n",
       "      <th></th>\n",
       "      <th></th>\n",
       "      <th></th>\n",
       "      <th></th>\n",
       "      <th></th>\n",
       "      <th></th>\n",
       "      <th></th>\n",
       "      <th></th>\n",
       "      <th></th>\n",
       "    </tr>\n",
       "  </thead>\n",
       "  <tbody>\n",
       "    <tr>\n",
       "      <th>32311380</th>\n",
       "      <td>14</td>\n",
       "      <td>0</td>\n",
       "      <td>1.0</td>\n",
       "      <td>27</td>\n",
       "      <td>1.0</td>\n",
       "      <td>2</td>\n",
       "      <td>0</td>\n",
       "      <td>1</td>\n",
       "      <td>NaN</td>\n",
       "      <td>NaN</td>\n",
       "      <td>NaN</td>\n",
       "      <td>NaN</td>\n",
       "      <td>2007</td>\n",
       "      <td>18</td>\n",
       "      <td>0.000</td>\n",
       "      <td>-1.000</td>\n",
       "    </tr>\n",
       "    <tr>\n",
       "      <th>192799737</th>\n",
       "      <td>66</td>\n",
       "      <td>1</td>\n",
       "      <td>2.0</td>\n",
       "      <td>25</td>\n",
       "      <td>0.0</td>\n",
       "      <td>4</td>\n",
       "      <td>0</td>\n",
       "      <td>1</td>\n",
       "      <td>1000555.0</td>\n",
       "      <td>230994.0</td>\n",
       "      <td>40.800694</td>\n",
       "      <td>-73.941109</td>\n",
       "      <td>2019</td>\n",
       "      <td>26</td>\n",
       "      <td>0.500</td>\n",
       "      <td>0.866</td>\n",
       "    </tr>\n",
       "    <tr>\n",
       "      <th>193260691</th>\n",
       "      <td>72</td>\n",
       "      <td>1</td>\n",
       "      <td>2.0</td>\n",
       "      <td>14</td>\n",
       "      <td>0.0</td>\n",
       "      <td>3</td>\n",
       "      <td>0</td>\n",
       "      <td>0</td>\n",
       "      <td>986685.0</td>\n",
       "      <td>215375.0</td>\n",
       "      <td>40.757839</td>\n",
       "      <td>-73.991212</td>\n",
       "      <td>2019</td>\n",
       "      <td>6</td>\n",
       "      <td>0.866</td>\n",
       "      <td>0.500</td>\n",
       "    </tr>\n",
       "    <tr>\n",
       "      <th>149117452</th>\n",
       "      <td>64</td>\n",
       "      <td>1</td>\n",
       "      <td>3.0</td>\n",
       "      <td>67</td>\n",
       "      <td>0.0</td>\n",
       "      <td>3</td>\n",
       "      <td>0</td>\n",
       "      <td>1</td>\n",
       "      <td>998032.0</td>\n",
       "      <td>175598.0</td>\n",
       "      <td>40.648650</td>\n",
       "      <td>-73.950336</td>\n",
       "      <td>2016</td>\n",
       "      <td>6</td>\n",
       "      <td>0.500</td>\n",
       "      <td>0.866</td>\n",
       "    </tr>\n",
       "    <tr>\n",
       "      <th>190049060</th>\n",
       "      <td>64</td>\n",
       "      <td>1</td>\n",
       "      <td>3.0</td>\n",
       "      <td>77</td>\n",
       "      <td>0.0</td>\n",
       "      <td>3</td>\n",
       "      <td>0</td>\n",
       "      <td>1</td>\n",
       "      <td>1003606.0</td>\n",
       "      <td>185050.0</td>\n",
       "      <td>40.674583</td>\n",
       "      <td>-73.930222</td>\n",
       "      <td>2018</td>\n",
       "      <td>15</td>\n",
       "      <td>-0.500</td>\n",
       "      <td>0.866</td>\n",
       "    </tr>\n",
       "  </tbody>\n",
       "</table>\n",
       "</div>"
      ],
      "text/plain": [
       "            OFNS_DESC  LAW_CAT_CD  ARREST_BORO  ARREST_PRECINCT  \\\n",
       "ARREST_KEY                                                        \n",
       "32311380           14           0          1.0               27   \n",
       "192799737          66           1          2.0               25   \n",
       "193260691          72           1          2.0               14   \n",
       "149117452          64           1          3.0               67   \n",
       "190049060          64           1          3.0               77   \n",
       "\n",
       "            JURISDICTION_CODE  AGE_GROUP  PERP_SEX  PERP_RACE  X_COORD_CD  \\\n",
       "ARREST_KEY                                                                  \n",
       "32311380                  1.0          2         0          1         NaN   \n",
       "192799737                 0.0          4         0          1   1000555.0   \n",
       "193260691                 0.0          3         0          0    986685.0   \n",
       "149117452                 0.0          3         0          1    998032.0   \n",
       "190049060                 0.0          3         0          1   1003606.0   \n",
       "\n",
       "            Y_COORD_CD   Latitude  Longitude  Year  Day  Month_sin  Month_cos  \n",
       "ARREST_KEY                                                                     \n",
       "32311380           NaN        NaN        NaN  2007   18      0.000     -1.000  \n",
       "192799737     230994.0  40.800694 -73.941109  2019   26      0.500      0.866  \n",
       "193260691     215375.0  40.757839 -73.991212  2019    6      0.866      0.500  \n",
       "149117452     175598.0  40.648650 -73.950336  2016    6      0.500      0.866  \n",
       "190049060     185050.0  40.674583 -73.930222  2018   15     -0.500      0.866  "
      ]
     },
     "execution_count": 5,
     "metadata": {},
     "output_type": "execute_result"
    }
   ],
   "source": [
    "import pandas as pd\n",
    "from sklearn.preprocessing import LabelEncoder\n",
    "\n",
    "# Criando um LabelEncoder\n",
    "label_encoder = LabelEncoder()\n",
    "\n",
    "# Transformando os valores em inteiros\n",
    "data['OFNS_DESC'] = label_encoder.fit_transform(data['OFNS_DESC'])\n",
    "\n",
    "data.head()"
   ]
  },
  {
   "cell_type": "code",
   "execution_count": null,
   "metadata": {},
   "outputs": [
    {
     "name": "stdout",
     "output_type": "stream",
     "text": [
      "Data after encoding: (4968684, 16)\n"
     ]
    }
   ],
   "source": [
    "df: DataFrame = data.copy(deep=True)\n",
    "df.to_csv(\"datasets/class_ny_arrests_encoding2.csv\", index=False)\n",
    "print(f\"Data after encoding: {df.shape}\")"
   ]
  },
  {
   "cell_type": "markdown",
   "metadata": {},
   "source": [
    "<h3>Methodology After Variable Encoding</h3>"
   ]
  },
  {
   "cell_type": "code",
   "execution_count": null,
   "metadata": {},
   "outputs": [
    {
     "name": "stdout",
     "output_type": "stream",
     "text": [
      "{'accuracy': [0.66515, 0.7516], 'recall': [0.6962190352020861, 0.686831812255541], 'precision': [0.5501184712063459, 0.672453408220577], 'auc': [0.6710211153301591, 0.739360756087219], 'f1': [0.6146055130344709, 0.6795665634674921]}\n"
     ]
    },
    {
     "data": {
      "image/png": "[encoded data removed]",
      "text/plain": [
       "<Figure size 432x288 with 1 Axes>"
      ]
     },
     "metadata": {
      "needs_background": "dark"
     },
     "output_type": "display_data"
    }
   ],
   "source": [
    "from numpy import ndarray\n",
    "from pandas import DataFrame, read_csv\n",
    "from matplotlib.pyplot import savefig, show, figure\n",
    "from dslabs_functions import plot_multibar_chart, CLASS_EVAL_METRICS, run_KNN, run_NB\n",
    "from sklearn.model_selection import train_test_split\n",
    "from dslabs_functions import DELTA_IMPROVE\n",
    "from sklearn.naive_bayes import GaussianNB, BernoulliNB\n",
    "\n",
    "def run_NB(trnX, trnY, tstX, tstY, metric: str = \"accuracy\") -> dict[str, float]:\n",
    "    estimators: dict[str, GaussianNB | BernoulliNB] = {\n",
    "        \"GaussianNB\": GaussianNB(),\n",
    "        \"BernoulliNB\": BernoulliNB(),\n",
    "    }\n",
    "    best_model: GaussianNB | BernoulliNB = None  # type: ignore\n",
    "    best_performance: float = 0.0\n",
    "    eval: dict[str, float] = {}\n",
    "\n",
    "    for clf in estimators:\n",
    "        estimators[clf].fit(trnX, trnY)\n",
    "        prdY: ndarray = estimators[clf].predict(tstX)\n",
    "        performance: float = CLASS_EVAL_METRICS[metric](tstY, prdY)\n",
    "        if performance - best_performance > DELTA_IMPROVE:\n",
    "            best_performance = performance\n",
    "            best_model = estimators[clf]\n",
    "    if best_model is not None:\n",
    "        prd: ndarray = best_model.predict(tstX)\n",
    "        for key in CLASS_EVAL_METRICS:\n",
    "            eval[key] = CLASS_EVAL_METRICS[key](tstY, prd)\n",
    "    return eval\n",
    "\n",
    "def evaluate_approach(\n",
    "    train: DataFrame, test: DataFrame, target: str = \"class\", metric: str = \"accuracy\"\n",
    ") -> dict[str, list]:\n",
    "    trnY = train.pop(target).values\n",
    "    trnX: ndarray = train.values\n",
    "    tstY = test.pop(target).values\n",
    "    tstX: ndarray = test.values\n",
    "    eval: dict[str, list] = {}\n",
    "\n",
    "    eval_NB: dict[str, float] = run_NB(trnX, trnY, tstX, tstY, metric=metric)\n",
    "    eval_KNN: dict[str, float] = run_KNN(trnX, trnY, tstX, tstY, metric=metric)\n",
    "    if eval_NB != {} and eval_KNN != {}:\n",
    "        for met in CLASS_EVAL_METRICS:\n",
    "            eval[met] = [eval_NB[met], eval_KNN[met]]\n",
    "    return eval\n",
    "\n",
    "target = \"LAW_CAT_CD\"\n",
    "file_tag = \"class_ny_arrests\"\n",
    "filename = \"class_ny_arrests.csv\"\n",
    "\n",
    "new_data: DataFrame = read_csv(\"datasets/class_ny_arrests_encoding2.csv\")\n",
    "new_data = new_data.dropna()\n",
    "\n",
    "new_data = new_data.head(100000)\n",
    "\n",
    "train, test = train_test_split(new_data, test_size=0.2, random_state=42)\n",
    "\n",
    "figure()\n",
    "eval_dropping: dict[str, list] = evaluate_approach(train, test, target=target, metric=\"recall\")\n",
    "print(eval_dropping)\n",
    "plot_multibar_chart(\n",
    "    [\"NB\", \"KNN\"], eval_dropping, title=f\"{file_tag} evaluation\", percentage=True\n",
    ")\n",
    "savefig(\"images/class_ny_arrests_encoding_eval2.png\")\n",
    "show()"
   ]
  },
  {
   "cell_type": "markdown",
   "metadata": {},
   "source": [
    "# **Variable Encoding**\n",
    "## **Drop Missing Values**"
   ]
  },
  {
   "cell_type": "code",
   "execution_count": null,
   "metadata": {},
   "outputs": [
    {
     "name": "stdout",
     "output_type": "stream",
     "text": [
      "Data after missing Values: (4959541, 16)\n"
     ]
    }
   ],
   "source": [
    "# Eliminar missing values e \"Unknowns\" na idade\n",
    "data: DataFrame = read_csv(\"datasets\\class_ny_arrests_encoding2.csv\", na_values=\"\", index_col=None, sep=',', decimal='.')\n",
    "data = data.dropna()\n",
    "\n",
    "data = data[data['AGE_GROUP'] != 0]\n",
    "\n",
    "data = data[data['OFNS_DESC'] != 72]\n",
    "\n",
    "df: DataFrame = data.copy(deep=True)\n",
    "df.to_csv(\"datasets/class_ny_arrests_missing_values2.csv\", index=False)\n",
    "print(f\"Data after missing Values: {df.shape}\")"
   ]
  },
  {
   "cell_type": "markdown",
   "metadata": {},
   "source": [
    "**Methodology of Missing Values**"
   ]
  },
  {
   "cell_type": "code",
   "execution_count": null,
   "metadata": {},
   "outputs": [
    {
     "name": "stdout",
     "output_type": "stream",
     "text": [
      "{'accuracy': [0.66945, 0.777275], 'recall': [0.6862596862596863, 0.727083727083727], 'precision': [0.5692709694277502, 0.7160317657277578], 'auc': [0.6723253502380621, 0.7686896233130741], 'f1': [0.6223148994515538, 0.7215154262136225]}\n"
     ]
    },
    {
     "data": {
      "image/png": "[encoded data removed]",
      "text/plain": [
       "<Figure size 432x288 with 1 Axes>"
      ]
     },
     "metadata": {
      "needs_background": "dark"
     },
     "output_type": "display_data"
    }
   ],
   "source": [
    "new_data: DataFrame = read_csv(\"datasets/class_ny_arrests_missing_values2.csv\")\n",
    "new_data = new_data.head(200000)\n",
    "\n",
    "train, test = train_test_split(new_data, test_size=0.2, random_state=42)\n",
    "\n",
    "figure()\n",
    "eval_dropping: dict[str, list] = evaluate_approach(train, test, target=target, metric=\"recall\")\n",
    "print(eval_dropping)\n",
    "plot_multibar_chart(\n",
    "    [\"NB\", \"KNN\"], eval_dropping, title=f\"{file_tag} evaluation\", percentage=True\n",
    ")\n",
    "savefig(\"images/class_ny_arrests_missing_values2_eval.png\")\n",
    "show()"
   ]
  },
  {
   "cell_type": "markdown",
   "metadata": {},
   "source": [
    "## **Filling missing values**"
   ]
  },
  {
   "cell_type": "code",
   "execution_count": null,
   "metadata": {},
   "outputs": [
    {
     "name": "stdout",
     "output_type": "stream",
     "text": [
      "Data after missing Values: (4968684, 16)\n"
     ]
    }
   ],
   "source": [
    "# Eliminar missing values e \"Unknowns\" na idade\n",
    "data: DataFrame = read_csv(\"datasets\\class_ny_arrests_encoding2.csv\", na_values=\"\", index_col=None, sep=',', decimal='.')\n",
    "\n",
    "data = data.fillna(data.mean())\n",
    "\n",
    "df: DataFrame = data.copy(deep=True)\n",
    "df.to_csv(\"datasets/class_ny_arrests_filling_values2.csv\", index=False)\n",
    "print(f\"Data after missing Values: {df.shape}\")"
   ]
  },
  {
   "cell_type": "markdown",
   "metadata": {},
   "source": [
    "**Methodology of Filling Values**"
   ]
  },
  {
   "cell_type": "code",
   "execution_count": null,
   "metadata": {},
   "outputs": [
    {
     "name": "stdout",
     "output_type": "stream",
     "text": [
      "{'accuracy': [0.6686, 0.7726], 'recall': [0.6940373293248152, 0.7148315169735688], 'precision': [0.569658646925766, 0.71527951867636], 'auc': [0.6728695425853501, 0.7629038170704575], 'f1': [0.6257270314529336, 0.7150554476536557]}\n"
     ]
    },
    {
     "data": {
      "image/png": "[encoded data removed]",
      "text/plain": [
       "<Figure size 432x288 with 1 Axes>"
      ]
     },
     "metadata": {
      "needs_background": "dark"
     },
     "output_type": "display_data"
    }
   ],
   "source": [
    "new_data: DataFrame = read_csv(\"datasets/class_ny_arrests_filling_values2.csv\")\n",
    "new_data = new_data.head(200000)\n",
    "\n",
    "train, test = train_test_split(new_data, test_size=0.2, random_state=42)\n",
    "\n",
    "figure()\n",
    "eval_dropping: dict[str, list] = evaluate_approach(train, test, target=target, metric=\"recall\")\n",
    "print(eval_dropping)\n",
    "plot_multibar_chart(\n",
    "    [\"NB\", \"KNN\"], eval_dropping, title=f\"{file_tag} evaluation\", percentage=True\n",
    ")\n",
    "savefig(\"images/class_ny_arrests_filling_values2_eval.png\")\n",
    "show()"
   ]
  },
  {
   "cell_type": "markdown",
   "metadata": {},
   "source": [
    "Droping the missing values has a litle better values, so we will use that one"
   ]
  },
  {
   "cell_type": "markdown",
   "metadata": {},
   "source": [
    "## **Outliers Inputation**\n",
    "<h3>Drop Outliers</h3>"
   ]
  },
  {
   "cell_type": "code",
   "execution_count": null,
   "metadata": {},
   "outputs": [
    {
     "name": "stdout",
     "output_type": "stream",
     "text": [
      "Original train data: (4959541, 16)\n",
      "n_std= 9\n",
      "Data after dropping outliers: (4922194, 16)\n"
     ]
    }
   ],
   "source": [
    "from pandas import read_csv, DataFrame, Series\n",
    "from dslabs_functions import (\n",
    "    NR_STDEV,\n",
    "    get_variable_types,\n",
    "    determine_outlier_thresholds_for_var,\n",
    ")\n",
    "\n",
    "data: DataFrame = read_csv(\"datasets/class_ny_arrests_missing_values2.csv\")\n",
    "\n",
    "print(f\"Original train data: {data.shape}\")\n",
    "\n",
    "n_std: int = NR_STDEV\n",
    "n_std = 9\n",
    "print(\"n_std=\", n_std)\n",
    "\n",
    "numeric_vars: list[str] = get_variable_types(data)[\"numeric\"]\n",
    "\n",
    "if numeric_vars is not None:\n",
    "    df: DataFrame = data.copy(deep=True)\n",
    "    summary5: DataFrame = data[numeric_vars].describe()\n",
    "    for var in numeric_vars:\n",
    "        top_threshold, bottom_threshold = determine_outlier_thresholds_for_var(\n",
    "            summary5[var], threshold= n_std\n",
    "        )\n",
    "        outliers: Series = df[(df[var] > top_threshold) | (df[var] < bottom_threshold)]\n",
    "        df.drop(outliers.index, axis=0, inplace=True)\n",
    "    df.to_csv(\"datasets/class_ny_arrest_drop_outliers2.csv\", index=False)\n",
    "    print(f\"Data after dropping outliers: {df.shape}\")\n",
    "else:\n",
    "    print(\"There are no numeric variables\")\n"
   ]
  },
  {
   "cell_type": "markdown",
   "metadata": {},
   "source": [
    "**Methodology of Droping Outliers**"
   ]
  },
  {
   "cell_type": "code",
   "execution_count": null,
   "metadata": {},
   "outputs": [
    {
     "name": "stdout",
     "output_type": "stream",
     "text": [
      "{'accuracy': [0.613125, 0.779525], 'recall': [0.05149647887323944, 0.7311368209255533], 'precision': [0.6774193548387096, 0.7190649928885041], 'auc': [0.517655609954548, 0.7712996521626437], 'f1': [0.09571670659732369, 0.7250506625097428]}\n"
     ]
    },
    {
     "data": {
      "image/png": "[encoded data removed]",
      "text/plain": [
       "<Figure size 432x288 with 1 Axes>"
      ]
     },
     "metadata": {
      "needs_background": "dark"
     },
     "output_type": "display_data"
    }
   ],
   "source": [
    "new_data: DataFrame = read_csv(\"datasets/class_ny_arrest_drop_outliers2.csv\", na_values=\"\", index_col=None, sep=',', decimal='.')\n",
    "new_data = new_data.head(200000)\n",
    "\n",
    "train, test = train_test_split(new_data, test_size=0.2, random_state=42)\n",
    "\n",
    "figure()\n",
    "eval_dropping: dict[str, list] = evaluate_approach(train, test, target=target, metric=\"recall\")\n",
    "print(eval_dropping)\n",
    "plot_multibar_chart(\n",
    "    [\"NB\", \"KNN\"], eval_dropping, title=f\"{file_tag} evaluation\", percentage=True\n",
    ")\n",
    "savefig(\"images/class_ny_arrests_drop_outliers_eval2.png\")\n",
    "show()"
   ]
  },
  {
   "cell_type": "markdown",
   "metadata": {},
   "source": [
    "<h3>Replacing outliers with fixed value</h3>"
   ]
  },
  {
   "cell_type": "code",
   "execution_count": null,
   "metadata": {},
   "outputs": [
    {
     "name": "stdout",
     "output_type": "stream",
     "text": [
      "Data after replacing outliers: (4959541, 16)\n",
      "          OFNS_DESC    LAW_CAT_CD   ARREST_BORO  ARREST_PRECINCT  \\\n",
      "count  4.959541e+06  4.959541e+06  4.959541e+06     4.959541e+06   \n",
      "mean   3.190225e+01  2.970009e-01  2.602124e+00     6.084671e+01   \n",
      "std    2.227951e+01  4.569370e-01  1.044059e+00     3.416597e+01   \n",
      "min    0.000000e+00  0.000000e+00  1.000000e+00     1.000000e+00   \n",
      "25%    1.400000e+01  0.000000e+00  2.000000e+00     3.400000e+01   \n",
      "50%    2.000000e+01  0.000000e+00  3.000000e+00     5.200000e+01   \n",
      "75%    5.500000e+01  1.000000e+00  3.000000e+00     8.400000e+01   \n",
      "max    7.100000e+01  1.000000e+00  4.000000e+00     1.230000e+02   \n",
      "\n",
      "       JURISDICTION_CODE     AGE_GROUP      PERP_SEX     PERP_RACE  \\\n",
      "count       4.959541e+06  4.959541e+06  4.959541e+06  4.959541e+06   \n",
      "mean        2.380132e-01  2.922936e+00  1.747053e-01  1.820430e+00   \n",
      "std         8.484295e-01  6.605288e-01  3.797149e-01  1.027809e+00   \n",
      "min         0.000000e+00  2.000000e+00  0.000000e+00  0.000000e+00   \n",
      "25%         0.000000e+00  2.000000e+00  0.000000e+00  1.000000e+00   \n",
      "50%         0.000000e+00  3.000000e+00  0.000000e+00  2.000000e+00   \n",
      "75%         0.000000e+00  3.000000e+00  0.000000e+00  2.000000e+00   \n",
      "max         1.600000e+01  4.000000e+00  1.000000e+00  4.000000e+00   \n",
      "\n",
      "         X_COORD_CD    Y_COORD_CD      Latitude     Longitude          Year  \\\n",
      "count  4.959541e+06  4.959541e+06  4.959541e+06  4.959541e+06  4.959541e+06   \n",
      "mean   1.005703e+06  2.098922e+05  4.074274e+01 -7.392254e+01  2.012166e+03   \n",
      "std    1.434455e+04  2.975156e+04  8.166633e-02  5.180323e-02  3.946780e+00   \n",
      "min    9.650470e+05  1.211310e+05  4.049891e+01 -7.406925e+01  2.006000e+03   \n",
      "25%    9.963940e+05  1.868270e+05  4.067938e+01 -7.395623e+01  2.009000e+03   \n",
      "50%    1.005049e+06  2.099080e+05  4.074283e+01 -7.392489e+01  2.012000e+03   \n",
      "75%    1.013823e+06  2.370570e+05  4.081729e+01 -7.389319e+01  2.015000e+03   \n",
      "max    1.045829e+06  2.726650e+05  4.091505e+01 -7.377772e+01  2.020000e+03   \n",
      "\n",
      "                Day     Month_sin     Month_cos  \n",
      "count  4.959541e+06  4.959541e+06  4.959541e+06  \n",
      "mean   1.542032e+01  1.637123e-02 -1.721495e-02  \n",
      "std    8.688824e+00  7.137017e-01  7.000256e-01  \n",
      "min    1.000000e+00 -1.000000e+00 -1.000000e+00  \n",
      "25%    8.000000e+00 -8.660000e-01 -8.660000e-01  \n",
      "50%    1.500000e+01  0.000000e+00  0.000000e+00  \n",
      "75%    2.300000e+01  8.660000e-01  5.000000e-01  \n",
      "max    3.100000e+01  1.000000e+00  1.000000e+00  \n"
     ]
    }
   ],
   "source": [
    "if [] != numeric_vars:\n",
    "    df: DataFrame = data.copy(deep=True)\n",
    "    for var in numeric_vars:\n",
    "        top, bottom = determine_outlier_thresholds_for_var(summary5[var])\n",
    "        median: float = df[var].median()\n",
    "        df[var] = df[var].apply(lambda x: median if x > top or x < bottom else x)\n",
    "    df.to_csv(\"datasets/class_ny_arrests_replacing_outliers2.csv\", index=False)\n",
    "    print(\"Data after replacing outliers:\", df.shape)\n",
    "    print(df.describe())\n",
    "else:\n",
    "    print(\"There are no numeric variables\")\n"
   ]
  },
  {
   "cell_type": "markdown",
   "metadata": {},
   "source": [
    "**Methodology of Replacing Outliers**"
   ]
  },
  {
   "cell_type": "code",
   "execution_count": null,
   "metadata": {},
   "outputs": [
    {
     "name": "stdout",
     "output_type": "stream",
     "text": [
      "{'accuracy': [0.678775, 0.7794], 'recall': [0.46053046053046054, 0.7298557298557299], 'precision': [0.6303897895826147, 0.7186278766825879], 'auc': [0.6414435781742119, 0.7709252951927135], 'f1': [0.5322363391459464, 0.724198287178846]}\n"
     ]
    },
    {
     "data": {
      "image/png": "[encoded data removed]",
      "text/plain": [
       "<Figure size 432x288 with 1 Axes>"
      ]
     },
     "metadata": {
      "needs_background": "dark"
     },
     "output_type": "display_data"
    }
   ],
   "source": [
    "new_data: DataFrame = read_csv(\"datasets/class_ny_arrests_replacing_outliers2.csv\", na_values=\"\", index_col=None, sep=',', decimal='.')\n",
    "new_data = new_data.head(200000)\n",
    "\n",
    "train, test = train_test_split(new_data, test_size=0.2, random_state=42)\n",
    "\n",
    "figure()\n",
    "eval_dropping: dict[str, list] = evaluate_approach(train, test, target=target, metric=\"recall\")\n",
    "print(eval_dropping)\n",
    "plot_multibar_chart(\n",
    "    [\"NB\", \"KNN\"], eval_dropping, title=f\"{file_tag} evaluation\", percentage=True\n",
    ")\n",
    "savefig(\"images/class_ny_arrests_replacing_outliers_eval2.png\")\n",
    "show()"
   ]
  },
  {
   "cell_type": "markdown",
   "metadata": {},
   "source": [
    "<h3>Truncate outliers</h3>"
   ]
  },
  {
   "cell_type": "code",
   "execution_count": 18,
   "metadata": {},
   "outputs": [
    {
     "name": "stdout",
     "output_type": "stream",
     "text": [
      "Data after truncating outliers: (4959541, 16)\n",
      "          OFNS_DESC    LAW_CAT_CD   ARREST_BORO  ARREST_PRECINCT  \\\n",
      "count  4.959541e+06  4.959541e+06  4.959541e+06     4.959541e+06   \n",
      "mean   3.190225e+01  2.970009e-01  2.675586e+00     6.084671e+01   \n",
      "std    2.227951e+01  4.569370e-01  1.134281e+00     3.416597e+01   \n",
      "min    0.000000e+00  0.000000e+00  1.000000e+00     1.000000e+00   \n",
      "25%    1.400000e+01  0.000000e+00  2.000000e+00     3.400000e+01   \n",
      "50%    2.000000e+01  0.000000e+00  3.000000e+00     5.200000e+01   \n",
      "75%    5.500000e+01  1.000000e+00  4.000000e+00     8.400000e+01   \n",
      "max    7.100000e+01  1.000000e+00  4.953063e+00     1.230000e+02   \n",
      "\n",
      "       JURISDICTION_CODE     AGE_GROUP      PERP_SEX     PERP_RACE  \\\n",
      "count       4.959541e+06  4.959541e+06  4.959541e+06  4.959541e+06   \n",
      "mean        5.033633e-01  2.773335e+00  1.747053e-01  1.929678e+00   \n",
      "std         2.447908e+00  8.548056e-01  3.797149e-01  1.161020e+00   \n",
      "min         0.000000e+00  1.034216e+00  0.000000e+00  0.000000e+00   \n",
      "25%         0.000000e+00  2.000000e+00  0.000000e+00  1.000000e+00   \n",
      "50%         0.000000e+00  3.000000e+00  0.000000e+00  2.000000e+00   \n",
      "75%         0.000000e+00  3.000000e+00  0.000000e+00  2.000000e+00   \n",
      "max         2.061104e+01  4.515200e+00  1.000000e+00  4.419048e+00   \n",
      "\n",
      "         X_COORD_CD    Y_COORD_CD      Latitude     Longitude          Year  \\\n",
      "count  4.959541e+06  4.959541e+06  4.959541e+06  4.959541e+06  4.959541e+06   \n",
      "mean   1.005765e+06  2.103368e+05  4.074394e+01 -7.392231e+01  2.012442e+03   \n",
      "std    1.809165e+04  3.208627e+04  8.789208e-02  6.532258e-02  4.226646e+00   \n",
      "min    9.650362e+05  1.211310e+05  4.049891e+01 -7.406929e+01  2.006000e+03   \n",
      "25%    9.937760e+05  1.868270e+05  4.067938e+01 -7.396564e+01  2.009000e+03   \n",
      "50%    1.005049e+06  2.099080e+05  4.074283e+01 -7.392489e+01  2.012000e+03   \n",
      "75%    1.016042e+06  2.372140e+05  4.081773e+01 -7.388510e+01  2.016000e+03   \n",
      "max    1.045829e+06  5.350653e+05  4.162202e+01 -7.377771e+01  2.020909e+03   \n",
      "\n",
      "                Day     Month_sin     Month_cos  \n",
      "count  4.959541e+06  4.959541e+06  4.959541e+06  \n",
      "mean   1.542032e+01  1.637123e-02 -1.721495e-02  \n",
      "std    8.688824e+00  7.137017e-01  7.000256e-01  \n",
      "min    1.000000e+00 -1.000000e+00 -1.000000e+00  \n",
      "25%    8.000000e+00 -8.660000e-01 -8.660000e-01  \n",
      "50%    1.500000e+01  0.000000e+00  0.000000e+00  \n",
      "75%    2.300000e+01  8.660000e-01  5.000000e-01  \n",
      "max    3.100000e+01  1.000000e+00  1.000000e+00  \n"
     ]
    }
   ],
   "source": [
    "if [] != numeric_vars:\n",
    "    df: DataFrame = data.copy(deep=True)\n",
    "    for var in numeric_vars:\n",
    "        top, bottom = determine_outlier_thresholds_for_var(summary5[var])\n",
    "        df[var] = df[var].apply(\n",
    "            lambda x: top if x > top else bottom if x < bottom else x\n",
    "        )\n",
    "    df.to_csv(\"datasets/class_ny_arrests_truncate_outliers2.csv\", index=False)\n",
    "    print(\"Data after truncating outliers:\", df.shape)\n",
    "    print(df.describe())\n",
    "else:\n",
    "    print(\"There are no numeric variables\")\n"
   ]
  },
  {
   "cell_type": "markdown",
   "metadata": {},
   "source": [
    "**Methodology of Truncating Outliers**"
   ]
  },
  {
   "cell_type": "code",
   "execution_count": null,
   "metadata": {},
   "outputs": [
    {
     "name": "stdout",
     "output_type": "stream",
     "text": [
      "{'accuracy': [0.681575, 0.779125], 'recall': [0.5441315441315442, 0.7290997290997291], 'precision': [0.610906776064507, 0.7184628755897691], 'auc': [0.6580648602242667, 0.7705680184852897], 'f1': [0.57558895071807, 0.7237422219442795]}\n"
     ]
    },
    {
     "data": {
      "image/png": "[encoded data removed]",
      "text/plain": [
       "<Figure size 432x288 with 1 Axes>"
      ]
     },
     "metadata": {
      "needs_background": "dark"
     },
     "output_type": "display_data"
    }
   ],
   "source": [
    "new_data: DataFrame = read_csv(\"datasets/class_ny_arrests_truncate_outliers2.csv\", na_values=\"\", index_col=None, sep=',', decimal='.')\n",
    "new_data = new_data.head(200000)\n",
    "\n",
    "train, test = train_test_split(new_data, test_size=0.2, random_state=42)\n",
    "\n",
    "figure()\n",
    "eval_dropping: dict[str, list] = evaluate_approach(train, test, target=target, metric=\"recall\")\n",
    "print(eval_dropping)\n",
    "plot_multibar_chart(\n",
    "    [\"NB\", \"KNN\"], eval_dropping, title=f\"{file_tag} evaluation\", percentage=True\n",
    ")\n",
    "savefig(\"images/class_ny_arrests_truncate_outliers_eval2.png\")\n",
    "show()"
   ]
  },
  {
   "cell_type": "markdown",
   "metadata": {},
   "source": [
    "After seeing every diferent case of dealing with the outliers we see that only by droping the outliers we see a very tiny change, so we will use that method."
   ]
  },
  {
   "cell_type": "markdown",
   "metadata": {},
   "source": [
    "## **Scaling**\n",
    "<h3>Methodollogy MinMax Scaler</h3>"
   ]
  },
  {
   "cell_type": "code",
   "execution_count": null,
   "metadata": {},
   "outputs": [],
   "source": [
    "from pandas import read_csv, DataFrame, Series\n",
    "from sklearn.preprocessing import StandardScaler\n",
    "\n",
    "data: DataFrame = read_csv(\"datasets/class_ny_arrest_drop_outliers2.csv\")\n",
    "\n",
    "target = \"LAW_CAT_CD\"\n",
    "\n",
    "# Separate the target column\n",
    "target_data: Series = data.pop(target).copy()  # Use .copy() to ensure immutability\n",
    "\n",
    "# Scale only the feature variables\n",
    "scaler = StandardScaler(with_mean=True, with_std=True, copy=True)\n",
    "scaled_features = scaler.fit_transform(data)\n",
    "\n",
    "# Create a DataFrame for the scaled data\n",
    "df_zscore = DataFrame(scaled_features, columns=data.columns, index=data.index)\n",
    "\n",
    "# Insert the target variable at the 4th index (Python index 3)\n",
    "df_zscore.insert(4, target, target_data)\n",
    "\n",
    "# Save the final DataFrame\n",
    "df_zscore.to_csv(\"datasets/class_ny_arrests_scaled_zscore2.csv\", index=False)"
   ]
  },
  {
   "cell_type": "markdown",
   "metadata": {},
   "source": [
    "<h3>Methodollogy Standard Scaler</h3>"
   ]
  },
  {
   "cell_type": "code",
   "execution_count": null,
   "metadata": {},
   "outputs": [
    {
     "name": "stdout",
     "output_type": "stream",
     "text": [
      "{'accuracy': [0.71995], 'recall': [0.6632922535211268], 'precision': [0.6433886313735058], 'auc': [0.7103189355255036], 'f1': [0.6531888544891641]}\n"
     ]
    },
    {
     "data": {
      "image/png": "[encoded data removed]",
      "text/plain": [
       "<Figure size 432x288 with 1 Axes>"
      ]
     },
     "metadata": {
      "needs_background": "dark"
     },
     "output_type": "display_data"
    }
   ],
   "source": [
    "def evaluate_approach2(\n",
    "    train: DataFrame, test: DataFrame, target: str = \"class\", metric: str = \"accuracy\"\n",
    ") -> dict[str, list]:\n",
    "    # Separate features and target variables\n",
    "    trnY = train.pop(target).values\n",
    "    trnX: ndarray = train.values\n",
    "    tstY = test.pop(target).values\n",
    "    tstX: ndarray = test.values\n",
    "\n",
    "    # Evaluate KNN\n",
    "    eval_KNN: dict[str, float] = run_KNN(trnX, trnY, tstX, tstY, metric=metric)\n",
    "    \n",
    "    # Create evaluation dictionary\n",
    "    eval: dict[str, list] = {}\n",
    "    for met in CLASS_EVAL_METRICS:\n",
    "        eval[met] = [eval_KNN[met]]  # Only store KNN results as a single-entry list\n",
    "\n",
    "    return eval\n",
    "\n",
    "new_data: DataFrame = read_csv(\"datasets/class_ny_arrests_scaled_zscore2.csv\")\n",
    "new_data = new_data.head(200000)\n",
    "\n",
    "train, test = train_test_split(new_data, test_size=0.2, random_state=42)\n",
    "\n",
    "figure()\n",
    "eval_minmax: dict[str, list] = evaluate_approach(train, test, target=target, metric=\"recall\")\n",
    "print(eval_minmax)\n",
    "plot_multibar_chart(\n",
    "    [\"KNN\"], eval_minmax, title=\"Class NY Arrests Evaluation\", percentage=True\n",
    ")\n",
    "savefig(\"images/class_ny_arrests_standard_scaler_eval2.png\")\n",
    "show()"
   ]
  },
  {
   "cell_type": "markdown",
   "metadata": {},
   "source": [
    "<h3>MinMax Scaler</h3>"
   ]
  },
  {
   "cell_type": "code",
   "execution_count": null,
   "metadata": {},
   "outputs": [],
   "source": [
    "from sklearn.preprocessing import MinMaxScaler\n",
    "from pandas import DataFrame, Series, read_csv\n",
    "\n",
    "# Load data\n",
    "data: DataFrame = read_csv(\"datasets/class_ny_arrest_drop_outliers2.csv\")\n",
    "\n",
    "target = \"LAW_CAT_CD\"\n",
    "vars: list[str] = data.columns.to_list()\n",
    "\n",
    "# Separate target column\n",
    "target_data: Series = data.pop(target).copy()\n",
    "\n",
    "# Apply MinMaxScaler to the remaining columns\n",
    "transf: MinMaxScaler = MinMaxScaler(feature_range=(0, 1), copy=True).fit(data)\n",
    "df_minmax = DataFrame(transf.transform(data), index=data.index, columns=data.columns)\n",
    "\n",
    "# Reinsert the target column at the 4th index\n",
    "df_minmax.insert(1, target, target_data)\n",
    "\n",
    "# Rename columns to match original variable names\n",
    "df_minmax.columns = vars\n",
    "\n",
    "# Save the resulting DataFrame\n",
    "df_minmax.to_csv(\"datasets/class_ny_arrests_scaled_minmax2.csv\", index=False)"
   ]
  },
  {
   "cell_type": "markdown",
   "metadata": {},
   "source": [
    "<h3>Methodollogy MinMax Scaler</h3>"
   ]
  },
  {
   "cell_type": "code",
   "execution_count": null,
   "metadata": {},
   "outputs": [
    {
     "name": "stdout",
     "output_type": "stream",
     "text": [
      "{'accuracy': [0.761975], 'recall': [0.7075578470824949], 'precision': [0.6979470321900391], 'auc': [0.7527248066753776], 'f1': [0.7027195803540762]}\n"
     ]
    },
    {
     "data": {
      "image/png": "[encoded data removed]",
      "text/plain": [
       "<Figure size 432x288 with 1 Axes>"
      ]
     },
     "metadata": {
      "needs_background": "dark"
     },
     "output_type": "display_data"
    }
   ],
   "source": [
    "new_data: DataFrame = read_csv(\"datasets/class_ny_arrests_scaled_minmax2.csv\", na_values=\"\", index_col=None, sep=',', decimal='.')\n",
    "new_data = new_data.head(200000)\n",
    "\n",
    "train, test = train_test_split(new_data, test_size=0.2, random_state=42)\n",
    "\n",
    "figure()\n",
    "eval_minmax: dict[str, list] = evaluate_approach2(train, test, target=target, metric=\"recall\")\n",
    "print(eval_minmax)\n",
    "plot_multibar_chart(\n",
    "    [\"KNN\"], eval_minmax, title=\"Class NY Arrests Evaluation\", percentage=True\n",
    ")\n",
    "savefig(\"images/class_ny_arrests_minmax_eval2.png\")\n",
    "show()"
   ]
  },
  {
   "cell_type": "markdown",
   "metadata": {},
   "source": [
    "Surprisingly, scaling didn't improve the results, so we won't use it."
   ]
  },
  {
   "cell_type": "markdown",
   "metadata": {},
   "source": [
    "# **Balancing**"
   ]
  },
  {
   "cell_type": "code",
   "execution_count": null,
   "metadata": {},
   "outputs": [
    {
     "name": "stdout",
     "output_type": "stream",
     "text": [
      "Minority class= 1 : 1461993\n",
      "Majority class= 0 : 3460201\n",
      "Proportion: 0.42 : 1\n"
     ]
    },
    {
     "data": {
      "image/png": "[encoded data removed]",
      "text/plain": [
       "<Figure size 432x288 with 1 Axes>"
      ]
     },
     "metadata": {
      "needs_background": "dark"
     },
     "output_type": "display_data"
    }
   ],
   "source": [
    "from pandas import read_csv, concat, DataFrame, Series\n",
    "from matplotlib.pyplot import figure, show\n",
    "from dslabs_functions import plot_bar_chart\n",
    "\n",
    "target = \"LAW_CAT_CD\"\n",
    "original: DataFrame = read_csv(\"datasets/class_ny_arrest_drop_outliers2.csv\", sep=\",\", decimal=\".\")\n",
    "\n",
    "target_count: Series = original[target].value_counts()\n",
    "positive_class = target_count.idxmin()\n",
    "negative_class = target_count.idxmax()\n",
    "\n",
    "print(\"Minority class=\", positive_class, \":\", target_count[positive_class])\n",
    "print(\"Majority class=\", negative_class, \":\", target_count[negative_class])\n",
    "print(\n",
    "    \"Proportion:\",\n",
    "    round(target_count[positive_class] / target_count[negative_class], 2),\n",
    "    \": 1\",\n",
    ")\n",
    "values: dict[str, list] = {\n",
    "    \"Original\": [target_count[positive_class], target_count[negative_class]]\n",
    "}\n",
    "\n",
    "figure()\n",
    "plot_bar_chart(\n",
    "    target_count.index.to_list(), target_count.to_list(), title=\"Class balance\"\n",
    ")\n",
    "savefig(\"images/class_ny_arrests_balancing.png\")\n",
    "show()"
   ]
  },
  {
   "cell_type": "code",
   "execution_count": 46,
   "metadata": {},
   "outputs": [],
   "source": [
    "df_positives: Series = original[original[target] == positive_class]\n",
    "df_negatives: Series = original[original[target] == negative_class]"
   ]
  },
  {
   "cell_type": "markdown",
   "metadata": {},
   "source": [
    "<h3>Undersampling</h3>"
   ]
  },
  {
   "cell_type": "code",
   "execution_count": null,
   "metadata": {},
   "outputs": [
    {
     "name": "stdout",
     "output_type": "stream",
     "text": [
      "Minority class= 1 : 1461993\n",
      "Majority class= 0 : 1461993\n",
      "Proportion: 1.0 : 1\n"
     ]
    }
   ],
   "source": [
    "df_neg_sample: DataFrame = DataFrame(df_negatives.sample(len(df_positives)))\n",
    "df_under: DataFrame = concat([df_positives, df_neg_sample], axis=0)\n",
    "df_under.to_csv(\"datasets/class_ny_arrests_under2.csv\", index=False)\n",
    "\n",
    "print(\"Minority class=\", positive_class, \":\", len(df_positives))\n",
    "print(\"Majority class=\", negative_class, \":\", len(df_neg_sample))\n",
    "print(\"Proportion:\", round(len(df_positives) / len(df_neg_sample), 2), \": 1\")"
   ]
  },
  {
   "cell_type": "markdown",
   "metadata": {},
   "source": [
    "Methodology"
   ]
  },
  {
   "cell_type": "code",
   "execution_count": null,
   "metadata": {},
   "outputs": [
    {
     "name": "stdout",
     "output_type": "stream",
     "text": [
      "{'accuracy': [0.88245, 0.780275], 'recall': [0.9679887960786275, 0.7996798879607863], 'precision': [0.8265214606021781, 0.7696899672636242], 'auc': [0.8824799281037912, 0.7802817893345192], 'f1': [0.8916789531883524, 0.7843983809640622]}\n"
     ]
    },
    {
     "data": {
      "image/png": "[encoded data removed]",
      "text/plain": [
       "<Figure size 432x288 with 1 Axes>"
      ]
     },
     "metadata": {
      "needs_background": "dark"
     },
     "output_type": "display_data"
    }
   ],
   "source": [
    "df_under_head = df_under.head(100000)\n",
    "df_under_tail = df_under.tail(100000)\n",
    "df_under = pd.concat([df_under_head, df_under_tail])\n",
    "\n",
    "df_under = df_under.reset_index(drop=True)\n",
    "\n",
    "df_under_train, df_under_test = train_test_split(df_under, test_size=0.2, random_state=42)\n",
    "\n",
    "figure()\n",
    "eval_undersampling: dict[str, list] = evaluate_approach(df_under_train, df_under_test, target=target, metric=\"recall\")\n",
    "print(eval_undersampling)\n",
    "plot_multibar_chart(\n",
    "    [\"NB\", \"KNN\"], eval_undersampling, title=f\"{file_tag} evaluation\", percentage=True\n",
    ")\n",
    "savefig(\"images/class_ny_arrests_undersampling_eval2.png\")\n",
    "show()"
   ]
  },
  {
   "cell_type": "markdown",
   "metadata": {},
   "source": [
    "<h3>Oversampling</h3>"
   ]
  },
  {
   "cell_type": "code",
   "execution_count": null,
   "metadata": {},
   "outputs": [
    {
     "name": "stdout",
     "output_type": "stream",
     "text": [
      "Minority class= 1 : 3460201\n",
      "Majority class= 0 : 3460201\n",
      "Proportion: 1.0 : 1\n"
     ]
    }
   ],
   "source": [
    "df_pos_sample: DataFrame = DataFrame(\n",
    "    df_positives.sample(len(df_negatives), replace=True)\n",
    ")\n",
    "\n",
    "df_over: DataFrame = concat([df_pos_sample, df_negatives], axis=0)\n",
    "df_over.to_csv(\"datasets/class_ny_arrests_over.csv\", index=False)\n",
    "\n",
    "print(\"Minority class=\", positive_class, \":\", len(df_pos_sample))\n",
    "print(\"Majority class=\", negative_class, \":\", len(df_negatives))\n",
    "print(\"Proportion:\", round(len(df_pos_sample) / len(df_negatives), 2), \": 1\")"
   ]
  },
  {
   "cell_type": "markdown",
   "metadata": {},
   "source": [
    "Methodology"
   ]
  },
  {
   "cell_type": "code",
   "execution_count": null,
   "metadata": {},
   "outputs": [
    {
     "name": "stdout",
     "output_type": "stream",
     "text": [
      "{'accuracy': [0.88245, 0.780275], 'recall': [0.9679887960786275, 0.7996798879607863], 'precision': [0.8265214606021781, 0.7696899672636242], 'auc': [0.8824799281037912, 0.7802817893345192], 'f1': [0.8916789531883524, 0.7843983809640622]}\n"
     ]
    },
    {
     "data": {
      "image/png": "[encoded data removed]",
      "text/plain": [
       "<Figure size 432x288 with 1 Axes>"
      ]
     },
     "metadata": {
      "needs_background": "dark"
     },
     "output_type": "display_data"
    }
   ],
   "source": [
    "df_over_head = df_over.head(100000)\n",
    "df_over_tail = df_over.tail(100000)\n",
    "df_over = pd.concat([df_over_head, df_over_tail])\n",
    "\n",
    "df_over = df_over.reset_index(drop=True)\n",
    "\n",
    "df_over_train, df_over_test = train_test_split(df_over, test_size=0.2, random_state=42)\n",
    "\n",
    "figure()\n",
    "eval_oversampling: dict[str, list] = evaluate_approach(df_over_train, df_over_test, target=target, metric=\"recall\")\n",
    "print(eval_undersampling)\n",
    "plot_multibar_chart(\n",
    "    [\"NB\", \"KNN\"], eval_oversampling, title=f\"{file_tag} evaluation\", percentage=True\n",
    ")\n",
    "savefig(\"images/class_ny_arrests_oversampling_eval2.png\")\n",
    "show()"
   ]
  },
  {
   "cell_type": "markdown",
   "metadata": {},
   "source": [
    "<h3>SMOTE</h3>"
   ]
  },
  {
   "cell_type": "code",
   "execution_count": 52,
   "metadata": {},
   "outputs": [
    {
     "name": "stdout",
     "output_type": "stream",
     "text": [
      "Collecting imbalanced-learn\n",
      "  Downloading imbalanced_learn-0.12.4-py3-none-any.whl (258 kB)\n",
      "Requirement already satisfied: numpy>=1.17.3 in c:\\users\\tiago\\appdata\\local\\programs\\python\\python39\\lib\\site-packages (from imbalanced-learn) (1.26.4)\n",
      "Requirement already satisfied: scipy>=1.5.0 in c:\\users\\tiago\\appdata\\local\\programs\\python\\python39\\lib\\site-packages (from imbalanced-learn) (1.11.3)\n",
      "Requirement already satisfied: threadpoolctl>=2.0.0 in c:\\users\\tiago\\appdata\\local\\programs\\python\\python39\\lib\\site-packages (from imbalanced-learn) (3.2.0)\n",
      "Requirement already satisfied: joblib>=1.1.1 in c:\\users\\tiago\\appdata\\local\\programs\\python\\python39\\lib\\site-packages (from imbalanced-learn) (1.3.2)\n",
      "Requirement already satisfied: scikit-learn>=1.0.2 in c:\\users\\tiago\\appdata\\local\\programs\\python\\python39\\lib\\site-packages (from imbalanced-learn) (1.3.1)\n",
      "Installing collected packages: imbalanced-learn\n",
      "Successfully installed imbalanced-learn-0.12.4\n"
     ]
    },
    {
     "name": "stderr",
     "output_type": "stream",
     "text": [
      "WARNING: You are using pip version 21.1.3; however, version 24.3.1 is available.\n",
      "You should consider upgrading via the 'c:\\users\\tiago\\appdata\\local\\programs\\python\\python39\\python.exe -m pip install --upgrade pip' command.\n"
     ]
    }
   ],
   "source": [
    "!  pip install imbalanced-learn"
   ]
  },
  {
   "cell_type": "code",
   "execution_count": null,
   "metadata": {},
   "outputs": [
    {
     "name": "stdout",
     "output_type": "stream",
     "text": [
      "Minority class= 1 : 3460201\n",
      "Majority class= 0 : 3460201\n",
      "Proportion: 1.0 : 1\n",
      "(6920402, 16)\n"
     ]
    }
   ],
   "source": [
    "from numpy import ndarray\n",
    "from pandas import Series\n",
    "from imblearn.over_sampling import SMOTE\n",
    "\n",
    "RANDOM_STATE = 42\n",
    "\n",
    "smote: SMOTE = SMOTE(sampling_strategy=\"minority\", random_state=RANDOM_STATE)\n",
    "y = original.pop(target).values\n",
    "X: ndarray = original.values\n",
    "smote_X, smote_y = smote.fit_resample(X, y)\n",
    "df_smote: DataFrame = concat([DataFrame(smote_X), DataFrame(smote_y)], axis=1)\n",
    "df_smote.columns = list(original.columns) + [target]\n",
    "df_smote.to_csv(\"datasets/class_ny_arrests_smote.csv\", index=False)\n",
    "\n",
    "smote_target_count: Series = Series(smote_y).value_counts()\n",
    "print(\"Minority class=\", positive_class, \":\", smote_target_count[positive_class])\n",
    "print(\"Majority class=\", negative_class, \":\", smote_target_count[negative_class])\n",
    "print(\n",
    "    \"Proportion:\",\n",
    "    round(smote_target_count[positive_class] / smote_target_count[negative_class], 2),\n",
    "    \": 1\",\n",
    ")\n",
    "print(df_smote.shape)"
   ]
  },
  {
   "cell_type": "markdown",
   "metadata": {},
   "source": [
    "Methodology"
   ]
  },
  {
   "cell_type": "code",
   "execution_count": null,
   "metadata": {},
   "outputs": [
    {
     "name": "stdout",
     "output_type": "stream",
     "text": [
      "{'accuracy': [0.88245, 0.780275], 'recall': [0.9679887960786275, 0.7996798879607863], 'precision': [0.8265214606021781, 0.7696899672636242], 'auc': [0.8824799281037912, 0.7802817893345192], 'f1': [0.8916789531883524, 0.7843983809640622]}\n"
     ]
    },
    {
     "data": {
      "image/png": "[encoded data removed]",
      "text/plain": [
       "<Figure size 432x288 with 1 Axes>"
      ]
     },
     "metadata": {
      "needs_background": "dark"
     },
     "output_type": "display_data"
    }
   ],
   "source": [
    "df_smote_head = df_smote.head(100000)\n",
    "df_smote_tail = df_smote.tail(100000)\n",
    "df_smote = pd.concat([df_smote_head, df_smote_tail])\n",
    "\n",
    "df_smote = df_smote.reset_index(drop=True)\n",
    "\n",
    "df_smote_train, df_smote_test = train_test_split(df_smote, test_size=0.2, random_state=42)\n",
    "\n",
    "figure()\n",
    "eval_smotesampling: dict[str, list] = evaluate_approach(df_smote_train, df_smote_test, target=target, metric=\"recall\")\n",
    "print(eval_undersampling)\n",
    "plot_multibar_chart(\n",
    "    [\"NB\", \"KNN\"], eval_smotesampling, title=f\"{file_tag} evaluation\", percentage=True\n",
    ")\n",
    "savefig(\"images/class_ny_arrests_smotesampling_eval2.png\")\n",
    "show()"
   ]
  },
  {
   "cell_type": "markdown",
   "metadata": {},
   "source": [
    "<h3>Best model seems to be with Encoding, Drop Missing Values, Drop Outliers, no Scaling and Overfiting</h3>"
   ]
  }
 ],
 "metadata": {
  "kernelspec": {
   "display_name": "Python 3",
   "language": "python",
   "name": "python3"
  },
  "language_info": {
   "codemirror_mode": {
    "name": "ipython",
    "version": 3
   },
   "file_extension": ".py",
   "mimetype": "text/x-python",
   "name": "python",
   "nbconvert_exporter": "python",
   "pygments_lexer": "ipython3",
   "version": "3.9.6"
  }
 },
 "nbformat": 4,
 "nbformat_minor": 2
}
