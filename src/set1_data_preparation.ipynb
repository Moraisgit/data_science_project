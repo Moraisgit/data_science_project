{
 "cells": [
  {
   "cell_type": "markdown",
   "metadata": {},
   "source": [
    "#### **Declare path to project directory**"
   ]
  },
  {
   "cell_type": "code",
   "execution_count": 1,
   "metadata": {},
   "outputs": [],
   "source": [
    "path_to_directory = \"/home/morais/data_science_project\""
   ]
  },
  {
   "cell_type": "markdown",
   "metadata": {},
   "source": [
    "# **Data Preparation**"
   ]
  },
  {
   "cell_type": "markdown",
   "metadata": {},
   "source": [
    "## **Variable Encoding**"
   ]
  },
  {
   "cell_type": "code",
   "execution_count": 2,
   "metadata": {},
   "outputs": [
    {
     "data": {
      "text/html": [
       "<div>\n",
       "<style scoped>\n",
       "    .dataframe tbody tr th:only-of-type {\n",
       "        vertical-align: middle;\n",
       "    }\n",
       "\n",
       "    .dataframe tbody tr th {\n",
       "        vertical-align: top;\n",
       "    }\n",
       "\n",
       "    .dataframe thead th {\n",
       "        text-align: right;\n",
       "    }\n",
       "</style>\n",
       "<table border=\"1\" class=\"dataframe\">\n",
       "  <thead>\n",
       "    <tr style=\"text-align: right;\">\n",
       "      <th></th>\n",
       "      <th>ARREST_DATE</th>\n",
       "      <th>PD_CD</th>\n",
       "      <th>PD_DESC</th>\n",
       "      <th>KY_CD</th>\n",
       "      <th>OFNS_DESC</th>\n",
       "      <th>LAW_CODE</th>\n",
       "      <th>LAW_CAT_CD</th>\n",
       "      <th>ARREST_BORO</th>\n",
       "      <th>ARREST_PRECINCT</th>\n",
       "      <th>JURISDICTION_CODE</th>\n",
       "      <th>AGE_GROUP</th>\n",
       "      <th>PERP_SEX</th>\n",
       "      <th>PERP_RACE</th>\n",
       "      <th>X_COORD_CD</th>\n",
       "      <th>Y_COORD_CD</th>\n",
       "      <th>Latitude</th>\n",
       "      <th>Longitude</th>\n",
       "    </tr>\n",
       "    <tr>\n",
       "      <th>ARREST_KEY</th>\n",
       "      <th></th>\n",
       "      <th></th>\n",
       "      <th></th>\n",
       "      <th></th>\n",
       "      <th></th>\n",
       "      <th></th>\n",
       "      <th></th>\n",
       "      <th></th>\n",
       "      <th></th>\n",
       "      <th></th>\n",
       "      <th></th>\n",
       "      <th></th>\n",
       "      <th></th>\n",
       "      <th></th>\n",
       "      <th></th>\n",
       "      <th></th>\n",
       "      <th></th>\n",
       "    </tr>\n",
       "  </thead>\n",
       "  <tbody>\n",
       "    <tr>\n",
       "      <th>32311380</th>\n",
       "      <td>06/18/2007</td>\n",
       "      <td>511.0</td>\n",
       "      <td>CONTROLLED SUBSTANCE, POSSESSION 7</td>\n",
       "      <td>235.0</td>\n",
       "      <td>DANGEROUS DRUGS</td>\n",
       "      <td>PL 2200300</td>\n",
       "      <td>0</td>\n",
       "      <td>1.0</td>\n",
       "      <td>27</td>\n",
       "      <td>0</td>\n",
       "      <td>18-24</td>\n",
       "      <td>0</td>\n",
       "      <td>1</td>\n",
       "      <td>NaN</td>\n",
       "      <td>NaN</td>\n",
       "      <td>NaN</td>\n",
       "      <td>NaN</td>\n",
       "    </tr>\n",
       "    <tr>\n",
       "      <th>192799737</th>\n",
       "      <td>01/26/2019</td>\n",
       "      <td>177.0</td>\n",
       "      <td>SEXUAL ABUSE</td>\n",
       "      <td>116.0</td>\n",
       "      <td>SEX CRIMES</td>\n",
       "      <td>PL 1306503</td>\n",
       "      <td>1</td>\n",
       "      <td>2.0</td>\n",
       "      <td>25</td>\n",
       "      <td>0</td>\n",
       "      <td>45-64</td>\n",
       "      <td>0</td>\n",
       "      <td>1</td>\n",
       "      <td>1000555.0</td>\n",
       "      <td>230994.0</td>\n",
       "      <td>40.800694</td>\n",
       "      <td>-73.941109</td>\n",
       "    </tr>\n",
       "    <tr>\n",
       "      <th>193260691</th>\n",
       "      <td>02/06/2019</td>\n",
       "      <td>NaN</td>\n",
       "      <td>NaN</td>\n",
       "      <td>NaN</td>\n",
       "      <td>NaN</td>\n",
       "      <td>PL 2203400</td>\n",
       "      <td>1</td>\n",
       "      <td>2.0</td>\n",
       "      <td>14</td>\n",
       "      <td>0</td>\n",
       "      <td>25-44</td>\n",
       "      <td>0</td>\n",
       "      <td>0</td>\n",
       "      <td>986685.0</td>\n",
       "      <td>215375.0</td>\n",
       "      <td>40.757839</td>\n",
       "      <td>-73.991212</td>\n",
       "    </tr>\n",
       "    <tr>\n",
       "      <th>149117452</th>\n",
       "      <td>01/06/2016</td>\n",
       "      <td>153.0</td>\n",
       "      <td>RAPE 3</td>\n",
       "      <td>104.0</td>\n",
       "      <td>RAPE</td>\n",
       "      <td>PL 1302503</td>\n",
       "      <td>1</td>\n",
       "      <td>3.0</td>\n",
       "      <td>67</td>\n",
       "      <td>0</td>\n",
       "      <td>25-44</td>\n",
       "      <td>0</td>\n",
       "      <td>1</td>\n",
       "      <td>998032.0</td>\n",
       "      <td>175598.0</td>\n",
       "      <td>40.648650</td>\n",
       "      <td>-73.950336</td>\n",
       "    </tr>\n",
       "    <tr>\n",
       "      <th>190049060</th>\n",
       "      <td>11/15/2018</td>\n",
       "      <td>157.0</td>\n",
       "      <td>RAPE 1</td>\n",
       "      <td>104.0</td>\n",
       "      <td>RAPE</td>\n",
       "      <td>PL 1303501</td>\n",
       "      <td>1</td>\n",
       "      <td>3.0</td>\n",
       "      <td>77</td>\n",
       "      <td>0</td>\n",
       "      <td>25-44</td>\n",
       "      <td>0</td>\n",
       "      <td>1</td>\n",
       "      <td>1003606.0</td>\n",
       "      <td>185050.0</td>\n",
       "      <td>40.674583</td>\n",
       "      <td>-73.930222</td>\n",
       "    </tr>\n",
       "  </tbody>\n",
       "</table>\n",
       "</div>"
      ],
      "text/plain": [
       "           ARREST_DATE  PD_CD                             PD_DESC  KY_CD  \\\n",
       "ARREST_KEY                                                                 \n",
       "32311380    06/18/2007  511.0  CONTROLLED SUBSTANCE, POSSESSION 7  235.0   \n",
       "192799737   01/26/2019  177.0                        SEXUAL ABUSE  116.0   \n",
       "193260691   02/06/2019    NaN                                 NaN    NaN   \n",
       "149117452   01/06/2016  153.0                              RAPE 3  104.0   \n",
       "190049060   11/15/2018  157.0                              RAPE 1  104.0   \n",
       "\n",
       "                  OFNS_DESC    LAW_CODE  LAW_CAT_CD  ARREST_BORO  \\\n",
       "ARREST_KEY                                                         \n",
       "32311380    DANGEROUS DRUGS  PL 2200300           0          1.0   \n",
       "192799737        SEX CRIMES  PL 1306503           1          2.0   \n",
       "193260691               NaN  PL 2203400           1          2.0   \n",
       "149117452              RAPE  PL 1302503           1          3.0   \n",
       "190049060              RAPE  PL 1303501           1          3.0   \n",
       "\n",
       "            ARREST_PRECINCT  JURISDICTION_CODE AGE_GROUP  PERP_SEX  PERP_RACE  \\\n",
       "ARREST_KEY                                                                      \n",
       "32311380                 27                  0     18-24         0          1   \n",
       "192799737                25                  0     45-64         0          1   \n",
       "193260691                14                  0     25-44         0          0   \n",
       "149117452                67                  0     25-44         0          1   \n",
       "190049060                77                  0     25-44         0          1   \n",
       "\n",
       "            X_COORD_CD  Y_COORD_CD   Latitude  Longitude  \n",
       "ARREST_KEY                                                \n",
       "32311380           NaN         NaN        NaN        NaN  \n",
       "192799737    1000555.0    230994.0  40.800694 -73.941109  \n",
       "193260691     986685.0    215375.0  40.757839 -73.991212  \n",
       "149117452     998032.0    175598.0  40.648650 -73.950336  \n",
       "190049060    1003606.0    185050.0  40.674583 -73.930222  "
      ]
     },
     "execution_count": 2,
     "metadata": {},
     "output_type": "execute_result"
    }
   ],
   "source": [
    "from pandas import read_csv, DataFrame\n",
    "from dslabs_functions import get_variable_types, encode_cyclic_variables, dummify\n",
    "\n",
    "data: DataFrame = read_csv(f\"{path_to_directory}/datasets/class_ny_arrests.csv\", index_col=\"ARREST_KEY\", na_values=\"\")\n",
    "\n",
    "jurisdiction_code: dict[str, int] = {\"NY\": 0, \"nonNY\": 1}\n",
    "arrest_boro: dict[str, int] = {\"Q\": 1, \"M\": 2, \"K\": 3, \"B\": 4, \"S\": 5}\n",
    "perp_races: dict[str, int] = {\"UNKNOWN\": 0, \"BLACK\": 1, \"WHITE HISPANIC\": 2, \"BLACK HISPANIC\": 3,\n",
    "                              \"WHITE\": 4, \"ASIAN / PACIFIC ISLANDER\": 5, \"AMERICAN INDIAN/ALASKAN NATIVE\": 6, \"OTHER\": 7}\n",
    "law_cat_cd: dict[str, int] = {\"M\": 0, \"F\": 1}\n",
    "\n",
    "data['JURISDICTION_CODE'] = data['JURISDICTION_CODE'].apply(lambda x: 'NY' if x < 3 else 'nonNY')\n",
    "\n",
    "encoding: dict[str, dict[str, int]] = {\n",
    "    \"ARREST_BORO\": arrest_boro,\n",
    "    \"PERP_RACE\": perp_races,\n",
    "    \"LAW_CAT_CD\": law_cat_cd,\n",
    "    \"PERP_SEX\": law_cat_cd,\n",
    "    \"JURISDICTION_CODE\": jurisdiction_code,\n",
    "}\n",
    "data: DataFrame = data.replace(encoding, inplace=False)\n",
    "data.head()"
   ]
  },
  {
   "cell_type": "code",
   "execution_count": 3,
   "metadata": {},
   "outputs": [
    {
     "data": {
      "text/html": [
       "<div>\n",
       "<style scoped>\n",
       "    .dataframe tbody tr th:only-of-type {\n",
       "        vertical-align: middle;\n",
       "    }\n",
       "\n",
       "    .dataframe tbody tr th {\n",
       "        vertical-align: top;\n",
       "    }\n",
       "\n",
       "    .dataframe thead th {\n",
       "        text-align: right;\n",
       "    }\n",
       "</style>\n",
       "<table border=\"1\" class=\"dataframe\">\n",
       "  <thead>\n",
       "    <tr style=\"text-align: right;\">\n",
       "      <th></th>\n",
       "      <th>ARREST_DATE</th>\n",
       "      <th>PD_CD</th>\n",
       "      <th>PD_DESC</th>\n",
       "      <th>KY_CD</th>\n",
       "      <th>OFNS_DESC</th>\n",
       "      <th>LAW_CODE</th>\n",
       "      <th>LAW_CAT_CD</th>\n",
       "      <th>ARREST_BORO</th>\n",
       "      <th>ARREST_PRECINCT</th>\n",
       "      <th>JURISDICTION_CODE</th>\n",
       "      <th>AGE_GROUP</th>\n",
       "      <th>PERP_SEX</th>\n",
       "      <th>PERP_RACE</th>\n",
       "      <th>X_COORD_CD</th>\n",
       "      <th>Y_COORD_CD</th>\n",
       "      <th>Latitude</th>\n",
       "      <th>Longitude</th>\n",
       "    </tr>\n",
       "    <tr>\n",
       "      <th>ARREST_KEY</th>\n",
       "      <th></th>\n",
       "      <th></th>\n",
       "      <th></th>\n",
       "      <th></th>\n",
       "      <th></th>\n",
       "      <th></th>\n",
       "      <th></th>\n",
       "      <th></th>\n",
       "      <th></th>\n",
       "      <th></th>\n",
       "      <th></th>\n",
       "      <th></th>\n",
       "      <th></th>\n",
       "      <th></th>\n",
       "      <th></th>\n",
       "      <th></th>\n",
       "      <th></th>\n",
       "    </tr>\n",
       "  </thead>\n",
       "  <tbody>\n",
       "    <tr>\n",
       "      <th>32311380</th>\n",
       "      <td>06/18/2007</td>\n",
       "      <td>511.0</td>\n",
       "      <td>CONTROLLED SUBSTANCE, POSSESSION 7</td>\n",
       "      <td>235.0</td>\n",
       "      <td>DANGEROUS DRUGS</td>\n",
       "      <td>PL 2200300</td>\n",
       "      <td>0</td>\n",
       "      <td>1.0</td>\n",
       "      <td>27</td>\n",
       "      <td>0</td>\n",
       "      <td>2</td>\n",
       "      <td>0</td>\n",
       "      <td>1</td>\n",
       "      <td>NaN</td>\n",
       "      <td>NaN</td>\n",
       "      <td>NaN</td>\n",
       "      <td>NaN</td>\n",
       "    </tr>\n",
       "    <tr>\n",
       "      <th>192799737</th>\n",
       "      <td>01/26/2019</td>\n",
       "      <td>177.0</td>\n",
       "      <td>SEXUAL ABUSE</td>\n",
       "      <td>116.0</td>\n",
       "      <td>SEX CRIMES</td>\n",
       "      <td>PL 1306503</td>\n",
       "      <td>1</td>\n",
       "      <td>2.0</td>\n",
       "      <td>25</td>\n",
       "      <td>0</td>\n",
       "      <td>4</td>\n",
       "      <td>0</td>\n",
       "      <td>1</td>\n",
       "      <td>1000555.0</td>\n",
       "      <td>230994.0</td>\n",
       "      <td>40.800694</td>\n",
       "      <td>-73.941109</td>\n",
       "    </tr>\n",
       "    <tr>\n",
       "      <th>193260691</th>\n",
       "      <td>02/06/2019</td>\n",
       "      <td>NaN</td>\n",
       "      <td>NaN</td>\n",
       "      <td>NaN</td>\n",
       "      <td>NaN</td>\n",
       "      <td>PL 2203400</td>\n",
       "      <td>1</td>\n",
       "      <td>2.0</td>\n",
       "      <td>14</td>\n",
       "      <td>0</td>\n",
       "      <td>3</td>\n",
       "      <td>0</td>\n",
       "      <td>0</td>\n",
       "      <td>986685.0</td>\n",
       "      <td>215375.0</td>\n",
       "      <td>40.757839</td>\n",
       "      <td>-73.991212</td>\n",
       "    </tr>\n",
       "    <tr>\n",
       "      <th>149117452</th>\n",
       "      <td>01/06/2016</td>\n",
       "      <td>153.0</td>\n",
       "      <td>RAPE 3</td>\n",
       "      <td>104.0</td>\n",
       "      <td>RAPE</td>\n",
       "      <td>PL 1302503</td>\n",
       "      <td>1</td>\n",
       "      <td>3.0</td>\n",
       "      <td>67</td>\n",
       "      <td>0</td>\n",
       "      <td>3</td>\n",
       "      <td>0</td>\n",
       "      <td>1</td>\n",
       "      <td>998032.0</td>\n",
       "      <td>175598.0</td>\n",
       "      <td>40.648650</td>\n",
       "      <td>-73.950336</td>\n",
       "    </tr>\n",
       "    <tr>\n",
       "      <th>190049060</th>\n",
       "      <td>11/15/2018</td>\n",
       "      <td>157.0</td>\n",
       "      <td>RAPE 1</td>\n",
       "      <td>104.0</td>\n",
       "      <td>RAPE</td>\n",
       "      <td>PL 1303501</td>\n",
       "      <td>1</td>\n",
       "      <td>3.0</td>\n",
       "      <td>77</td>\n",
       "      <td>0</td>\n",
       "      <td>3</td>\n",
       "      <td>0</td>\n",
       "      <td>1</td>\n",
       "      <td>1003606.0</td>\n",
       "      <td>185050.0</td>\n",
       "      <td>40.674583</td>\n",
       "      <td>-73.930222</td>\n",
       "    </tr>\n",
       "  </tbody>\n",
       "</table>\n",
       "</div>"
      ],
      "text/plain": [
       "           ARREST_DATE  PD_CD                             PD_DESC  KY_CD  \\\n",
       "ARREST_KEY                                                                 \n",
       "32311380    06/18/2007  511.0  CONTROLLED SUBSTANCE, POSSESSION 7  235.0   \n",
       "192799737   01/26/2019  177.0                        SEXUAL ABUSE  116.0   \n",
       "193260691   02/06/2019    NaN                                 NaN    NaN   \n",
       "149117452   01/06/2016  153.0                              RAPE 3  104.0   \n",
       "190049060   11/15/2018  157.0                              RAPE 1  104.0   \n",
       "\n",
       "                  OFNS_DESC    LAW_CODE  LAW_CAT_CD  ARREST_BORO  \\\n",
       "ARREST_KEY                                                         \n",
       "32311380    DANGEROUS DRUGS  PL 2200300           0          1.0   \n",
       "192799737        SEX CRIMES  PL 1306503           1          2.0   \n",
       "193260691               NaN  PL 2203400           1          2.0   \n",
       "149117452              RAPE  PL 1302503           1          3.0   \n",
       "190049060              RAPE  PL 1303501           1          3.0   \n",
       "\n",
       "            ARREST_PRECINCT  JURISDICTION_CODE  AGE_GROUP  PERP_SEX  \\\n",
       "ARREST_KEY                                                            \n",
       "32311380                 27                  0          2         0   \n",
       "192799737                25                  0          4         0   \n",
       "193260691                14                  0          3         0   \n",
       "149117452                67                  0          3         0   \n",
       "190049060                77                  0          3         0   \n",
       "\n",
       "            PERP_RACE  X_COORD_CD  Y_COORD_CD   Latitude  Longitude  \n",
       "ARREST_KEY                                                           \n",
       "32311380            1         NaN         NaN        NaN        NaN  \n",
       "192799737           1   1000555.0    230994.0  40.800694 -73.941109  \n",
       "193260691           0    986685.0    215375.0  40.757839 -73.991212  \n",
       "149117452           1    998032.0    175598.0  40.648650 -73.950336  \n",
       "190049060           1   1003606.0    185050.0  40.674583 -73.930222  "
      ]
     },
     "execution_count": 3,
     "metadata": {},
     "output_type": "execute_result"
    }
   ],
   "source": [
    "age_group_mapping = {\n",
    "    '<18': 1,\n",
    "    '18-24': 2,\n",
    "    '25-44': 3,\n",
    "    '45-64': 4,\n",
    "    '65+': 5,\n",
    "    'UNKNOWN': 0\n",
    "}\n",
    "\n",
    "data[\"AGE_GROUP\"] = data[\"AGE_GROUP\"].apply(\n",
    "    lambda x: age_group_mapping.get(x, 0)  # Map valid groups; default to 0 for invalid\n",
    ")\n",
    "\n",
    "data.head()"
   ]
  },
  {
   "cell_type": "code",
   "execution_count": 4,
   "metadata": {},
   "outputs": [
    {
     "data": {
      "text/html": [
       "<div>\n",
       "<style scoped>\n",
       "    .dataframe tbody tr th:only-of-type {\n",
       "        vertical-align: middle;\n",
       "    }\n",
       "\n",
       "    .dataframe tbody tr th {\n",
       "        vertical-align: top;\n",
       "    }\n",
       "\n",
       "    .dataframe thead th {\n",
       "        text-align: right;\n",
       "    }\n",
       "</style>\n",
       "<table border=\"1\" class=\"dataframe\">\n",
       "  <thead>\n",
       "    <tr style=\"text-align: right;\">\n",
       "      <th></th>\n",
       "      <th>PD_CD</th>\n",
       "      <th>PD_DESC</th>\n",
       "      <th>KY_CD</th>\n",
       "      <th>OFNS_DESC</th>\n",
       "      <th>LAW_CODE</th>\n",
       "      <th>LAW_CAT_CD</th>\n",
       "      <th>ARREST_BORO</th>\n",
       "      <th>ARREST_PRECINCT</th>\n",
       "      <th>JURISDICTION_CODE</th>\n",
       "      <th>AGE_GROUP</th>\n",
       "      <th>PERP_SEX</th>\n",
       "      <th>PERP_RACE</th>\n",
       "      <th>X_COORD_CD</th>\n",
       "      <th>Y_COORD_CD</th>\n",
       "      <th>Latitude</th>\n",
       "      <th>Longitude</th>\n",
       "      <th>Year</th>\n",
       "      <th>Day</th>\n",
       "      <th>Month_sin</th>\n",
       "      <th>Month_cos</th>\n",
       "    </tr>\n",
       "    <tr>\n",
       "      <th>ARREST_KEY</th>\n",
       "      <th></th>\n",
       "      <th></th>\n",
       "      <th></th>\n",
       "      <th></th>\n",
       "      <th></th>\n",
       "      <th></th>\n",
       "      <th></th>\n",
       "      <th></th>\n",
       "      <th></th>\n",
       "      <th></th>\n",
       "      <th></th>\n",
       "      <th></th>\n",
       "      <th></th>\n",
       "      <th></th>\n",
       "      <th></th>\n",
       "      <th></th>\n",
       "      <th></th>\n",
       "      <th></th>\n",
       "      <th></th>\n",
       "      <th></th>\n",
       "    </tr>\n",
       "  </thead>\n",
       "  <tbody>\n",
       "    <tr>\n",
       "      <th>32311380</th>\n",
       "      <td>511.0</td>\n",
       "      <td>CONTROLLED SUBSTANCE, POSSESSION 7</td>\n",
       "      <td>235.0</td>\n",
       "      <td>DANGEROUS DRUGS</td>\n",
       "      <td>PL 2200300</td>\n",
       "      <td>0</td>\n",
       "      <td>1.0</td>\n",
       "      <td>27</td>\n",
       "      <td>0</td>\n",
       "      <td>2</td>\n",
       "      <td>0</td>\n",
       "      <td>1</td>\n",
       "      <td>NaN</td>\n",
       "      <td>NaN</td>\n",
       "      <td>NaN</td>\n",
       "      <td>NaN</td>\n",
       "      <td>2007</td>\n",
       "      <td>18</td>\n",
       "      <td>0.000</td>\n",
       "      <td>-1.000</td>\n",
       "    </tr>\n",
       "    <tr>\n",
       "      <th>192799737</th>\n",
       "      <td>177.0</td>\n",
       "      <td>SEXUAL ABUSE</td>\n",
       "      <td>116.0</td>\n",
       "      <td>SEX CRIMES</td>\n",
       "      <td>PL 1306503</td>\n",
       "      <td>1</td>\n",
       "      <td>2.0</td>\n",
       "      <td>25</td>\n",
       "      <td>0</td>\n",
       "      <td>4</td>\n",
       "      <td>0</td>\n",
       "      <td>1</td>\n",
       "      <td>1000555.0</td>\n",
       "      <td>230994.0</td>\n",
       "      <td>40.800694</td>\n",
       "      <td>-73.941109</td>\n",
       "      <td>2019</td>\n",
       "      <td>26</td>\n",
       "      <td>0.500</td>\n",
       "      <td>0.866</td>\n",
       "    </tr>\n",
       "    <tr>\n",
       "      <th>193260691</th>\n",
       "      <td>NaN</td>\n",
       "      <td>NaN</td>\n",
       "      <td>NaN</td>\n",
       "      <td>NaN</td>\n",
       "      <td>PL 2203400</td>\n",
       "      <td>1</td>\n",
       "      <td>2.0</td>\n",
       "      <td>14</td>\n",
       "      <td>0</td>\n",
       "      <td>3</td>\n",
       "      <td>0</td>\n",
       "      <td>0</td>\n",
       "      <td>986685.0</td>\n",
       "      <td>215375.0</td>\n",
       "      <td>40.757839</td>\n",
       "      <td>-73.991212</td>\n",
       "      <td>2019</td>\n",
       "      <td>6</td>\n",
       "      <td>0.866</td>\n",
       "      <td>0.500</td>\n",
       "    </tr>\n",
       "    <tr>\n",
       "      <th>149117452</th>\n",
       "      <td>153.0</td>\n",
       "      <td>RAPE 3</td>\n",
       "      <td>104.0</td>\n",
       "      <td>RAPE</td>\n",
       "      <td>PL 1302503</td>\n",
       "      <td>1</td>\n",
       "      <td>3.0</td>\n",
       "      <td>67</td>\n",
       "      <td>0</td>\n",
       "      <td>3</td>\n",
       "      <td>0</td>\n",
       "      <td>1</td>\n",
       "      <td>998032.0</td>\n",
       "      <td>175598.0</td>\n",
       "      <td>40.648650</td>\n",
       "      <td>-73.950336</td>\n",
       "      <td>2016</td>\n",
       "      <td>6</td>\n",
       "      <td>0.500</td>\n",
       "      <td>0.866</td>\n",
       "    </tr>\n",
       "    <tr>\n",
       "      <th>190049060</th>\n",
       "      <td>157.0</td>\n",
       "      <td>RAPE 1</td>\n",
       "      <td>104.0</td>\n",
       "      <td>RAPE</td>\n",
       "      <td>PL 1303501</td>\n",
       "      <td>1</td>\n",
       "      <td>3.0</td>\n",
       "      <td>77</td>\n",
       "      <td>0</td>\n",
       "      <td>3</td>\n",
       "      <td>0</td>\n",
       "      <td>1</td>\n",
       "      <td>1003606.0</td>\n",
       "      <td>185050.0</td>\n",
       "      <td>40.674583</td>\n",
       "      <td>-73.930222</td>\n",
       "      <td>2018</td>\n",
       "      <td>15</td>\n",
       "      <td>-0.500</td>\n",
       "      <td>0.866</td>\n",
       "    </tr>\n",
       "  </tbody>\n",
       "</table>\n",
       "</div>"
      ],
      "text/plain": [
       "            PD_CD                             PD_DESC  KY_CD        OFNS_DESC  \\\n",
       "ARREST_KEY                                                                      \n",
       "32311380    511.0  CONTROLLED SUBSTANCE, POSSESSION 7  235.0  DANGEROUS DRUGS   \n",
       "192799737   177.0                        SEXUAL ABUSE  116.0       SEX CRIMES   \n",
       "193260691     NaN                                 NaN    NaN              NaN   \n",
       "149117452   153.0                              RAPE 3  104.0             RAPE   \n",
       "190049060   157.0                              RAPE 1  104.0             RAPE   \n",
       "\n",
       "              LAW_CODE  LAW_CAT_CD  ARREST_BORO  ARREST_PRECINCT  \\\n",
       "ARREST_KEY                                                         \n",
       "32311380    PL 2200300           0          1.0               27   \n",
       "192799737   PL 1306503           1          2.0               25   \n",
       "193260691   PL 2203400           1          2.0               14   \n",
       "149117452   PL 1302503           1          3.0               67   \n",
       "190049060   PL 1303501           1          3.0               77   \n",
       "\n",
       "            JURISDICTION_CODE  AGE_GROUP  PERP_SEX  PERP_RACE  X_COORD_CD  \\\n",
       "ARREST_KEY                                                                  \n",
       "32311380                    0          2         0          1         NaN   \n",
       "192799737                   0          4         0          1   1000555.0   \n",
       "193260691                   0          3         0          0    986685.0   \n",
       "149117452                   0          3         0          1    998032.0   \n",
       "190049060                   0          3         0          1   1003606.0   \n",
       "\n",
       "            Y_COORD_CD   Latitude  Longitude  Year  Day  Month_sin  Month_cos  \n",
       "ARREST_KEY                                                                     \n",
       "32311380           NaN        NaN        NaN  2007   18      0.000     -1.000  \n",
       "192799737     230994.0  40.800694 -73.941109  2019   26      0.500      0.866  \n",
       "193260691     215375.0  40.757839 -73.991212  2019    6      0.866      0.500  \n",
       "149117452     175598.0  40.648650 -73.950336  2016    6      0.500      0.866  \n",
       "190049060     185050.0  40.674583 -73.930222  2018   15     -0.500      0.866  "
      ]
     },
     "execution_count": 4,
     "metadata": {},
     "output_type": "execute_result"
    }
   ],
   "source": [
    "import pandas as pd\n",
    "from math import pi, sin, cos\n",
    "\n",
    "# Função para codificar variáveis cíclicas\n",
    "def encode_cyclic_variables(data: DataFrame, vars: list[str]) -> None:\n",
    "    for v in vars:\n",
    "        x_max = max(data[v])  # Valor máximo da variável\n",
    "        data[v + \"_sin\"] = data[v].apply(lambda x: round(sin(2 * pi * x / x_max), 3))\n",
    "        data[v + \"_cos\"] = data[v].apply(lambda x: round(cos(2 * pi * x / x_max), 3))\n",
    "    return data\n",
    "\n",
    "# Transformar a coluna \"ARREST_DATE\"\n",
    "data[\"ARREST_DATE\"] = pd.to_datetime(data[\"ARREST_DATE\"], format=\"%m/%d/%Y\")\n",
    "data[\"Year\"] = data[\"ARREST_DATE\"].dt.year\n",
    "data[\"Month\"] = data[\"ARREST_DATE\"].dt.month\n",
    "data[\"Day\"] = data[\"ARREST_DATE\"].dt.day\n",
    "\n",
    "# Criar variáveis cíclicas também para mês (opcional)\n",
    "data = encode_cyclic_variables(data, [\"Month\"])\n",
    "\n",
    "# Remover colunas originais (opcional)\n",
    "data = data.drop(columns=[\"ARREST_DATE\", \"Month\"])\n",
    "\n",
    "data.head()"
   ]
  },
  {
   "cell_type": "code",
   "execution_count": 5,
   "metadata": {},
   "outputs": [
    {
     "data": {
      "text/html": [
       "<div>\n",
       "<style scoped>\n",
       "    .dataframe tbody tr th:only-of-type {\n",
       "        vertical-align: middle;\n",
       "    }\n",
       "\n",
       "    .dataframe tbody tr th {\n",
       "        vertical-align: top;\n",
       "    }\n",
       "\n",
       "    .dataframe thead th {\n",
       "        text-align: right;\n",
       "    }\n",
       "</style>\n",
       "<table border=\"1\" class=\"dataframe\">\n",
       "  <thead>\n",
       "    <tr style=\"text-align: right;\">\n",
       "      <th></th>\n",
       "      <th>PD_CD</th>\n",
       "      <th>KY_CD</th>\n",
       "      <th>OFNS_DESC</th>\n",
       "      <th>LAW_CAT_CD</th>\n",
       "      <th>ARREST_BORO</th>\n",
       "      <th>ARREST_PRECINCT</th>\n",
       "      <th>JURISDICTION_CODE</th>\n",
       "      <th>AGE_GROUP</th>\n",
       "      <th>PERP_SEX</th>\n",
       "      <th>PERP_RACE</th>\n",
       "      <th>X_COORD_CD</th>\n",
       "      <th>Y_COORD_CD</th>\n",
       "      <th>Latitude</th>\n",
       "      <th>Longitude</th>\n",
       "      <th>Year</th>\n",
       "      <th>Day</th>\n",
       "      <th>Month_sin</th>\n",
       "      <th>Month_cos</th>\n",
       "    </tr>\n",
       "    <tr>\n",
       "      <th>ARREST_KEY</th>\n",
       "      <th></th>\n",
       "      <th></th>\n",
       "      <th></th>\n",
       "      <th></th>\n",
       "      <th></th>\n",
       "      <th></th>\n",
       "      <th></th>\n",
       "      <th></th>\n",
       "      <th></th>\n",
       "      <th></th>\n",
       "      <th></th>\n",
       "      <th></th>\n",
       "      <th></th>\n",
       "      <th></th>\n",
       "      <th></th>\n",
       "      <th></th>\n",
       "      <th></th>\n",
       "      <th></th>\n",
       "    </tr>\n",
       "  </thead>\n",
       "  <tbody>\n",
       "    <tr>\n",
       "      <th>32311380</th>\n",
       "      <td>511.0</td>\n",
       "      <td>235.0</td>\n",
       "      <td>DANGEROUS DRUGS</td>\n",
       "      <td>0</td>\n",
       "      <td>1.0</td>\n",
       "      <td>27</td>\n",
       "      <td>0</td>\n",
       "      <td>2</td>\n",
       "      <td>0</td>\n",
       "      <td>1</td>\n",
       "      <td>NaN</td>\n",
       "      <td>NaN</td>\n",
       "      <td>NaN</td>\n",
       "      <td>NaN</td>\n",
       "      <td>2007</td>\n",
       "      <td>18</td>\n",
       "      <td>0.000</td>\n",
       "      <td>-1.000</td>\n",
       "    </tr>\n",
       "    <tr>\n",
       "      <th>192799737</th>\n",
       "      <td>177.0</td>\n",
       "      <td>116.0</td>\n",
       "      <td>SEX CRIMES</td>\n",
       "      <td>1</td>\n",
       "      <td>2.0</td>\n",
       "      <td>25</td>\n",
       "      <td>0</td>\n",
       "      <td>4</td>\n",
       "      <td>0</td>\n",
       "      <td>1</td>\n",
       "      <td>1000555.0</td>\n",
       "      <td>230994.0</td>\n",
       "      <td>40.800694</td>\n",
       "      <td>-73.941109</td>\n",
       "      <td>2019</td>\n",
       "      <td>26</td>\n",
       "      <td>0.500</td>\n",
       "      <td>0.866</td>\n",
       "    </tr>\n",
       "    <tr>\n",
       "      <th>193260691</th>\n",
       "      <td>NaN</td>\n",
       "      <td>NaN</td>\n",
       "      <td>NaN</td>\n",
       "      <td>1</td>\n",
       "      <td>2.0</td>\n",
       "      <td>14</td>\n",
       "      <td>0</td>\n",
       "      <td>3</td>\n",
       "      <td>0</td>\n",
       "      <td>0</td>\n",
       "      <td>986685.0</td>\n",
       "      <td>215375.0</td>\n",
       "      <td>40.757839</td>\n",
       "      <td>-73.991212</td>\n",
       "      <td>2019</td>\n",
       "      <td>6</td>\n",
       "      <td>0.866</td>\n",
       "      <td>0.500</td>\n",
       "    </tr>\n",
       "    <tr>\n",
       "      <th>149117452</th>\n",
       "      <td>153.0</td>\n",
       "      <td>104.0</td>\n",
       "      <td>RAPE</td>\n",
       "      <td>1</td>\n",
       "      <td>3.0</td>\n",
       "      <td>67</td>\n",
       "      <td>0</td>\n",
       "      <td>3</td>\n",
       "      <td>0</td>\n",
       "      <td>1</td>\n",
       "      <td>998032.0</td>\n",
       "      <td>175598.0</td>\n",
       "      <td>40.648650</td>\n",
       "      <td>-73.950336</td>\n",
       "      <td>2016</td>\n",
       "      <td>6</td>\n",
       "      <td>0.500</td>\n",
       "      <td>0.866</td>\n",
       "    </tr>\n",
       "    <tr>\n",
       "      <th>190049060</th>\n",
       "      <td>157.0</td>\n",
       "      <td>104.0</td>\n",
       "      <td>RAPE</td>\n",
       "      <td>1</td>\n",
       "      <td>3.0</td>\n",
       "      <td>77</td>\n",
       "      <td>0</td>\n",
       "      <td>3</td>\n",
       "      <td>0</td>\n",
       "      <td>1</td>\n",
       "      <td>1003606.0</td>\n",
       "      <td>185050.0</td>\n",
       "      <td>40.674583</td>\n",
       "      <td>-73.930222</td>\n",
       "      <td>2018</td>\n",
       "      <td>15</td>\n",
       "      <td>-0.500</td>\n",
       "      <td>0.866</td>\n",
       "    </tr>\n",
       "  </tbody>\n",
       "</table>\n",
       "</div>"
      ],
      "text/plain": [
       "            PD_CD  KY_CD        OFNS_DESC  LAW_CAT_CD  ARREST_BORO  \\\n",
       "ARREST_KEY                                                           \n",
       "32311380    511.0  235.0  DANGEROUS DRUGS           0          1.0   \n",
       "192799737   177.0  116.0       SEX CRIMES           1          2.0   \n",
       "193260691     NaN    NaN              NaN           1          2.0   \n",
       "149117452   153.0  104.0             RAPE           1          3.0   \n",
       "190049060   157.0  104.0             RAPE           1          3.0   \n",
       "\n",
       "            ARREST_PRECINCT  JURISDICTION_CODE  AGE_GROUP  PERP_SEX  \\\n",
       "ARREST_KEY                                                            \n",
       "32311380                 27                  0          2         0   \n",
       "192799737                25                  0          4         0   \n",
       "193260691                14                  0          3         0   \n",
       "149117452                67                  0          3         0   \n",
       "190049060                77                  0          3         0   \n",
       "\n",
       "            PERP_RACE  X_COORD_CD  Y_COORD_CD   Latitude  Longitude  Year  \\\n",
       "ARREST_KEY                                                                  \n",
       "32311380            1         NaN         NaN        NaN        NaN  2007   \n",
       "192799737           1   1000555.0    230994.0  40.800694 -73.941109  2019   \n",
       "193260691           0    986685.0    215375.0  40.757839 -73.991212  2019   \n",
       "149117452           1    998032.0    175598.0  40.648650 -73.950336  2016   \n",
       "190049060           1   1003606.0    185050.0  40.674583 -73.930222  2018   \n",
       "\n",
       "            Day  Month_sin  Month_cos  \n",
       "ARREST_KEY                             \n",
       "32311380     18      0.000     -1.000  \n",
       "192799737    26      0.500      0.866  \n",
       "193260691     6      0.866      0.500  \n",
       "149117452     6      0.500      0.866  \n",
       "190049060    15     -0.500      0.866  "
      ]
     },
     "execution_count": 5,
     "metadata": {},
     "output_type": "execute_result"
    }
   ],
   "source": [
    "# Remover colunas\n",
    "data = data.drop(columns=[\"PD_DESC\", \"LAW_CODE\"])\n",
    "\n",
    "data.head()"
   ]
  },
  {
   "cell_type": "code",
   "execution_count": 6,
   "metadata": {},
   "outputs": [
    {
     "data": {
      "text/html": [
       "<div>\n",
       "<style scoped>\n",
       "    .dataframe tbody tr th:only-of-type {\n",
       "        vertical-align: middle;\n",
       "    }\n",
       "\n",
       "    .dataframe tbody tr th {\n",
       "        vertical-align: top;\n",
       "    }\n",
       "\n",
       "    .dataframe thead th {\n",
       "        text-align: right;\n",
       "    }\n",
       "</style>\n",
       "<table border=\"1\" class=\"dataframe\">\n",
       "  <thead>\n",
       "    <tr style=\"text-align: right;\">\n",
       "      <th></th>\n",
       "      <th>PD_CD</th>\n",
       "      <th>KY_CD</th>\n",
       "      <th>OFNS_DESC</th>\n",
       "      <th>LAW_CAT_CD</th>\n",
       "      <th>ARREST_BORO</th>\n",
       "      <th>ARREST_PRECINCT</th>\n",
       "      <th>JURISDICTION_CODE</th>\n",
       "      <th>AGE_GROUP</th>\n",
       "      <th>PERP_SEX</th>\n",
       "      <th>PERP_RACE</th>\n",
       "      <th>X_COORD_CD</th>\n",
       "      <th>Y_COORD_CD</th>\n",
       "      <th>Latitude</th>\n",
       "      <th>Longitude</th>\n",
       "      <th>Year</th>\n",
       "      <th>Day</th>\n",
       "      <th>Month_sin</th>\n",
       "      <th>Month_cos</th>\n",
       "    </tr>\n",
       "    <tr>\n",
       "      <th>ARREST_KEY</th>\n",
       "      <th></th>\n",
       "      <th></th>\n",
       "      <th></th>\n",
       "      <th></th>\n",
       "      <th></th>\n",
       "      <th></th>\n",
       "      <th></th>\n",
       "      <th></th>\n",
       "      <th></th>\n",
       "      <th></th>\n",
       "      <th></th>\n",
       "      <th></th>\n",
       "      <th></th>\n",
       "      <th></th>\n",
       "      <th></th>\n",
       "      <th></th>\n",
       "      <th></th>\n",
       "      <th></th>\n",
       "    </tr>\n",
       "  </thead>\n",
       "  <tbody>\n",
       "    <tr>\n",
       "      <th>32311380</th>\n",
       "      <td>114</td>\n",
       "      <td>30</td>\n",
       "      <td>14</td>\n",
       "      <td>0</td>\n",
       "      <td>1.0</td>\n",
       "      <td>27</td>\n",
       "      <td>0</td>\n",
       "      <td>2</td>\n",
       "      <td>0</td>\n",
       "      <td>1</td>\n",
       "      <td>NaN</td>\n",
       "      <td>NaN</td>\n",
       "      <td>NaN</td>\n",
       "      <td>NaN</td>\n",
       "      <td>2007</td>\n",
       "      <td>18</td>\n",
       "      <td>0.000</td>\n",
       "      <td>-1.000</td>\n",
       "    </tr>\n",
       "    <tr>\n",
       "      <th>192799737</th>\n",
       "      <td>33</td>\n",
       "      <td>14</td>\n",
       "      <td>66</td>\n",
       "      <td>1</td>\n",
       "      <td>2.0</td>\n",
       "      <td>25</td>\n",
       "      <td>0</td>\n",
       "      <td>4</td>\n",
       "      <td>0</td>\n",
       "      <td>1</td>\n",
       "      <td>1000555.0</td>\n",
       "      <td>230994.0</td>\n",
       "      <td>40.800694</td>\n",
       "      <td>-73.941109</td>\n",
       "      <td>2019</td>\n",
       "      <td>26</td>\n",
       "      <td>0.500</td>\n",
       "      <td>0.866</td>\n",
       "    </tr>\n",
       "    <tr>\n",
       "      <th>193260691</th>\n",
       "      <td>279</td>\n",
       "      <td>60</td>\n",
       "      <td>72</td>\n",
       "      <td>1</td>\n",
       "      <td>2.0</td>\n",
       "      <td>14</td>\n",
       "      <td>0</td>\n",
       "      <td>3</td>\n",
       "      <td>0</td>\n",
       "      <td>0</td>\n",
       "      <td>986685.0</td>\n",
       "      <td>215375.0</td>\n",
       "      <td>40.757839</td>\n",
       "      <td>-73.991212</td>\n",
       "      <td>2019</td>\n",
       "      <td>6</td>\n",
       "      <td>0.866</td>\n",
       "      <td>0.500</td>\n",
       "    </tr>\n",
       "    <tr>\n",
       "      <th>149117452</th>\n",
       "      <td>23</td>\n",
       "      <td>3</td>\n",
       "      <td>64</td>\n",
       "      <td>1</td>\n",
       "      <td>3.0</td>\n",
       "      <td>67</td>\n",
       "      <td>0</td>\n",
       "      <td>3</td>\n",
       "      <td>0</td>\n",
       "      <td>1</td>\n",
       "      <td>998032.0</td>\n",
       "      <td>175598.0</td>\n",
       "      <td>40.648650</td>\n",
       "      <td>-73.950336</td>\n",
       "      <td>2016</td>\n",
       "      <td>6</td>\n",
       "      <td>0.500</td>\n",
       "      <td>0.866</td>\n",
       "    </tr>\n",
       "    <tr>\n",
       "      <th>190049060</th>\n",
       "      <td>25</td>\n",
       "      <td>3</td>\n",
       "      <td>64</td>\n",
       "      <td>1</td>\n",
       "      <td>3.0</td>\n",
       "      <td>77</td>\n",
       "      <td>0</td>\n",
       "      <td>3</td>\n",
       "      <td>0</td>\n",
       "      <td>1</td>\n",
       "      <td>1003606.0</td>\n",
       "      <td>185050.0</td>\n",
       "      <td>40.674583</td>\n",
       "      <td>-73.930222</td>\n",
       "      <td>2018</td>\n",
       "      <td>15</td>\n",
       "      <td>-0.500</td>\n",
       "      <td>0.866</td>\n",
       "    </tr>\n",
       "  </tbody>\n",
       "</table>\n",
       "</div>"
      ],
      "text/plain": [
       "            PD_CD  KY_CD  OFNS_DESC  LAW_CAT_CD  ARREST_BORO  ARREST_PRECINCT  \\\n",
       "ARREST_KEY                                                                      \n",
       "32311380      114     30         14           0          1.0               27   \n",
       "192799737      33     14         66           1          2.0               25   \n",
       "193260691     279     60         72           1          2.0               14   \n",
       "149117452      23      3         64           1          3.0               67   \n",
       "190049060      25      3         64           1          3.0               77   \n",
       "\n",
       "            JURISDICTION_CODE  AGE_GROUP  PERP_SEX  PERP_RACE  X_COORD_CD  \\\n",
       "ARREST_KEY                                                                  \n",
       "32311380                    0          2         0          1         NaN   \n",
       "192799737                   0          4         0          1   1000555.0   \n",
       "193260691                   0          3         0          0    986685.0   \n",
       "149117452                   0          3         0          1    998032.0   \n",
       "190049060                   0          3         0          1   1003606.0   \n",
       "\n",
       "            Y_COORD_CD   Latitude  Longitude  Year  Day  Month_sin  Month_cos  \n",
       "ARREST_KEY                                                                     \n",
       "32311380           NaN        NaN        NaN  2007   18      0.000     -1.000  \n",
       "192799737     230994.0  40.800694 -73.941109  2019   26      0.500      0.866  \n",
       "193260691     215375.0  40.757839 -73.991212  2019    6      0.866      0.500  \n",
       "149117452     175598.0  40.648650 -73.950336  2016    6      0.500      0.866  \n",
       "190049060     185050.0  40.674583 -73.930222  2018   15     -0.500      0.866  "
      ]
     },
     "execution_count": 6,
     "metadata": {},
     "output_type": "execute_result"
    }
   ],
   "source": [
    "import pandas as pd\n",
    "from sklearn.preprocessing import LabelEncoder\n",
    "\n",
    "# Criando um LabelEncoder\n",
    "label_encoder = LabelEncoder()\n",
    "\n",
    "# Transformando os valores em inteiros\n",
    "data['OFNS_DESC'] = label_encoder.fit_transform(data['OFNS_DESC'])\n",
    "\n",
    "# Criando um LabelEncoder\n",
    "label_encoder = LabelEncoder()\n",
    "\n",
    "# Transformando os valores em inteiros\n",
    "data['PD_CD'] = label_encoder.fit_transform(data['PD_CD'])\n",
    "\n",
    "# Criando um LabelEncoder\n",
    "label_encoder = LabelEncoder()\n",
    "\n",
    "# Transformando os valores em inteiros\n",
    "data['KY_CD'] = label_encoder.fit_transform(data['KY_CD'])\n",
    "\n",
    "data.head()"
   ]
  },
  {
   "cell_type": "code",
   "execution_count": 7,
   "metadata": {},
   "outputs": [
    {
     "name": "stdout",
     "output_type": "stream",
     "text": [
      "Data after encoding: (4968684, 18)\n"
     ]
    }
   ],
   "source": [
    "df: DataFrame = data.copy(deep=True)\n",
    "df.to_csv(f\"{path_to_directory}/datasets/class_ny_arrests_encoding.csv\", index=False)\n",
    "print(f\"Data after encoding: {df.shape}\")"
   ]
  },
  {
   "cell_type": "markdown",
   "metadata": {},
   "source": [
    "<h3>Methodology After Variable Encoding</h3>"
   ]
  },
  {
   "cell_type": "code",
   "execution_count": 8,
   "metadata": {},
   "outputs": [
    {
     "name": "stdout",
     "output_type": "stream",
     "text": [
      "{'accuracy': [0.95075, 0.97655], 'recall': [np.float64(0.06788247213779129), np.float64(0.7527862208713273)], 'precision': [np.float64(0.5075757575757576), np.float64(0.7675619834710744)], 'auc': [np.float64(0.5322318793129918), np.float64(0.8704761062806119)], 'f1': [np.float64(0.11974977658623771), np.float64(0.7601023017902814)]}\n"
     ]
    },
    {
     "data": {
      "image/png": "[encoded data removed]",
      "text/plain": [
       "<Figure size 600x450 with 1 Axes>"
      ]
     },
     "metadata": {},
     "output_type": "display_data"
    }
   ],
   "source": [
    "from numpy import ndarray\n",
    "from pandas import DataFrame, read_csv\n",
    "from matplotlib.pyplot import savefig, show, figure\n",
    "from dslabs_functions import plot_multibar_chart, CLASS_EVAL_METRICS, run_KNN, run_NB\n",
    "from sklearn.model_selection import train_test_split\n",
    "from dslabs_functions import DELTA_IMPROVE\n",
    "from sklearn.naive_bayes import GaussianNB, BernoulliNB\n",
    "\n",
    "def run_NB(trnX, trnY, tstX, tstY, metric: str = \"accuracy\") -> dict[str, float]:\n",
    "    estimators: dict[str, GaussianNB | BernoulliNB] = {\n",
    "        \"GaussianNB\": GaussianNB(),\n",
    "        \"BernoulliNB\": BernoulliNB(),\n",
    "    }\n",
    "    best_model: GaussianNB | BernoulliNB = None\n",
    "    best_performance: float = 0.0\n",
    "    eval: dict[str, float] = {}\n",
    "\n",
    "    for clf in estimators:\n",
    "        estimators[clf].fit(trnX, trnY)\n",
    "        prdY: ndarray = estimators[clf].predict(tstX)\n",
    "        performance: float = CLASS_EVAL_METRICS[metric](tstY, prdY)\n",
    "        if performance - best_performance > DELTA_IMPROVE:\n",
    "            best_performance = performance\n",
    "            best_model = estimators[clf]\n",
    "    if best_model is not None:\n",
    "        prd: ndarray = best_model.predict(tstX)\n",
    "        for key in CLASS_EVAL_METRICS:\n",
    "            eval[key] = CLASS_EVAL_METRICS[key](tstY, prd)\n",
    "    return eval\n",
    "\n",
    "def evaluate_approach(\n",
    "    train: DataFrame, test: DataFrame, target: str = \"class\", metric: str = \"accuracy\"\n",
    ") -> dict[str, list]:\n",
    "    trnY = train.pop(target).values\n",
    "    trnX: ndarray = train.values\n",
    "    tstY = test.pop(target).values\n",
    "    tstX: ndarray = test.values\n",
    "    eval: dict[str, list] = {}\n",
    "\n",
    "    eval_NB: dict[str, float] = run_NB(trnX, trnY, tstX, tstY, metric=metric)\n",
    "    eval_KNN: dict[str, float] = run_KNN(trnX, trnY, tstX, tstY, metric=metric)\n",
    "    if eval_NB != {} and eval_KNN != {}:\n",
    "        for met in CLASS_EVAL_METRICS:\n",
    "            eval[met] = [eval_NB[met], eval_KNN[met]]\n",
    "    return eval\n",
    "\n",
    "target = \"JURISDICTION_CODE\"\n",
    "file_tag = \"class_ny_arrests\"\n",
    "filename = \"datasets/class_ny_arrests.csv\"\n",
    "\n",
    "new_data: DataFrame = read_csv(f\"{path_to_directory}/datasets/{file_tag}_encoding.csv\")\n",
    "new_data = new_data.dropna()\n",
    "\n",
    "new_data = new_data.head(100000)\n",
    "\n",
    "train, test = train_test_split(new_data, test_size=0.2, random_state=42)\n",
    "\n",
    "figure()\n",
    "eval_basic: dict[str, list] = evaluate_approach(train, test, target=target, metric=\"recall\")\n",
    "print(eval_basic)\n",
    "plot_multibar_chart(\n",
    "    [\"NB\", \"KNN\"], eval_basic, title=f\"Encoding evaluation\", percentage=True\n",
    ")\n",
    "savefig(f\"{path_to_directory}/images/Set 1 - Encoding results.png\", bbox_inches='tight')\n",
    "show()"
   ]
  },
  {
   "cell_type": "markdown",
   "metadata": {},
   "source": [
    "# **Variable Encoding**\n",
    "## **Drop Missing Values**"
   ]
  },
  {
   "cell_type": "code",
   "execution_count": 9,
   "metadata": {},
   "outputs": [
    {
     "name": "stdout",
     "output_type": "stream",
     "text": [
      "Data after missing Values: (4911581, 18)\n"
     ]
    }
   ],
   "source": [
    "# Eliminar missing values e \"Unknowns\" na idade\n",
    "data: DataFrame = read_csv(f\"{path_to_directory}/datasets/{file_tag}_encoding.csv\", na_values=\"\", index_col=None, sep=',', decimal='.')\n",
    "data = data.dropna()\n",
    "\n",
    "data = data[data['AGE_GROUP'] != 0]\n",
    "\n",
    "data = data[data['OFNS_DESC'] != 72]\n",
    "\n",
    "data = data[data['PERP_RACE'] != 0]\n",
    "\n",
    "data = data[data['PD_CD'] != 279]\n",
    "\n",
    "data = data[data['KY_CD'] != 60]\n",
    "\n",
    "df: DataFrame = data.copy(deep=True)\n",
    "df.to_csv(f\"{path_to_directory}/datasets/{file_tag}_missing_values.csv\", index=False)\n",
    "print(f\"Data after missing Values: {df.shape}\")"
   ]
  },
  {
   "cell_type": "markdown",
   "metadata": {},
   "source": [
    "**Methodology of Missing Values**"
   ]
  },
  {
   "cell_type": "code",
   "execution_count": 10,
   "metadata": {},
   "outputs": [
    {
     "name": "stdout",
     "output_type": "stream",
     "text": [
      "{'accuracy': [0.953425, 0.976425], 'recall': [np.float64(0.12526427061310783), np.float64(0.7373150105708245)], 'precision': [np.float64(0.5325842696629214), np.float64(0.7577403585008148)], 'auc': [np.float64(0.5599030495502821), np.float64(0.862805715634945)], 'f1': [np.float64(0.20282413350449294), np.float64(0.7473881596571122)]}\n"
     ]
    },
    {
     "data": {
      "image/png": "[encoded data removed]",
      "text/plain": [
       "<Figure size 600x450 with 1 Axes>"
      ]
     },
     "metadata": {},
     "output_type": "display_data"
    }
   ],
   "source": [
    "new_data: DataFrame = read_csv(f\"{path_to_directory}/datasets/{file_tag}_missing_values.csv\")\n",
    "new_data = new_data.head(200000)\n",
    "\n",
    "train, test = train_test_split(new_data, test_size=0.2, random_state=42)\n",
    "\n",
    "figure()\n",
    "eval_missing: dict[str, list] = evaluate_approach(train, test, target=target, metric=\"recall\")\n",
    "print(eval_missing)\n",
    "plot_multibar_chart(\n",
    "    [\"NB\", \"KNN\"], eval_missing, title=f\"Drop missing values evaluation\", percentage=True\n",
    ")\n",
    "savefig(f\"{path_to_directory}/images/Set 1 - Drop missing values results.png\", bbox_inches='tight')\n",
    "show()"
   ]
  },
  {
   "cell_type": "markdown",
   "metadata": {},
   "source": [
    "## **Filling missing values**"
   ]
  },
  {
   "cell_type": "code",
   "execution_count": 11,
   "metadata": {},
   "outputs": [
    {
     "name": "stdout",
     "output_type": "stream",
     "text": [
      "Data after missing Values: (4968684, 18)\n"
     ]
    }
   ],
   "source": [
    "# Eliminar missing values e \"Unknowns\" na idade\n",
    "data: DataFrame = read_csv(f\"{path_to_directory}/datasets/{file_tag}_encoding.csv\", na_values=\"\", index_col=None, sep=',', decimal='.')\n",
    "\n",
    "data = data.fillna(data.mean())\n",
    "\n",
    "df: DataFrame = data.copy(deep=True)\n",
    "df.to_csv(f\"{path_to_directory}/datasets/{file_tag}_filling_values.csv\", index=False)\n",
    "print(f\"Data after missing Values: {df.shape}\")"
   ]
  },
  {
   "cell_type": "markdown",
   "metadata": {},
   "source": [
    "**Methodology of Filling Values**"
   ]
  },
  {
   "cell_type": "code",
   "execution_count": 12,
   "metadata": {},
   "outputs": [
    {
     "name": "stdout",
     "output_type": "stream",
     "text": [
      "{'accuracy': [0.953525, 0.977275], 'recall': [np.float64(0.11885467314964884), np.float64(0.7482441923284711)], 'precision': [np.float64(0.49107142857142855), np.float64(0.7576586433260394)], 'auc': [np.float64(0.556439053788906), np.float64(0.8683159151372098)], 'f1': [np.float64(0.19138755980861244), np.float64(0.7529219896711062)]}\n"
     ]
    },
    {
     "data": {
      "image/png": "[encoded data removed]",
      "text/plain": [
       "<Figure size 600x450 with 1 Axes>"
      ]
     },
     "metadata": {},
     "output_type": "display_data"
    }
   ],
   "source": [
    "new_data: DataFrame = read_csv(f\"{path_to_directory}/datasets/{file_tag}_filling_values.csv\")\n",
    "new_data = new_data.head(200000)\n",
    "\n",
    "train, test = train_test_split(new_data, test_size=0.2, random_state=42)\n",
    "\n",
    "figure()\n",
    "eval_filling: dict[str, list] = evaluate_approach(train, test, target=target, metric=\"recall\")\n",
    "print(eval_filling)\n",
    "plot_multibar_chart(\n",
    "    [\"NB\", \"KNN\"], eval_filling, title=f\"Fill missing values evaluation\", percentage=True\n",
    ")\n",
    "savefig(f\"{path_to_directory}/images/Set 1 - Fill missing values results.png\", bbox_inches='tight')\n",
    "show()"
   ]
  },
  {
   "cell_type": "markdown",
   "metadata": {},
   "source": [
    "### Outlier method evaluation"
   ]
  },
  {
   "cell_type": "code",
   "execution_count": 13,
   "metadata": {},
   "outputs": [
    {
     "name": "stdout",
     "output_type": "stream",
     "text": [
      "original: Mean NB = 0.4356379771225557, Mean KNN = 0.825495322482659\n",
      "missing: Mean NB = 0.47480014466616083, Mean KNN = 0.8163348488727392\n",
      "filling: Mean NB = 0.4622555430637192, Mean KNN = 0.8208831480925654\n",
      "\n",
      "Best Mean NB: 0.47480014466616083 from missing\n",
      "Best Mean KNN: 0.825495322482659 from original\n",
      "\n",
      "Continuing with original with mean 0.825495322482659\n"
     ]
    }
   ],
   "source": [
    "evaluations = {\"original\": eval_basic, \"missing\": eval_missing, \"filling\": eval_filling}\n",
    "\n",
    "best_mean = -float(\"inf\")\n",
    "best_mean_NB = -float(\"inf\")\n",
    "best_mean_KNN = -float(\"inf\")\n",
    "best_eval = None\n",
    "best_eval_NB = None\n",
    "best_eval_KNN = None\n",
    "best_eval_dict = None\n",
    "\n",
    "for eval_name, eval_dict in evaluations.items():\n",
    "    # Calculate mean for NB and KNN using generator expressions\n",
    "    mean_NB = sum(eval_dict[metric][0] for metric in [\"accuracy\", \"recall\", \"precision\", \"auc\", \"f1\"]) / 5\n",
    "    mean_KNN = sum(eval_dict[metric][1] for metric in [\"accuracy\", \"recall\", \"precision\", \"auc\", \"f1\"]) / 5\n",
    "    \n",
    "    # Print means\n",
    "    print(f\"{eval_name}: Mean NB = {mean_NB}, Mean KNN = {mean_KNN}\")\n",
    "\n",
    "    # Update the best mean for NB\n",
    "    if mean_NB > best_mean_NB:\n",
    "        best_mean_NB = mean_NB\n",
    "        best_eval_NB = eval_name\n",
    "\n",
    "    # Update the best mean for KNN\n",
    "    if mean_KNN > best_mean_KNN:\n",
    "        best_mean_KNN = mean_KNN\n",
    "        best_eval_KNN = eval_name\n",
    "\n",
    "# Print the best mean scores\n",
    "print(f\"\\nBest Mean NB: {best_mean_NB} from {best_eval_NB}\")\n",
    "print(f\"Best Mean KNN: {best_mean_KNN} from {best_eval_KNN}\")\n",
    "\n",
    "if best_mean_NB > best_mean_KNN:\n",
    "    best_mean = best_mean_NB\n",
    "    best_eval = best_eval_NB\n",
    "else:\n",
    "    best_mean = best_mean_KNN\n",
    "    best_eval = best_eval_KNN\n",
    "\n",
    "print(f\"\\nContinuing with {best_eval} with mean {best_mean}\")\n",
    "\n",
    "# Determine the filename based on the best evaluations\n",
    "if best_eval == \"original\":\n",
    "    filename = f\"{path_to_directory}/datasets/{file_tag}_encoding.csv\"\n",
    "    best_eval_dict = eval_basic\n",
    "elif best_eval == \"missing\":\n",
    "    filename = f\"{path_to_directory}/datasets/{file_tag}_missing_values.csv\"\n",
    "    best_eval_dict = eval_missing\n",
    "elif best_eval == \"filling\":\n",
    "    filename = f\"{path_to_directory}/datasets/{file_tag}_filling_values.csv\"\n",
    "    best_eval_dict = eval_filling"
   ]
  },
  {
   "cell_type": "markdown",
   "metadata": {},
   "source": [
    "Droping the missing values has a litle better values, so we will use that one"
   ]
  },
  {
   "cell_type": "markdown",
   "metadata": {},
   "source": [
    "## **Outliers Inputation**\n",
    "<h3>Drop Outliers</h3>"
   ]
  },
  {
   "cell_type": "code",
   "execution_count": 14,
   "metadata": {},
   "outputs": [
    {
     "name": "stdout",
     "output_type": "stream",
     "text": [
      "Original train data: (4911581, 18)\n",
      "n_std= 9\n",
      "Data after dropping outliers: (4905947, 18)\n"
     ]
    }
   ],
   "source": [
    "from pandas import read_csv, DataFrame, Series\n",
    "from dslabs_functions import (\n",
    "    NR_STDEV,\n",
    "    get_variable_types,\n",
    "    determine_outlier_thresholds_for_var,\n",
    ")\n",
    "\n",
    "data: DataFrame = read_csv(f\"{path_to_directory}/datasets/{file_tag}_missing_values.csv\")\n",
    "\n",
    "print(f\"Original train data: {data.shape}\")\n",
    "\n",
    "n_std: int = NR_STDEV\n",
    "n_std = 9\n",
    "print(\"n_std=\", n_std)\n",
    "\n",
    "numeric_vars: list[str] = get_variable_types(data)[\"numeric\"]\n",
    "\n",
    "if numeric_vars is not None:\n",
    "    df: DataFrame = data.copy(deep=True)\n",
    "    summary5: DataFrame = data[numeric_vars].describe()\n",
    "    for var in numeric_vars:\n",
    "        top_threshold, bottom_threshold = determine_outlier_thresholds_for_var(\n",
    "            summary5[var], threshold= n_std\n",
    "        )\n",
    "        outliers: Series = df[(df[var] > top_threshold) | (df[var] < bottom_threshold)]\n",
    "        df.drop(outliers.index, axis=0, inplace=True)\n",
    "    df.to_csv(f\"{path_to_directory}/datasets/{file_tag}_drop_outliers.csv\", index=False)\n",
    "    print(f\"Data after dropping outliers: {df.shape}\")\n",
    "else:\n",
    "    print(\"There are no numeric variables\")\n"
   ]
  },
  {
   "cell_type": "markdown",
   "metadata": {},
   "source": [
    "**Methodology of Droping Outliers**"
   ]
  },
  {
   "cell_type": "code",
   "execution_count": 15,
   "metadata": {},
   "outputs": [
    {
     "name": "stdout",
     "output_type": "stream",
     "text": [
      "{'accuracy': [0.953425, 0.976425], 'recall': [np.float64(0.12526427061310783), np.float64(0.7373150105708245)], 'precision': [np.float64(0.5325842696629214), np.float64(0.7577403585008148)], 'auc': [np.float64(0.5599030495502821), np.float64(0.862805715634945)], 'f1': [np.float64(0.20282413350449294), np.float64(0.7473881596571122)]}\n"
     ]
    },
    {
     "data": {
      "image/png": "[encoded data removed]",
      "text/plain": [
       "<Figure size 600x450 with 1 Axes>"
      ]
     },
     "metadata": {},
     "output_type": "display_data"
    }
   ],
   "source": [
    "new_data: DataFrame = read_csv(f\"{path_to_directory}/datasets/{file_tag}_drop_outliers.csv\", na_values=\"\", index_col=None, sep=',', decimal='.')\n",
    "new_data = new_data.head(200000)\n",
    "\n",
    "train, test = train_test_split(new_data, test_size=0.2, random_state=42)\n",
    "\n",
    "figure()\n",
    "eval_dropping: dict[str, list] = evaluate_approach(train, test, target=target, metric=\"recall\")\n",
    "print(eval_dropping)\n",
    "plot_multibar_chart(\n",
    "    [\"NB\", \"KNN\"], eval_dropping, title=f\"Drop outliers evaluation\", percentage=True\n",
    ")\n",
    "savefig(f\"{path_to_directory}/images/Set 1 - Outliers first approach (drop) results.png\", bbox_inches='tight')\n",
    "show()"
   ]
  },
  {
   "cell_type": "markdown",
   "metadata": {},
   "source": [
    "<h3>Replacing outliers with fixed value</h3>"
   ]
  },
  {
   "cell_type": "code",
   "execution_count": 16,
   "metadata": {},
   "outputs": [
    {
     "name": "stdout",
     "output_type": "stream",
     "text": [
      "Data after replacing outliers: (4911581, 18)\n",
      "              PD_CD         KY_CD     OFNS_DESC    LAW_CAT_CD   ARREST_BORO  \\\n",
      "count  4.911581e+06  4.911581e+06  4.911581e+06  4.911581e+06  4.911581e+06   \n",
      "mean   1.222021e+02  3.070827e+01  3.184675e+01  2.975767e-01  2.603482e+00   \n",
      "std    8.555396e+01  1.466663e+01  2.226760e+01  4.571923e-01  1.043173e+00   \n",
      "min    1.000000e+00  2.000000e+00  0.000000e+00  0.000000e+00  1.000000e+00   \n",
      "25%    6.100000e+01  1.900000e+01  1.400000e+01  0.000000e+00  2.000000e+00   \n",
      "50%    1.080000e+02  3.100000e+01  2.000000e+01  0.000000e+00  3.000000e+00   \n",
      "75%    1.970000e+02  4.000000e+01  5.500000e+01  1.000000e+00  3.000000e+00   \n",
      "max    2.780000e+02  5.900000e+01  7.100000e+01  1.000000e+00  4.000000e+00   \n",
      "\n",
      "       ARREST_PRECINCT  JURISDICTION_CODE     AGE_GROUP      PERP_SEX  \\\n",
      "count     4.911581e+06       4.911581e+06  4.911581e+06  4.911581e+06   \n",
      "mean      6.085427e+01       2.594419e-02  2.923338e+00  1.752485e-01   \n",
      "std       3.414311e+01       1.589689e-01  6.606390e-01  3.801795e-01   \n",
      "min       1.000000e+00       0.000000e+00  2.000000e+00  0.000000e+00   \n",
      "25%       3.400000e+01       0.000000e+00  2.000000e+00  0.000000e+00   \n",
      "50%       5.200000e+01       0.000000e+00  3.000000e+00  0.000000e+00   \n",
      "75%       8.400000e+01       0.000000e+00  3.000000e+00  0.000000e+00   \n",
      "max       1.230000e+02       1.000000e+00  4.000000e+00  1.000000e+00   \n",
      "\n",
      "          PERP_RACE    X_COORD_CD    Y_COORD_CD      Latitude     Longitude  \\\n",
      "count  4.911581e+06  4.911581e+06  4.911581e+06  4.911581e+06  4.911581e+06   \n",
      "mean   1.838209e+00  1.005692e+06  2.098513e+05  4.074263e+01 -7.392258e+01   \n",
      "std    1.016871e+00  1.432582e+04  2.976528e+04  8.170401e-02  5.173318e-02   \n",
      "min    1.000000e+00  9.650290e+05  1.211310e+05  4.049891e+01 -7.406930e+01   \n",
      "25%    1.000000e+00  9.964060e+05  1.867630e+05  4.067928e+01 -7.395610e+01   \n",
      "50%    2.000000e+00  1.005041e+06  2.098460e+05  4.074266e+01 -7.392490e+01   \n",
      "75%    2.000000e+00  1.013787e+06  2.370290e+05  4.081723e+01 -7.389334e+01   \n",
      "max    4.000000e+00  1.045805e+06  2.726650e+05  4.091505e+01 -7.377780e+01   \n",
      "\n",
      "               Year           Day     Month_sin     Month_cos  \n",
      "count  4.911581e+06  4.911581e+06  4.911581e+06  4.911581e+06  \n",
      "mean   2.012168e+03  1.541903e+01  1.631044e-02 -1.733277e-02  \n",
      "std    3.949446e+00  8.689176e+00  7.136792e-01  7.000472e-01  \n",
      "min    2.006000e+03  1.000000e+00 -1.000000e+00 -1.000000e+00  \n",
      "25%    2.009000e+03  8.000000e+00 -8.660000e-01 -8.660000e-01  \n",
      "50%    2.012000e+03  1.500000e+01  0.000000e+00  0.000000e+00  \n",
      "75%    2.015000e+03  2.300000e+01  8.660000e-01  5.000000e-01  \n",
      "max    2.020000e+03  3.100000e+01  1.000000e+00  1.000000e+00  \n"
     ]
    }
   ],
   "source": [
    "if [] != numeric_vars:\n",
    "    df: DataFrame = data.copy(deep=True)\n",
    "    for var in numeric_vars:\n",
    "        top, bottom = determine_outlier_thresholds_for_var(summary5[var])\n",
    "        median: float = df[var].median()\n",
    "        df[var] = df[var].apply(lambda x: median if x > top or x < bottom else x)\n",
    "    df.to_csv(f\"{path_to_directory}/datasets/{file_tag}_replacing_outliers.csv\", index=False)\n",
    "    print(\"Data after replacing outliers:\", df.shape)\n",
    "    print(df.describe())\n",
    "else:\n",
    "    print(\"There are no numeric variables\")\n"
   ]
  },
  {
   "cell_type": "markdown",
   "metadata": {},
   "source": [
    "**Methodology of Replacing Outliers**"
   ]
  },
  {
   "cell_type": "code",
   "execution_count": 17,
   "metadata": {},
   "outputs": [
    {
     "name": "stdout",
     "output_type": "stream",
     "text": [
      "{'accuracy': [0.952575, 0.9761], 'recall': [np.float64(0.0015856236786469344), np.float64(0.7373150105708245)], 'precision': [np.float64(0.2727272727272727), np.float64(0.7524271844660194)], 'auc': [np.float64(0.5006878470025438), np.float64(0.8626351477751781)], 'f1': [np.float64(0.0031529164477141357), np.float64(0.7447944474105713)]}\n"
     ]
    },
    {
     "data": {
      "image/png": "[encoded data removed]",
      "text/plain": [
       "<Figure size 600x450 with 1 Axes>"
      ]
     },
     "metadata": {},
     "output_type": "display_data"
    }
   ],
   "source": [
    "new_data: DataFrame = read_csv(f\"{path_to_directory}/datasets/{file_tag}_replacing_outliers.csv\", na_values=\"\", index_col=None, sep=',', decimal='.')\n",
    "new_data = new_data.head(200000)\n",
    "\n",
    "train, test = train_test_split(new_data, test_size=0.2, random_state=42)\n",
    "\n",
    "figure()\n",
    "eval_replacing: dict[str, list] = evaluate_approach(train, test, target=target, metric=\"recall\")\n",
    "print(eval_replacing)\n",
    "plot_multibar_chart(\n",
    "    [\"NB\", \"KNN\"], eval_replacing, title=f\"Replace outliers evaluation\", percentage=True\n",
    ")\n",
    "savefig(f\"{path_to_directory}/images/Set 1 - Outliers second approach (replacing) results.png\", bbox_inches='tight')\n",
    "show()"
   ]
  },
  {
   "cell_type": "markdown",
   "metadata": {},
   "source": [
    "<h3>Truncate outliers</h3>"
   ]
  },
  {
   "cell_type": "code",
   "execution_count": 18,
   "metadata": {},
   "outputs": [
    {
     "name": "stdout",
     "output_type": "stream",
     "text": [
      "Data after truncating outliers: (4911581, 18)\n",
      "              PD_CD         KY_CD     OFNS_DESC    LAW_CAT_CD   ARREST_BORO  \\\n",
      "count  4.911581e+06  4.911581e+06  4.911581e+06  4.911581e+06  4.911581e+06   \n",
      "mean   1.222021e+02  3.061062e+01  3.184675e+01  2.975767e-01  2.677175e+00   \n",
      "std    8.555396e+01  1.476370e+01  2.226760e+01  4.571923e-01  1.133654e+00   \n",
      "min    1.000000e+00  1.065720e+00  0.000000e+00  0.000000e+00  1.000000e+00   \n",
      "25%    6.100000e+01  1.900000e+01  1.400000e+01  0.000000e+00  2.000000e+00   \n",
      "50%    1.080000e+02  3.100000e+01  2.000000e+01  0.000000e+00  3.000000e+00   \n",
      "75%    1.970000e+02  4.000000e+01  5.500000e+01  1.000000e+00  4.000000e+00   \n",
      "max    2.780000e+02  5.900000e+01  7.100000e+01  1.000000e+00  4.953367e+00   \n",
      "\n",
      "       ARREST_PRECINCT  JURISDICTION_CODE     AGE_GROUP      PERP_SEX  \\\n",
      "count     4.911581e+06       4.911581e+06  4.911581e+06  4.911581e+06   \n",
      "mean      6.085427e+01       2.594419e-02  2.773291e+00  1.752485e-01   \n",
      "std       3.414311e+01       1.589689e-01  8.555098e-01  3.801795e-01   \n",
      "min       1.000000e+00       0.000000e+00  1.033191e+00  0.000000e+00   \n",
      "25%       3.400000e+01       0.000000e+00  2.000000e+00  0.000000e+00   \n",
      "50%       5.200000e+01       0.000000e+00  3.000000e+00  0.000000e+00   \n",
      "75%       8.400000e+01       0.000000e+00  3.000000e+00  0.000000e+00   \n",
      "max       1.230000e+02       1.000000e+00  4.516283e+00  1.000000e+00   \n",
      "\n",
      "          PERP_RACE    X_COORD_CD    Y_COORD_CD      Latitude     Longitude  \\\n",
      "count  4.911581e+06  4.911581e+06  4.911581e+06  4.911581e+06  4.911581e+06   \n",
      "mean   1.948538e+00  1.005749e+06  2.102910e+05  4.074382e+01 -7.392236e+01   \n",
      "std    1.150861e+00  1.808140e+04  3.206241e+04  8.782993e-02  6.528497e-02   \n",
      "min    1.000000e+00  9.650283e+05  1.211310e+05  4.049891e+01 -7.406931e+01   \n",
      "25%    1.000000e+00  9.938240e+05  1.867630e+05  4.067928e+01 -7.396546e+01   \n",
      "50%    2.000000e+00  1.005041e+06  2.098460e+05  4.074266e+01 -7.392490e+01   \n",
      "75%    3.000000e+00  1.015993e+06  2.371970e+05  4.081771e+01 -7.388532e+01   \n",
      "max    4.419363e+00  1.045806e+06  5.332951e+05  4.161727e+01 -7.377780e+01   \n",
      "\n",
      "               Year           Day     Month_sin     Month_cos  \n",
      "count  4.911581e+06  4.911581e+06  4.911581e+06  4.911581e+06  \n",
      "mean   2.012446e+03  1.541903e+01  1.631044e-02 -1.733277e-02  \n",
      "std    4.231291e+00  8.689176e+00  7.136792e-01  7.000472e-01  \n",
      "min    2.006000e+03  1.000000e+00 -1.000000e+00 -1.000000e+00  \n",
      "25%    2.009000e+03  8.000000e+00 -8.660000e-01 -8.660000e-01  \n",
      "50%    2.012000e+03  1.500000e+01  0.000000e+00  0.000000e+00  \n",
      "75%    2.016000e+03  2.300000e+01  8.660000e-01  5.000000e-01  \n",
      "max    2.020921e+03  3.100000e+01  1.000000e+00  1.000000e+00  \n"
     ]
    }
   ],
   "source": [
    "if [] != numeric_vars:\n",
    "    df: DataFrame = data.copy(deep=True)\n",
    "    for var in numeric_vars:\n",
    "        top, bottom = determine_outlier_thresholds_for_var(summary5[var])\n",
    "        df[var] = df[var].apply(\n",
    "            lambda x: top if x > top else bottom if x < bottom else x\n",
    "        )\n",
    "    df.to_csv(f\"{path_to_directory}/datasets/{file_tag}_truncate_outliers.csv\", index=False)\n",
    "    print(\"Data after truncating outliers:\", df.shape)\n",
    "    print(df.describe())\n",
    "else:\n",
    "    print(\"There are no numeric variables\")\n"
   ]
  },
  {
   "cell_type": "markdown",
   "metadata": {},
   "source": [
    "**Methodology of Truncating Outliers**"
   ]
  },
  {
   "cell_type": "code",
   "execution_count": 19,
   "metadata": {},
   "outputs": [
    {
     "name": "stdout",
     "output_type": "stream",
     "text": [
      "{'accuracy': [0.9521, 0.97615], 'recall': [np.float64(0.12790697674418605), np.float64(0.7367864693446089)], 'precision': [np.float64(0.4763779527559055), np.float64(0.7535135135135135)], 'auc': [np.float64(0.5604634075491687), np.float64(0.8624102389758628)], 'f1': [np.float64(0.20166666666666666), np.float64(0.7450561197220738)]}\n"
     ]
    },
    {
     "data": {
      "image/png": "[encoded data removed]",
      "text/plain": [
       "<Figure size 600x450 with 1 Axes>"
      ]
     },
     "metadata": {},
     "output_type": "display_data"
    }
   ],
   "source": [
    "new_data: DataFrame = read_csv(f\"{path_to_directory}/datasets/{file_tag}_truncate_outliers.csv\", na_values=\"\", index_col=None, sep=',', decimal='.')\n",
    "new_data = new_data.head(200000)\n",
    "\n",
    "train, test = train_test_split(new_data, test_size=0.2, random_state=42)\n",
    "\n",
    "figure()\n",
    "eval_truncate: dict[str, list] = evaluate_approach(train, test, target=target, metric=\"recall\")\n",
    "print(eval_truncate)\n",
    "plot_multibar_chart(\n",
    "    [\"NB\", \"KNN\"], eval_truncate, title=f\"Truncate outliers evaluation\", percentage=True\n",
    ")\n",
    "savefig(f\"{path_to_directory}/images/Set 1 - Outliers third approach (truncate) results.png\", bbox_inches='tight')\n",
    "show()"
   ]
  },
  {
   "cell_type": "markdown",
   "metadata": {},
   "source": [
    "### Outlier method evaluation"
   ]
  },
  {
   "cell_type": "code",
   "execution_count": 20,
   "metadata": {},
   "outputs": [
    {
     "name": "stdout",
     "output_type": "stream",
     "text": [
      "original: Mean NB = 0.47480014466616083, Mean KNN = 0.8163348488727392\n",
      "drop: Mean NB = 0.47480014466616083, Mean KNN = 0.8163348488727392\n",
      "replacing: Mean NB = 0.3461457319712355, Mean KNN = 0.8146543580445187\n",
      "truncate: Mean NB = 0.4637030007431854, Mean KNN = 0.8147832683112117\n",
      "\n",
      "Best Mean NB: 0.47480014466616083 from original\n",
      "Best Mean KNN: 0.8163348488727392 from original\n",
      "\n",
      "Continuing with original with mean 0.8163348488727392\n"
     ]
    }
   ],
   "source": [
    "evaluations = {\"original\": eval_missing, \"drop\": eval_dropping, \"replacing\": eval_replacing, \"truncate\": eval_truncate}\n",
    "\n",
    "best_mean = -float(\"inf\")\n",
    "best_mean_NB = -float(\"inf\")\n",
    "best_mean_KNN = -float(\"inf\")\n",
    "best_eval = None\n",
    "best_eval_NB = None\n",
    "best_eval_KNN = None\n",
    "best_eval_dict = None\n",
    "\n",
    "for eval_name, eval_dict in evaluations.items():\n",
    "    # Calculate mean for NB and KNN using generator expressions\n",
    "    mean_NB = sum(eval_dict[metric][0] for metric in [\"accuracy\", \"recall\", \"precision\", \"auc\", \"f1\"]) / 5\n",
    "    mean_KNN = sum(eval_dict[metric][1] for metric in [\"accuracy\", \"recall\", \"precision\", \"auc\", \"f1\"]) / 5\n",
    "    \n",
    "    # Print means\n",
    "    print(f\"{eval_name}: Mean NB = {mean_NB}, Mean KNN = {mean_KNN}\")\n",
    "\n",
    "    # Update the best mean for NB\n",
    "    if mean_NB > best_mean_NB:\n",
    "        best_mean_NB = mean_NB\n",
    "        best_eval_NB = eval_name\n",
    "\n",
    "    # Update the best mean for KNN\n",
    "    if mean_KNN > best_mean_KNN:\n",
    "        best_mean_KNN = mean_KNN\n",
    "        best_eval_KNN = eval_name\n",
    "\n",
    "# Print the best mean scores\n",
    "print(f\"\\nBest Mean NB: {best_mean_NB} from {best_eval_NB}\")\n",
    "print(f\"Best Mean KNN: {best_mean_KNN} from {best_eval_KNN}\")\n",
    "\n",
    "if best_mean_NB > best_mean_KNN:\n",
    "    best_mean = best_mean_NB\n",
    "    best_eval = best_eval_NB\n",
    "else:\n",
    "    best_mean = best_mean_KNN\n",
    "    best_eval = best_eval_KNN\n",
    "\n",
    "print(f\"\\nContinuing with {best_eval} with mean {best_mean}\")\n",
    "\n",
    "# Determine the filename based on the best evaluations\n",
    "if best_eval == \"original\":\n",
    "    filename = f\"{path_to_directory}/datasets/{file_tag}_missing_values.csv\"\n",
    "    best_eval_dict = eval_missing\n",
    "elif best_eval == \"drop\":\n",
    "    filename = f\"{path_to_directory}/datasets/{file_tag}_drop_outliers.csv\"\n",
    "    best_eval_dict = eval_dropping\n",
    "elif best_eval == \"replacing\":\n",
    "    filename = f\"{path_to_directory}/datasets/{file_tag}_replacing_outliers.csv\"\n",
    "    best_eval_dict = eval_replacing\n",
    "elif best_eval == \"truncate\":\n",
    "    filename = f\"{path_to_directory}/datasets/{file_tag}_truncate_outliers.csv\"\n",
    "    best_eval_dict = eval_truncate"
   ]
  },
  {
   "cell_type": "markdown",
   "metadata": {},
   "source": [
    "After seeing every diferent case of dealing with the outliers we see that the values don´t improve in any of the cases, so we will keep the missing values dataset."
   ]
  },
  {
   "cell_type": "markdown",
   "metadata": {},
   "source": [
    "## **Scaling**\n",
    "<h3>Methodollogy MinMax Scaler</h3>"
   ]
  },
  {
   "cell_type": "code",
   "execution_count": 21,
   "metadata": {},
   "outputs": [],
   "source": [
    "from pandas import read_csv, DataFrame, Series\n",
    "from sklearn.preprocessing import StandardScaler\n",
    "\n",
    "data: DataFrame = read_csv(f\"{path_to_directory}/datasets/{file_tag}_missing_values.csv\")\n",
    "\n",
    "target = \"JURISDICTION_CODE\"\n",
    "\n",
    "# Separate the target column\n",
    "target_data: Series = data.pop(target).copy()  # Use .copy() to ensure immutability\n",
    "\n",
    "# Scale only the feature variables\n",
    "scaler = StandardScaler(with_mean=True, with_std=True, copy=True)\n",
    "scaled_features = scaler.fit_transform(data)\n",
    "\n",
    "# Create a DataFrame for the scaled data\n",
    "df_zscore = DataFrame(scaled_features, columns=data.columns, index=data.index)\n",
    "\n",
    "# Insert the target variable at the 6th index\n",
    "df_zscore.insert(6, target, target_data)\n",
    "\n",
    "# Save the final DataFrame\n",
    "df_zscore.to_csv(f\"{path_to_directory}/datasets/{file_tag}_scaled_zscore.csv\", index=False)"
   ]
  },
  {
   "cell_type": "markdown",
   "metadata": {},
   "source": [
    "<h3>Methodollogy Standard Scaler</h3>"
   ]
  },
  {
   "cell_type": "code",
   "execution_count": 22,
   "metadata": {},
   "outputs": [
    {
     "name": "stdout",
     "output_type": "stream",
     "text": [
      "{'accuracy': [0.9361], 'recall': [np.float64(0.3118393234672304)], 'precision': [np.float64(0.3199566160520607)], 'auc': [np.float64(0.6394664235684004)], 'f1': [np.float64(0.3158458244111349)]}\n"
     ]
    },
    {
     "data": {
      "image/png": "[encoded data removed]",
      "text/plain": [
       "<Figure size 600x450 with 1 Axes>"
      ]
     },
     "metadata": {},
     "output_type": "display_data"
    }
   ],
   "source": [
    "from numpy import ndarray\n",
    "from pandas import DataFrame, read_csv\n",
    "from matplotlib.pyplot import savefig, show, figure\n",
    "from dslabs_functions import plot_multibar_chart, CLASS_EVAL_METRICS, run_KNN\n",
    "from sklearn.model_selection import train_test_split\n",
    "from sklearn.naive_bayes import GaussianNB, BernoulliNB\n",
    "from dslabs_functions import DELTA_IMPROVE\n",
    "\n",
    "def evaluate_approach2(\n",
    "    train: DataFrame, test: DataFrame, target: str = \"class\", metric: str = \"accuracy\"\n",
    ") -> dict[str, list]:\n",
    "    # Separate features and target variables\n",
    "    trnY = train.pop(target).values\n",
    "    trnX: ndarray = train.values\n",
    "    tstY = test.pop(target).values\n",
    "    tstX: ndarray = test.values\n",
    "\n",
    "    # Evaluate KNN\n",
    "    eval_KNN: dict[str, float] = run_KNN(trnX, trnY, tstX, tstY, metric=metric)\n",
    "    \n",
    "    # Create evaluation dictionary\n",
    "    eval: dict[str, list] = {}\n",
    "    for met in CLASS_EVAL_METRICS:\n",
    "        eval[met] = [eval_KNN[met]]  # Only store KNN results as a single-entry list\n",
    "\n",
    "    return eval\n",
    "\n",
    "new_data: DataFrame = read_csv(f\"{path_to_directory}/datasets/{file_tag}_scaled_zscore.csv\")\n",
    "new_data = new_data.head(200000)\n",
    "\n",
    "train, test = train_test_split(new_data, test_size=0.2, random_state=42)\n",
    "\n",
    "figure()\n",
    "eval_standart: dict[str, list] = evaluate_approach2(train, test, target=target, metric=\"recall\")\n",
    "print(eval_standart)\n",
    "plot_multibar_chart(\n",
    "    [\"KNN\"], eval_standart, title=\"Standard scaler evaluation\", percentage=True\n",
    ")\n",
    "savefig(f\"{path_to_directory}/images/Set 1 - z-score: KNN results.png\", bbox_inches='tight')\n",
    "show()"
   ]
  },
  {
   "cell_type": "markdown",
   "metadata": {},
   "source": [
    "<h3>MinMax Scaler</h3>"
   ]
  },
  {
   "cell_type": "code",
   "execution_count": 23,
   "metadata": {},
   "outputs": [],
   "source": [
    "from sklearn.preprocessing import MinMaxScaler\n",
    "from pandas import DataFrame, Series, read_csv\n",
    "\n",
    "# Load data\n",
    "data: DataFrame = read_csv(f\"{path_to_directory}/datasets/{file_tag}_drop_outliers.csv\")\n",
    "\n",
    "target = \"JURISDICTION_CODE\"\n",
    "vars: list[str] = data.columns.to_list()\n",
    "\n",
    "# Separate target column\n",
    "target_data: Series = data.pop(target).copy()\n",
    "\n",
    "# Apply MinMaxScaler to the remaining columns\n",
    "transf: MinMaxScaler = MinMaxScaler(feature_range=(0, 1), copy=True).fit(data)\n",
    "df_minmax = DataFrame(transf.transform(data), index=data.index, columns=data.columns)\n",
    "\n",
    "# Reinsert the target column at the 6th index\n",
    "df_minmax.insert(6, target, target_data)\n",
    "\n",
    "# Rename columns to match original variable names\n",
    "df_minmax.columns = vars\n",
    "\n",
    "# Save the resulting DataFrame\n",
    "df_minmax.to_csv(f\"{path_to_directory}/datasets/{file_tag}_scaled_minmax.csv\", index=False)"
   ]
  },
  {
   "cell_type": "markdown",
   "metadata": {},
   "source": [
    "<h3>Methodollogy MinMax Scaler</h3>"
   ]
  },
  {
   "cell_type": "code",
   "execution_count": 24,
   "metadata": {},
   "outputs": [
    {
     "name": "stdout",
     "output_type": "stream",
     "text": [
      "{'accuracy': [0.934], 'recall': [np.float64(0.2832980972515856)], 'precision': [np.float64(0.2945054945054945)], 'auc': [np.float64(0.6248021923226544)], 'f1': [np.float64(0.28879310344827586)]}\n"
     ]
    },
    {
     "data": {
      "image/png": "[encoded data removed]",
      "text/plain": [
       "<Figure size 600x450 with 1 Axes>"
      ]
     },
     "metadata": {},
     "output_type": "display_data"
    }
   ],
   "source": [
    "new_data: DataFrame = read_csv(f\"{path_to_directory}/datasets/{file_tag}_scaled_minmax.csv\", na_values=\"\", index_col=None, sep=',', decimal='.')\n",
    "new_data = new_data.head(200000)\n",
    "\n",
    "train, test = train_test_split(new_data, test_size=0.2, random_state=42)\n",
    "\n",
    "figure()\n",
    "eval_minmax: dict[str, list] = evaluate_approach2(train, test, target=target, metric=\"recall\")\n",
    "print(eval_minmax)\n",
    "plot_multibar_chart(\n",
    "    [\"KNN\"], eval_minmax, title=\"MinMax evaluation\", percentage=True\n",
    ")\n",
    "savefig(f\"{path_to_directory}/images/Set 1 - min-max: KNN results.png\", bbox_inches='tight')\n",
    "show()"
   ]
  },
  {
   "cell_type": "markdown",
   "metadata": {},
   "source": [
    "### Transformed data in boxplot"
   ]
  },
  {
   "cell_type": "code",
   "execution_count": 25,
   "metadata": {},
   "outputs": [
    {
     "data": {
      "image/png": "[encoded data removed]",
      "text/plain": [
       "<Figure size 3000x1500 with 3 Axes>"
      ]
     },
     "metadata": {},
     "output_type": "display_data"
    }
   ],
   "source": [
    "from matplotlib.pyplot import subplots, show\n",
    "\n",
    "fig, axs = subplots(1, 3, figsize=(20, 10), squeeze=False)\n",
    "axs[0, 1].set_title(\"Original data\")\n",
    "data.boxplot(ax=axs[0, 0])\n",
    "axs[0, 0].set_title(\"Z-score normalization\")\n",
    "df_zscore.boxplot(ax=axs[0, 1])\n",
    "axs[0, 2].set_title(\"MinMax normalization\")\n",
    "df_minmax.boxplot(ax=axs[0, 2])\n",
    "show()"
   ]
  },
  {
   "cell_type": "markdown",
   "metadata": {},
   "source": [
    "### Scaling method evaluation"
   ]
  },
  {
   "cell_type": "code",
   "execution_count": 26,
   "metadata": {},
   "outputs": [
    {
     "name": "stdout",
     "output_type": "stream",
     "text": [
      "missing: Mean = 0.8163348488727392\n",
      "standard_scaler: Mean = 0.5046416374997653\n",
      "minmax: Mean = 0.4850797775056021\n",
      "\n",
      "Continuing with missing with mean 0.8163348488727392\n"
     ]
    }
   ],
   "source": [
    "evaluations = {\"missing\": eval_missing, \"standard_scaler\": eval_standart, \"minmax\": eval_minmax}\n",
    "\n",
    "aux_best_eval = best_eval\n",
    "best_mean = -float(\"inf\")\n",
    "mean = -float(\"inf\")\n",
    "best_eval = None\n",
    "\n",
    "for eval_name, eval_dict in evaluations.items():\n",
    "    if eval_name == \"missing\":\n",
    "        mean = sum(eval_dict[metric][1] for metric in [\"accuracy\", \"recall\", \"precision\", \"auc\", \"f1\"]) / 5\n",
    "    else:\n",
    "        mean = sum(eval_dict[metric][0] for metric in [\"accuracy\", \"recall\", \"precision\", \"auc\", \"f1\"]) / 5\n",
    "    \n",
    "    # Print means\n",
    "    print(f\"{eval_name}: Mean = {mean}\")\n",
    "\n",
    "    # Update the best mean\n",
    "    if mean > best_mean:\n",
    "        best_mean = mean\n",
    "        best_eval = eval_name\n",
    "\n",
    "# Print the best mean scores\n",
    "print(f\"\\nContinuing with {best_eval} with mean {best_mean}\")\n",
    "\n",
    "# Determine the filename based on the best evaluations\n",
    "if best_eval == f\"{aux_best_eval}\":\n",
    "    filename = f\"{path_to_directory}/datasets/{file_tag}_missing_values.csv\"\n",
    "    best_eval_dict = eval_missing\n",
    "elif best_eval == \"standard_scaler\":\n",
    "    filename = f\"{path_to_directory}/datasets/{file_tag}_scaled_zscore.csv\"\n",
    "    best_eval_dict = eval_standart\n",
    "elif best_eval == \"minmax\":\n",
    "    filename = f\"{path_to_directory}/datasets/{file_tag}_scaled_minmax.csv\"\n",
    "    best_eval_dict = eval_minmax"
   ]
  },
  {
   "cell_type": "markdown",
   "metadata": {},
   "source": [
    "Surprisingly, scaling didn't improve the results, so we won't use it."
   ]
  },
  {
   "cell_type": "markdown",
   "metadata": {},
   "source": [
    "# **Feature Engineering**\n",
    "## **Feature Selection**\n",
    "### Dropping Low Variance Variables\n"
   ]
  },
  {
   "cell_type": "code",
   "execution_count": 27,
   "metadata": {},
   "outputs": [
    {
     "name": "stdout",
     "output_type": "stream",
     "text": [
      "Original variables ['PD_CD', 'KY_CD', 'OFNS_DESC', 'LAW_CAT_CD', 'ARREST_BORO', 'ARREST_PRECINCT', 'JURISDICTION_CODE', 'AGE_GROUP', 'PERP_SEX', 'PERP_RACE', 'X_COORD_CD', 'Y_COORD_CD', 'Latitude', 'Longitude', 'Year', 'Day', 'Month_sin', 'Month_cos']\n",
      "Variables to drop ['LAW_CAT_CD', 'ARREST_BORO', 'AGE_GROUP', 'PERP_SEX', 'PERP_RACE', 'Latitude', 'Longitude', 'Month_sin', 'Month_cos']\n"
     ]
    }
   ],
   "source": [
    "from pandas import DataFrame, Index, read_csv\n",
    "from dslabs_functions import (\n",
    "    select_low_variance_variables,\n",
    "    study_variance_for_feature_selection,\n",
    "    apply_feature_selection,\n",
    "    select_redundant_variables,\n",
    "    study_redundancy_for_feature_selection,\n",
    ")\n",
    "\n",
    "\n",
    "def select_low_variance_variables(\n",
    "    data: DataFrame, max_threshold: float, target: str = \"class\"\n",
    ") -> list:\n",
    "    summary5: DataFrame = data.describe()\n",
    "    vars2drop: Index[str] = summary5.columns[\n",
    "        summary5.loc[\"std\"] * summary5.loc[\"std\"] < max_threshold\n",
    "    ]\n",
    "    vars2drop = vars2drop.drop(target) if target in vars2drop else vars2drop\n",
    "    return list(vars2drop.values)\n",
    "\n",
    "\n",
    "target = \"JURISDICTION_CODE\"\n",
    "train: DataFrame = read_csv(filepath_or_buffer=filename)\n",
    "\n",
    "print(\"Original variables\", train.columns.to_list())\n",
    "vars2drop: list[str] = select_low_variance_variables(train, 3, target=target)\n",
    "print(\"Variables to drop\", vars2drop)"
   ]
  },
  {
   "cell_type": "code",
   "execution_count": 28,
   "metadata": {},
   "outputs": [
    {
     "data": {
      "image/png": "[encoded data removed]",
      "text/plain": [
       "<Figure size 600x450 with 1 Axes>"
      ]
     },
     "metadata": {},
     "output_type": "display_data"
    }
   ],
   "source": [
    "from math import ceil\n",
    "from matplotlib.pyplot import savefig, show, figure\n",
    "from dslabs_functions import HEIGHT, plot_multiline_chart\n",
    "from pandas import Index\n",
    "\n",
    "\n",
    "def evaluate_approach(\n",
    "    train: DataFrame, test: DataFrame, target: str = \"class\", metric: str = \"accuracy\"\n",
    ") -> dict[str, list]:\n",
    "    trnY = train.pop(target).values\n",
    "    trnX: ndarray = train.values\n",
    "    tstY = test.pop(target).values\n",
    "    tstX: ndarray = test.values\n",
    "    eval: dict[str, list] = {}\n",
    "\n",
    "    eval_NB: dict[str, float] = run_NB(trnX, trnY, tstX, tstY, metric=metric)\n",
    "    eval_KNN: dict[str, float] = run_KNN(trnX, trnY, tstX, tstY, metric=metric)\n",
    "    if eval_NB != {} and eval_KNN != {}:\n",
    "        for met in CLASS_EVAL_METRICS:\n",
    "            eval[met] = [eval_NB[met], eval_KNN[met]]\n",
    "    return eval\n",
    "\n",
    "def study_variance_for_feature_selection(\n",
    "    train: DataFrame,\n",
    "    test: DataFrame,\n",
    "    target: str = \"class\",\n",
    "    max_threshold: float = 1,\n",
    "    lag: float = 0.05,\n",
    "    metric: str = \"accuracy\",\n",
    "    file_tag: str = \"\",\n",
    ") -> dict:\n",
    "    options: list[float] = [\n",
    "        round(i * lag, 3) for i in range(1, ceil(max_threshold / lag + lag))\n",
    "    ]\n",
    "    results: dict[str, list] = {\"NB\": [], \"KNN\": []}\n",
    "    summary5: DataFrame = train.describe()\n",
    "    for thresh in options:\n",
    "        vars2drop: Index[str] = summary5.columns[\n",
    "            summary5.loc[\"std\"] * summary5.loc[\"std\"] < thresh\n",
    "        ]\n",
    "        vars2drop = vars2drop.drop(target) if target in vars2drop else vars2drop\n",
    "\n",
    "        train_copy: DataFrame = train.drop(vars2drop, axis=1, inplace=False)\n",
    "        test_copy: DataFrame = test.drop(vars2drop, axis=1, inplace=False)\n",
    "        eval: dict[str, list] | None = evaluate_approach(\n",
    "            train_copy, test_copy, target=target, metric=metric\n",
    "        )\n",
    "        if eval is not None:\n",
    "            results[\"NB\"].append(eval[metric][0])\n",
    "            results[\"KNN\"].append(eval[metric][1])\n",
    "\n",
    "    plot_multiline_chart(\n",
    "        options,\n",
    "        results,\n",
    "        title=f\"Drop low variance variables study\",\n",
    "        xlabel=\"variance threshold\",\n",
    "        ylabel=metric,\n",
    "        percentage=True,\n",
    "    )\n",
    "    savefig(f\"{path_to_directory}/images/Set 1 - Drop low variance variables study.png\", bbox_inches='tight')\n",
    "    return results\n",
    "\n",
    "target = \"JURISDICTION_CODE\"\n",
    "train: DataFrame = read_csv(filepath_or_buffer=filename)\n",
    "\n",
    "eval_metric = \"recall\"\n",
    "train = train.head(200000)\n",
    "train, test = train_test_split(train, test_size=0.2, random_state=42)\n",
    "\n",
    "figure()\n",
    "study_variance_for_feature_selection(\n",
    "    train,\n",
    "    test,\n",
    "    target=target,\n",
    "    max_threshold=1.1,\n",
    "    lag=0.1,\n",
    "    metric=eval_metric,\n",
    "    file_tag=file_tag,\n",
    ")\n",
    "show()"
   ]
  },
  {
   "cell_type": "code",
   "execution_count": 29,
   "metadata": {},
   "outputs": [
    {
     "name": "stdout",
     "output_type": "stream",
     "text": [
      "Original data: train=(160000, 18), test=(40000, 18)\n",
      "After low variance FS: train_cp=(160000, 10), test_cp=(40000, 10)\n"
     ]
    }
   ],
   "source": [
    "def apply_feature_selection(\n",
    "    train: DataFrame,\n",
    "    test: DataFrame,\n",
    "    vars2drop: list,\n",
    "    filename: str = \"\",\n",
    "    tag: str = \"\",\n",
    ") -> tuple[DataFrame, DataFrame]:\n",
    "    train_copy: DataFrame = train.drop(vars2drop, axis=1, inplace=False)\n",
    "    train_copy.to_csv(f\"{filename}_train_{tag}.csv\", index=False)\n",
    "    test_copy: DataFrame = test.drop(vars2drop, axis=1, inplace=False)\n",
    "    test_copy.to_csv(f\"{filename}_test_{tag}.csv\", index=False)\n",
    "    return train_copy, test_copy\n",
    "\n",
    "\n",
    "vars2drop: list[str] = select_low_variance_variables(\n",
    "    train, max_threshold=0.9, target=target\n",
    ")\n",
    "train_cp, test_cp = apply_feature_selection(\n",
    "    train, test, vars2drop, filename=f\"{path_to_directory}/datasets/{file_tag}\", tag=\"lowvar\"\n",
    ")\n",
    "print(f\"Original data: train={train.shape}, test={test.shape}\")\n",
    "print(f\"After low variance FS: train_cp={train_cp.shape}, test_cp={test_cp.shape}\")"
   ]
  },
  {
   "cell_type": "markdown",
   "metadata": {},
   "source": [
    "Methodology"
   ]
  },
  {
   "cell_type": "code",
   "execution_count": 30,
   "metadata": {},
   "outputs": [
    {
     "name": "stdout",
     "output_type": "stream",
     "text": [
      "{'accuracy': [0.951925, 0.976425], 'recall': [np.float64(0.0660676532769556), np.float64(0.7330866807610994)], 'precision': [np.float64(0.44483985765124556), np.float64(0.76)], 'auc': [np.float64(0.530987012321274), np.float64(0.8607965155668622)], 'f1': [np.float64(0.1150483202945237), np.float64(0.7463007801990853)]}\n"
     ]
    },
    {
     "data": {
      "image/png": "[encoded data removed]",
      "text/plain": [
       "<Figure size 600x450 with 1 Axes>"
      ]
     },
     "metadata": {},
     "output_type": "display_data"
    }
   ],
   "source": [
    "figure()\n",
    "eval_lowvar: dict[str, list] = evaluate_approach(train_cp, test_cp, target=target, metric=\"recall\")\n",
    "print(eval_lowvar)\n",
    "plot_multibar_chart(\n",
    "    [\"NB\", \"KNN\"], eval_lowvar, title=\"Drop low variance variables evaluation\", percentage=True\n",
    ")\n",
    "savefig(f\"{path_to_directory}/images/Set 1 - Drop low variance variables results.png\", bbox_inches='tight')\n",
    "show()"
   ]
  },
  {
   "cell_type": "markdown",
   "metadata": {},
   "source": [
    "### Dropping Redundant Variables"
   ]
  },
  {
   "cell_type": "code",
   "execution_count": 31,
   "metadata": {},
   "outputs": [
    {
     "name": "stdout",
     "output_type": "stream",
     "text": [
      "Original variables ['PD_CD' 'KY_CD' 'OFNS_DESC' 'LAW_CAT_CD' 'ARREST_BORO' 'ARREST_PRECINCT'\n",
      " 'JURISDICTION_CODE' 'AGE_GROUP' 'PERP_SEX' 'PERP_RACE' 'X_COORD_CD'\n",
      " 'Y_COORD_CD' 'Latitude' 'Longitude' 'Year' 'Day' 'Month_sin' 'Month_cos']\n",
      "Variables to drop ['LAW_CAT_CD', 'Longitude', 'Latitude']\n"
     ]
    }
   ],
   "source": [
    "from pandas import Series\n",
    "\n",
    "def select_redundant_variables(\n",
    "    data: DataFrame, min_threshold: float = 0.90, target: str = \"class\"\n",
    ") -> list:\n",
    "    df: DataFrame = data.drop(target, axis=1, inplace=False)\n",
    "    corr_matrix: DataFrame = abs(df.corr())\n",
    "    variables: Index[str] = corr_matrix.columns\n",
    "    vars2drop: list = []\n",
    "    for v1 in variables:\n",
    "        if v1 not in vars2drop:\n",
    "            vars_corr: Series = (corr_matrix[v1]).loc[corr_matrix[v1] >= min_threshold]\n",
    "            vars_corr.drop(v1, inplace=True)\n",
    "            if len(vars_corr) > 0:\n",
    "                lst_corr = list(vars_corr.index)\n",
    "                for v2 in lst_corr:\n",
    "                    if v2 not in vars2drop:\n",
    "                        vars2drop.append(v2)\n",
    "    return vars2drop\n",
    "\n",
    "print(\"Original variables\", train.columns.values)\n",
    "vars2drop: list[str] = select_redundant_variables(\n",
    "    train, target=target, min_threshold=0.5\n",
    ")\n",
    "print(\"Variables to drop\", vars2drop)"
   ]
  },
  {
   "cell_type": "code",
   "execution_count": 32,
   "metadata": {},
   "outputs": [
    {
     "data": {
      "image/png": "[encoded data removed]",
      "text/plain": [
       "<Figure size 600x450 with 1 Axes>"
      ]
     },
     "metadata": {},
     "output_type": "display_data"
    }
   ],
   "source": [
    "def study_redundancy_for_feature_selection(\n",
    "    train: DataFrame,\n",
    "    test: DataFrame,\n",
    "    target: str = \"class\",\n",
    "    min_threshold: float = 0.90,\n",
    "    lag: float = 0.05,\n",
    "    metric: str = \"accuracy\",\n",
    "    file_tag: str = \"\",\n",
    ") -> dict:\n",
    "    options: list[float] = [\n",
    "        round(min_threshold + i * lag, 3)\n",
    "        for i in range(ceil((1 - min_threshold) / lag) + 1)\n",
    "    ]\n",
    "\n",
    "    # Create a list to track valid thresholds\n",
    "    valid_thresholds = []\n",
    "\n",
    "    df: DataFrame = train.drop(target, axis=1, inplace=False)\n",
    "    corr_matrix: DataFrame = abs(df.corr())\n",
    "    variables: Index[str] = corr_matrix.columns\n",
    "    results: dict[str, list] = {\"NB\": [], \"KNN\": []}\n",
    "    for thresh in options:\n",
    "        vars2drop: list = []\n",
    "        for v1 in variables:\n",
    "            if v1 not in vars2drop:\n",
    "                vars_corr: Series = (corr_matrix[v1]).loc[corr_matrix[v1] >= thresh]\n",
    "                vars_corr.drop(v1, inplace=True)\n",
    "                if len(vars_corr) > 0:\n",
    "                    lst_corr = list(vars_corr.index)\n",
    "                    for v2 in lst_corr:\n",
    "                        if v2 not in vars2drop:\n",
    "                            vars2drop.append(v2)\n",
    "\n",
    "        train_copy: DataFrame = train.drop(vars2drop, axis=1, inplace=False)\n",
    "        test_copy: DataFrame = test.drop(vars2drop, axis=1, inplace=False)\n",
    "        eval: dict | None = evaluate_approach(\n",
    "            train_copy, test_copy, target=target, metric=metric\n",
    "        )\n",
    "        if eval:  # Check if eval is not empty\n",
    "            valid_thresholds.append(thresh)\n",
    "            results[\"NB\"].append(eval[metric][0])\n",
    "            results[\"KNN\"].append(eval[metric][1])\n",
    "        else:\n",
    "            print(f\"Skipping threshold {thresh} due to empty evaluation results.\")\n",
    "\n",
    "    plot_multiline_chart(\n",
    "        # options,\n",
    "        valid_thresholds,\n",
    "        results,\n",
    "        title=f\"Drop redundant variables study\",\n",
    "        xlabel=\"correlation threshold\",\n",
    "        ylabel=metric,\n",
    "        percentage=True,\n",
    "    )\n",
    "    savefig(f\"{path_to_directory}/images/Set 1 - Drop redundant variables study.png\", bbox_inches='tight')\n",
    "    return results\n",
    "\n",
    "\n",
    "target = \"JURISDICTION_CODE\"\n",
    "train: DataFrame = read_csv(filepath_or_buffer=filename)\n",
    "train = train.head(100000)\n",
    "\n",
    "eval_metric = \"recall\"\n",
    "train, test = train_test_split(train, test_size=0.2, random_state=42)\n",
    "\n",
    "# figure(figsize=(2 * HEIGHT, HEIGHT))\n",
    "figure()\n",
    "study_redundancy_for_feature_selection(\n",
    "    train,\n",
    "    test,\n",
    "    target=target,\n",
    "    min_threshold=0.25,\n",
    "    lag=0.05,\n",
    "    metric=eval_metric,\n",
    "    file_tag=file_tag,\n",
    ")\n",
    "show()"
   ]
  },
  {
   "cell_type": "code",
   "execution_count": 33,
   "metadata": {},
   "outputs": [
    {
     "name": "stdout",
     "output_type": "stream",
     "text": [
      "Original data: train=(80000, 18), test=(20000, 18)\n",
      "After redundant FS: train_cp=(80000, 15), test_cp=(20000, 15)\n"
     ]
    }
   ],
   "source": [
    "vars2drop: list[str] = select_redundant_variables(\n",
    "    train, min_threshold=0.8, target=target\n",
    ")\n",
    "train_cp, test_cp = apply_feature_selection(\n",
    "    train, test, vars2drop, filename=f\"{path_to_directory}/datasets/{file_tag}\", tag=\"redundant\"\n",
    ")\n",
    "print(f\"Original data: train={train.shape}, test={test.shape}\")\n",
    "print(f\"After redundant FS: train_cp={train_cp.shape}, test_cp={test_cp.shape}\")"
   ]
  },
  {
   "cell_type": "markdown",
   "metadata": {},
   "source": [
    "Methodology"
   ]
  },
  {
   "cell_type": "code",
   "execution_count": 34,
   "metadata": {},
   "outputs": [
    {
     "name": "stdout",
     "output_type": "stream",
     "text": [
      "{'accuracy': [0.95515, 0.9772], 'recall': [np.float64(0.07017543859649122), np.float64(0.7521929824561403)], 'precision': [np.float64(0.5663716814159292), np.float64(0.7489082969432315)], 'auc': [np.float64(0.5338041903795532), np.float64(0.8700717636505345)], 'f1': [np.float64(0.1248780487804878), np.float64(0.75054704595186)]}\n"
     ]
    },
    {
     "data": {
      "image/png": "[encoded data removed]",
      "text/plain": [
       "<Figure size 600x450 with 1 Axes>"
      ]
     },
     "metadata": {},
     "output_type": "display_data"
    }
   ],
   "source": [
    "figure()\n",
    "eval_redundant: dict[str, list] = evaluate_approach(train_cp, test_cp, target=target, metric=\"recall\")\n",
    "print(eval_redundant)\n",
    "plot_multibar_chart(\n",
    "    [\"NB\", \"KNN\"], eval_redundant, title=\"Drop redundant variables evaluation\", percentage=True\n",
    ")\n",
    "savefig(f\"{path_to_directory}/images/Set 1 - Drop redundant variables results.png\", bbox_inches='tight')\n",
    "show()"
   ]
  },
  {
   "cell_type": "markdown",
   "metadata": {},
   "source": [
    "### Feature Engineering method evaluation\n",
    "Assuming the best_eval comes from missing values"
   ]
  },
  {
   "cell_type": "code",
   "execution_count": 35,
   "metadata": {},
   "outputs": [
    {
     "name": "stdout",
     "output_type": "stream",
     "text": [
      "original: Mean NB = 0.47480014466616083, Mean KNN = 0.8163348488727392\n",
      "lowvar: Mean NB = 0.42177356870879973, Mean KNN = 0.8153217953054094\n",
      "redundant: Mean NB = 0.45007587183449227, Mean KNN = 0.8197840178003533\n",
      "\n",
      "Best Mean NB: 0.47480014466616083 from original\n",
      "Best Mean KNN: 0.8197840178003533 from redundant\n",
      "\n",
      "Continuing with redundant with mean 0.8197840178003533\n"
     ]
    }
   ],
   "source": [
    "evaluations = {\"original\": eval_missing, \"lowvar\": eval_lowvar, \"redundant\": eval_redundant}\n",
    "\n",
    "aux_best_eval = best_eval\n",
    "best_mean = -float(\"inf\")\n",
    "best_mean_NB = -float(\"inf\")\n",
    "best_mean_KNN = -float(\"inf\")\n",
    "best_eval = None\n",
    "best_eval_NB = None\n",
    "best_eval_KNN = None\n",
    "\n",
    "for eval_name, eval_dict in evaluations.items():\n",
    "    # Calculate mean for NB and KNN using generator expressions\n",
    "    mean_NB = sum(eval_dict[metric][0] for metric in [\"accuracy\", \"recall\", \"precision\", \"auc\", \"f1\"]) / 5\n",
    "    mean_KNN = sum(eval_dict[metric][1] for metric in [\"accuracy\", \"recall\", \"precision\", \"auc\", \"f1\"]) / 5\n",
    "    \n",
    "    # Print means\n",
    "    print(f\"{eval_name}: Mean NB = {mean_NB}, Mean KNN = {mean_KNN}\")\n",
    "\n",
    "    # Update the best mean for NB\n",
    "    if mean_NB > best_mean_NB:\n",
    "        best_mean_NB = mean_NB\n",
    "        best_eval_NB = eval_name\n",
    "\n",
    "    # Update the best mean for KNN\n",
    "    if mean_KNN > best_mean_KNN:\n",
    "        best_mean_KNN = mean_KNN\n",
    "        best_eval_KNN = eval_name\n",
    "\n",
    "# Print the best mean scores\n",
    "print(f\"\\nBest Mean NB: {best_mean_NB} from {best_eval_NB}\")\n",
    "print(f\"Best Mean KNN: {best_mean_KNN} from {best_eval_KNN}\")\n",
    "\n",
    "if best_mean_NB > best_mean_KNN:\n",
    "    best_mean = best_mean_NB\n",
    "    best_eval = best_eval_NB\n",
    "else:\n",
    "    best_mean = best_mean_KNN\n",
    "    best_eval = best_eval_KNN\n",
    "\n",
    "# Print the best mean scores\n",
    "print(f\"\\nContinuing with {best_eval} with mean {best_mean}\")\n",
    "\n",
    "# Determine the filename based on the best evaluations\n",
    "if best_eval == f\"{aux_best_eval}\":\n",
    "    filename = f\"{path_to_directory}/datasets/{file_tag}_missing_values.csv\"\n",
    "    best_eval_dict = best_eval_dict\n",
    "elif best_eval == \"lowvar\":\n",
    "    filename_train = f\"{path_to_directory}/datasets/{file_tag}_train_lowvar.csv\"\n",
    "    filename_test = f\"{path_to_directory}/datasets/{file_tag}_test_lowvar.csv\"\n",
    "    best_eval_dict = eval_lowvar\n",
    "elif best_eval == \"redundant\":\n",
    "    filename_train = f\"{path_to_directory}/datasets/{file_tag}_train_redundant.csv\"\n",
    "    filename_test = f\"{path_to_directory}/datasets/{file_tag}_test_redundant.csv\"\n",
    "    best_eval_dict = eval_redundant"
   ]
  },
  {
   "cell_type": "markdown",
   "metadata": {},
   "source": [
    "Droping redundant values gave better results, so we will proceed with that daatset"
   ]
  },
  {
   "cell_type": "markdown",
   "metadata": {},
   "source": [
    "# **Balancing**"
   ]
  },
  {
   "cell_type": "code",
   "execution_count": 36,
   "metadata": {},
   "outputs": [
    {
     "name": "stdout",
     "output_type": "stream",
     "text": [
      "Minority class= 1 : 3811\n",
      "Majority class= 0 : 76189\n",
      "Proportion: 0.05 : 1\n"
     ]
    },
    {
     "data": {
      "image/png": "[encoded data removed]",
      "text/plain": [
       "<Figure size 600x450 with 1 Axes>"
      ]
     },
     "metadata": {},
     "output_type": "display_data"
    }
   ],
   "source": [
    "from pandas import read_csv, concat, DataFrame, Series\n",
    "from matplotlib.pyplot import figure, show\n",
    "from dslabs_functions import plot_bar_chart\n",
    "\n",
    "original: DataFrame = read_csv(filepath_or_buffer=f\"{filename_train}\", sep=\",\", decimal=\".\")\n",
    "test: DataFrame = read_csv(filepath_or_buffer=f\"{filename_test}\", sep=\",\", decimal=\".\")\n",
    "\n",
    "target_count: Series = original[target].value_counts()\n",
    "positive_class = target_count.idxmin()\n",
    "negative_class = target_count.idxmax()\n",
    "\n",
    "print(\"Minority class=\", positive_class, \":\", target_count[positive_class])\n",
    "print(\"Majority class=\", negative_class, \":\", target_count[negative_class])\n",
    "print(\n",
    "    \"Proportion:\",\n",
    "    round(target_count[positive_class] / target_count[negative_class], 2),\n",
    "    \": 1\",\n",
    ")\n",
    "values: dict[str, list] = {\n",
    "    \"Original\": [target_count[positive_class], target_count[negative_class]]\n",
    "}\n",
    "\n",
    "figure()\n",
    "plot_bar_chart(\n",
    "    target_count.index.to_list(), target_count.to_list(), title=\"Class balance\"\n",
    ")\n",
    "show()"
   ]
  },
  {
   "cell_type": "code",
   "execution_count": 37,
   "metadata": {},
   "outputs": [],
   "source": [
    "df_positives: Series = original[original[target] == positive_class]\n",
    "df_negatives: Series = original[original[target] == negative_class]"
   ]
  },
  {
   "cell_type": "markdown",
   "metadata": {},
   "source": [
    "<h3>Undersampling</h3>"
   ]
  },
  {
   "cell_type": "code",
   "execution_count": 38,
   "metadata": {},
   "outputs": [
    {
     "name": "stdout",
     "output_type": "stream",
     "text": [
      "Minority class= 1 : 3811\n",
      "Majority class= 0 : 3811\n",
      "Proportion: 1.0 : 1\n"
     ]
    }
   ],
   "source": [
    "df_neg_sample: DataFrame = DataFrame(df_negatives.sample(len(df_positives), random_state=42))\n",
    "df_under: DataFrame = concat([df_positives, df_neg_sample], axis=0)\n",
    "df_under.to_csv(f\"{path_to_directory}/datasets/{file_tag}_undersampling.csv\", index=False)\n",
    "\n",
    "print(\"Minority class=\", positive_class, \":\", len(df_positives))\n",
    "print(\"Majority class=\", negative_class, \":\", len(df_neg_sample))\n",
    "print(\"Proportion:\", round(len(df_positives) / len(df_neg_sample), 2), \": 1\")"
   ]
  },
  {
   "cell_type": "markdown",
   "metadata": {},
   "source": [
    "Methodology"
   ]
  },
  {
   "cell_type": "code",
   "execution_count": 39,
   "metadata": {},
   "outputs": [
    {
     "name": "stdout",
     "output_type": "stream",
     "text": [
      "{'accuracy': [0.2408, 0.86155], 'recall': [np.float64(0.8223684210526315), np.float64(0.9024122807017544)], 'precision': [np.float64(0.04755262490489475), np.float64(0.23494147873251497)], 'auc': [np.float64(0.5176909163100543), np.float64(0.881004966838723)], 'f1': [np.float64(0.08990649724286742), np.float64(0.3728199320498301)]}\n"
     ]
    },
    {
     "data": {
      "image/png": "[encoded data removed]",
      "text/plain": [
       "<Figure size 600x450 with 1 Axes>"
      ]
     },
     "metadata": {},
     "output_type": "display_data"
    }
   ],
   "source": [
    "figure()\n",
    "eval_undersampling: dict[str, list] = evaluate_approach(df_under, test, target=target, metric=\"recall\")\n",
    "print(eval_undersampling)\n",
    "plot_multibar_chart(\n",
    "    [\"NB\", \"KNN\"], eval_undersampling, title=\"Undersampling evaluation\", percentage=True\n",
    ")\n",
    "savefig(f\"{path_to_directory}/images/Set 1 - Undersampling results.png\", bbox_inches='tight')\n",
    "show()"
   ]
  },
  {
   "cell_type": "markdown",
   "metadata": {},
   "source": [
    "<h3>Oversampling</h3>"
   ]
  },
  {
   "cell_type": "code",
   "execution_count": 40,
   "metadata": {},
   "outputs": [
    {
     "name": "stdout",
     "output_type": "stream",
     "text": [
      "Minority class= 1 : 76189\n",
      "Majority class= 0 : 76189\n",
      "Proportion: 1.0 : 1\n"
     ]
    }
   ],
   "source": [
    "df_pos_sample: DataFrame = DataFrame(\n",
    "    df_positives.sample(len(df_negatives), replace=True, random_state=42)\n",
    ")\n",
    "df_over: DataFrame = concat([df_pos_sample, df_negatives], axis=0)\n",
    "df_over.to_csv(f\"{path_to_directory}/datasets/{file_tag}_oversampling.csv\", index=False)\n",
    "\n",
    "print(\"Minority class=\", positive_class, \":\", len(df_pos_sample))\n",
    "print(\"Majority class=\", negative_class, \":\", len(df_negatives))\n",
    "print(\"Proportion:\", round(len(df_pos_sample) / len(df_negatives), 2), \": 1\")"
   ]
  },
  {
   "cell_type": "markdown",
   "metadata": {},
   "source": [
    "Methodology"
   ]
  },
  {
   "cell_type": "code",
   "execution_count": 41,
   "metadata": {},
   "outputs": [
    {
     "name": "stdout",
     "output_type": "stream",
     "text": [
      "{'accuracy': [0.2408, 0.89235], 'recall': [np.float64(0.8223684210526315), np.float64(0.8947368421052632)], 'precision': [np.float64(0.04755262490489475), np.float64(0.28402366863905326)], 'auc': [np.float64(0.5176909163100543), np.float64(0.8934864009352804)], 'f1': [np.float64(0.08990649724286742), np.float64(0.4311756935270806)]}\n"
     ]
    },
    {
     "data": {
      "image/png": "[encoded data removed]",
      "text/plain": [
       "<Figure size 600x450 with 1 Axes>"
      ]
     },
     "metadata": {},
     "output_type": "display_data"
    }
   ],
   "source": [
    "# Because CLASS column was removed\n",
    "test: DataFrame = read_csv(filepath_or_buffer=f\"{filename_test}\", sep=\",\", decimal=\".\")\n",
    "\n",
    "figure()\n",
    "eval_oversampling: dict[str, list] = evaluate_approach(df_over, test, target=target, metric=\"recall\")\n",
    "print(eval_oversampling)\n",
    "plot_multibar_chart(\n",
    "    [\"NB\", \"KNN\"], eval_oversampling, title=\"Oversampling evaluation\", percentage=True\n",
    ")\n",
    "savefig(f\"{path_to_directory}/images/Set 1 - Oversampling results.png\", bbox_inches='tight')\n",
    "show()"
   ]
  },
  {
   "cell_type": "markdown",
   "metadata": {},
   "source": [
    "<h3>SMOTE</h3>"
   ]
  },
  {
   "cell_type": "code",
   "execution_count": 42,
   "metadata": {},
   "outputs": [
    {
     "name": "stdout",
     "output_type": "stream",
     "text": [
      "Minority class= 1 : 76189\n",
      "Majority class= 0 : 76189\n",
      "Proportion: 1.0 : 1\n",
      "(152378, 15)\n"
     ]
    }
   ],
   "source": [
    "from numpy import ndarray\n",
    "from pandas import Series\n",
    "from imblearn.over_sampling import SMOTE\n",
    "\n",
    "RANDOM_STATE = 42\n",
    "\n",
    "smote: SMOTE = SMOTE(sampling_strategy=\"minority\", random_state=RANDOM_STATE)\n",
    "y = original.pop(target).values\n",
    "X: ndarray = original.values\n",
    "smote_X, smote_y = smote.fit_resample(X, y)\n",
    "df_smote: DataFrame = concat([DataFrame(smote_X), DataFrame(smote_y)], axis=1)\n",
    "df_smote.columns = list(original.columns) + [target]\n",
    "df_smote.to_csv(f\"{path_to_directory}/datasets/{file_tag}_smote.csv\", index=False)\n",
    "\n",
    "smote_target_count: Series = Series(smote_y).value_counts()\n",
    "print(\"Minority class=\", positive_class, \":\", smote_target_count[positive_class])\n",
    "print(\"Majority class=\", negative_class, \":\", smote_target_count[negative_class])\n",
    "print(\n",
    "    \"Proportion:\",\n",
    "    round(smote_target_count[positive_class] / smote_target_count[negative_class], 2),\n",
    "    \": 1\",\n",
    ")\n",
    "print(df_smote.shape)"
   ]
  },
  {
   "cell_type": "markdown",
   "metadata": {},
   "source": [
    "Methodology"
   ]
  },
  {
   "cell_type": "code",
   "execution_count": 43,
   "metadata": {},
   "outputs": [
    {
     "name": "stdout",
     "output_type": "stream",
     "text": [
      "{'accuracy': [0.6098, 0.9275], 'recall': [np.float64(0.6381578947368421), np.float64(0.8728070175438597)], 'precision': [np.float64(0.07224428997020854), np.float64(0.37370892018779345)], 'auc': [np.float64(0.6233014955662417), np.float64(0.9014600888222232)], 'f1': [np.float64(0.12979482604817127), np.float64(0.5233399079552926)]}\n"
     ]
    },
    {
     "data": {
      "image/png": "[encoded data removed]",
      "text/plain": [
       "<Figure size 600x450 with 1 Axes>"
      ]
     },
     "metadata": {},
     "output_type": "display_data"
    }
   ],
   "source": [
    "# Because CLASS column was removed\n",
    "test: DataFrame = read_csv(filepath_or_buffer=f\"{filename_test}\", sep=\",\", decimal=\".\")\n",
    "\n",
    "figure()\n",
    "eval_smote: dict[str, list] = evaluate_approach(df_smote, test, target=target, metric=\"recall\")\n",
    "print(eval_smote)\n",
    "plot_multibar_chart(\n",
    "    [\"NB\", \"KNN\"], eval_smote, title=\"SMOTE evaluation\", percentage=True\n",
    ")\n",
    "savefig(f\"{path_to_directory}/images/Set 1 - SMOTE results.png\", bbox_inches='tight')\n",
    "show()"
   ]
  },
  {
   "cell_type": "markdown",
   "metadata": {},
   "source": [
    "### Balancing method evaluation"
   ]
  },
  {
   "cell_type": "code",
   "execution_count": 44,
   "metadata": {},
   "outputs": [
    {
     "name": "stdout",
     "output_type": "stream",
     "text": [
      "Continuing from redundant with mean 0.8197840178003533\n",
      "\n",
      "redundant: Mean NB = 0.45007587183449227, Mean KNN = 0.8197840178003533\n",
      "undersampling: Mean NB = 0.34366369190208956, Mean KNN = 0.6505457316645644\n",
      "oversampling: Mean NB = 0.34366369190208956, Mean KNN = 0.6791545210413356\n",
      "smote: Mean NB = 0.41465970126429275, Mean KNN = 0.7197631869018337\n",
      "\n",
      "Best Mean NB: 0.45007587183449227 from redundant\n",
      "Best Mean KNN: 0.8197840178003533 from redundant\n",
      "\n",
      "Continuing with redundant with mean 0.8197840178003533\n"
     ]
    }
   ],
   "source": [
    "print(f\"Continuing from {best_eval} with mean {best_mean}\\n\")\n",
    "\n",
    "evaluations = {f\"{best_eval}\": best_eval_dict, \"undersampling\": eval_undersampling, \"oversampling\": eval_oversampling, \"smote\": eval_smote}\n",
    "# evaluations = {f\"{best_eval}\": best_eval_dict, \"oversampling\": eval_oversampling, \"smote\": eval_smote}\n",
    "\n",
    "aux_best_eval = best_eval\n",
    "best_mean = -float(\"inf\")\n",
    "best_mean_NB = -float(\"inf\")\n",
    "best_mean_KNN = -float(\"inf\")\n",
    "best_eval = None\n",
    "best_eval_NB = None\n",
    "best_eval_KNN = None\n",
    "\n",
    "for eval_name, eval_dict in evaluations.items():\n",
    "    # Calculate mean for NB and KNN using generator expressions\n",
    "    mean_NB = sum(eval_dict[metric][0] for metric in [\"accuracy\", \"recall\", \"precision\", \"auc\", \"f1\"]) / 5\n",
    "    mean_KNN = sum(eval_dict[metric][1] for metric in [\"accuracy\", \"recall\", \"precision\", \"auc\", \"f1\"]) / 5\n",
    "    \n",
    "    # Print means\n",
    "    print(f\"{eval_name}: Mean NB = {mean_NB}, Mean KNN = {mean_KNN}\")\n",
    "\n",
    "    # Update the best mean for NB\n",
    "    if mean_NB > best_mean_NB:\n",
    "        best_mean_NB = mean_NB\n",
    "        best_eval_NB = eval_name\n",
    "\n",
    "    # Update the best mean for KNN\n",
    "    if mean_KNN > best_mean_KNN:\n",
    "        best_mean_KNN = mean_KNN\n",
    "        best_eval_KNN = eval_name\n",
    "\n",
    "# Print the best mean scores\n",
    "print(f\"\\nBest Mean NB: {best_mean_NB} from {best_eval_NB}\")\n",
    "print(f\"Best Mean KNN: {best_mean_KNN} from {best_eval_KNN}\")\n",
    "\n",
    "if best_mean_NB > best_mean_KNN:\n",
    "    best_mean = best_mean_NB\n",
    "    best_eval = best_eval_NB\n",
    "else:\n",
    "    best_mean = best_mean_KNN\n",
    "    best_eval = best_eval_KNN\n",
    "\n",
    "# Print the best mean scores\n",
    "print(f\"\\nContinuing with {best_eval} with mean {best_mean}\")\n",
    "\n",
    "# Determine the filename based on the best evaluations\n",
    "if best_eval == f\"{aux_best_eval}\":\n",
    "    filename_train = f\"{path_to_directory}/datasets/{file_tag}_train_lowvar.csv\"\n",
    "    best_eval_dict = eval_lowvar\n",
    "elif best_eval == \"undersampling\":\n",
    "    filename_train = f\"{path_to_directory}/datasets/{file_tag}_undersampling.csv\"\n",
    "elif best_eval == \"oversampling\":\n",
    "    filename_train = f\"{path_to_directory}/datasets/{file_tag}_oversampling.csv\"\n",
    "elif best_eval == \"smote\":\n",
    "    filename_train = f\"{path_to_directory}/datasets/{file_tag}_smote.csv\"\n",
    "\n",
    "filename_test = filename_test"
   ]
  },
  {
   "cell_type": "markdown",
   "metadata": {},
   "source": [
    "<h3>Best model seems to be with Encoding, Drop Missing Values, no Outliers inputation, no Scaling, droping Redundant variables and no balancing</h3>"
   ]
  }
 ],
 "metadata": {
  "kernelspec": {
   "display_name": "Python 3",
   "language": "python",
   "name": "python3"
  },
  "language_info": {
   "codemirror_mode": {
    "name": "ipython",
    "version": 3
   },
   "file_extension": ".py",
   "mimetype": "text/x-python",
   "name": "python",
   "nbconvert_exporter": "python",
   "pygments_lexer": "ipython3",
   "version": "3.9.6"
  }
 },
 "nbformat": 4,
 "nbformat_minor": 2
}
